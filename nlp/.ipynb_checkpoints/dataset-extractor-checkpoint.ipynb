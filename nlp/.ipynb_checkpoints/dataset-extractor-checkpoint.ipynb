{
 "cells": [
  {
   "cell_type": "code",
   "execution_count": 13,
   "metadata": {},
   "outputs": [],
   "source": [
    "import requests\n",
    "import csv"
   ]
  },
  {
   "cell_type": "code",
   "execution_count": 20,
   "metadata": {},
   "outputs": [],
   "source": [
    "URL = \"http://noticias.gov.br/noticias-api/noticias/busca\"\n",
    "PARAMS = {'b':'esporte','wt':'json'}\n",
    "request = requests.get(url = URL, params = PARAMS) \n",
    "\n",
    "news_csv = [['category', 'title', 'summary','text']]\n",
    "\n",
    "# extracting data in json format \n",
    "data = request.json()\n",
    "news_list = data['resultado']['noticias']['noticia']\n",
    "with open('news_dataset.csv', 'w') as file:\n",
    "    cr = csv.writer(file,delimiter=\";\",lineterminator=\"\\n\")\n",
    "    for news in news_list:\n",
    "        cr.writerow(['esporte', news['titulo'].encode('utf-8').strip(), news['resumo'].encode('utf-8').strip(), news['descricao'].encode('utf-8').strip()])\n",
    "        #news_csv.append([1, 'esporte', news['titulo'], news['resumo'], news['descricao']])"
   ]
  }
 ],
 "metadata": {
  "kernelspec": {
   "display_name": "Python 2",
   "language": "python",
   "name": "python2"
  },
  "language_info": {
   "codemirror_mode": {
    "name": "ipython",
    "version": 2
   },
   "file_extension": ".py",
   "mimetype": "text/x-python",
   "name": "python",
   "nbconvert_exporter": "python",
   "pygments_lexer": "ipython2",
   "version": "2.7.16"
  }
 },
 "nbformat": 4,
 "nbformat_minor": 2
}
