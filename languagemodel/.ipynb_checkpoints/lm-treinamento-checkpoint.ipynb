{
 "cells": [
  {
   "cell_type": "markdown",
   "metadata": {
    "nbpresent": {
     "id": "e38c0aad-6ca2-456d-b908-cbbec3c9e34d"
    }
   },
   "source": [
    "# (MultiFiT) Portuguese Bidirectional Language Model (LM) from scratch\n",
    "### (architecture 4 QRNN with 1550 hidden parameters by layer, SentencePiece tokenizer and hyperparameters from the MultiFiT method)"
   ]
  },
  {
   "cell_type": "markdown",
   "metadata": {},
   "source": [
    "**Information**\n",
    "\n",
    "According to this new article \"[MultiFiT: Efficient Multi-lingual Language Model Fine-tuning](https://arxiv.org/abs/1909.04761)\" (September 10, 2019), the architecture QRNN and the SentencePiece tokenizer give better results than AWD-LSTM and the spaCy tokenizer respectively. Therefore, they have been used in this notebook to train a Portuguese Bidirectional Language Model on a Wikipedia corpus of 100 millions tokens. \n",
    "\n",
    "More, the hyperparameters values given at the end of the article have been used, too.\n",
    "\n",
    "**Wikipedia corpus**\n",
    "- download: 193 651 articles of 182 536 221 tokens\n",
    "- used: 166 580 articles of 100 255 322 tokens\n",
    "\n",
    "**Hyperparameters values**\n",
    "- (batch size) bs = 50\n",
    "- (QRNN) 4 QRNN (default: 3) with 1550 hidden parameters each one (default: 1152)\n",
    "- (SentencePiece) vocab of 15000 tokens\n",
    "- (dropout) mult_drop = 0\n",
    "- (weight decay) wd = 0.01\n",
    "- (number of training epochs) 10 epochs"
   ]
  },
  {
   "cell_type": "markdown",
   "metadata": {
    "heading_collapsed": true
   },
   "source": [
    "## Initialization"
   ]
  },
  {
   "cell_type": "code",
   "execution_count": 1,
   "metadata": {
    "hidden": true,
    "nbpresent": {
     "id": "151cd18f-76e3-440f-a8c7-ffa5c6b5da01"
    }
   },
   "outputs": [],
   "source": [
    "from fastai import *\n",
    "from fastai.text import *\n",
    "from fastai.callbacks import *\n",
    "\n",
    "import matplotlib.pyplot as plt\n",
    "\n",
    "%reload_ext autoreload\n",
    "%autoreload 2\n",
    "%matplotlib inline"
   ]
  },
  {
   "cell_type": "code",
   "execution_count": 2,
   "metadata": {
    "hidden": true,
    "nbpresent": {
     "id": "6ceb4db2-e4cf-4fe0-a393-91df4a7ed3e7"
    }
   },
   "outputs": [],
   "source": [
    "torch.cuda.set_device(0)"
   ]
  },
  {
   "cell_type": "code",
   "execution_count": 3,
   "metadata": {
    "hidden": true,
    "nbpresent": {
     "id": "6329e650-fc03-4323-ac0c-3aa280e0de91"
    }
   },
   "outputs": [
    {
     "name": "stdout",
     "output_type": "stream",
     "text": [
      "fastai: 1.0.60\n",
      "cuda: True\n"
     ]
    }
   ],
   "source": [
    "import fastai\n",
    "print(f'fastai: {fastai.__version__}')\n",
    "print(f'cuda: {torch.cuda.is_available()}')"
   ]
  },
  {
   "cell_type": "code",
   "execution_count": 4,
   "metadata": {
    "hidden": true,
    "nbpresent": {
     "id": "6f24e68b-3df0-4997-8a50-3a37ea6a5257"
    }
   },
   "outputs": [
    {
     "name": "stdout",
     "output_type": "stream",
     "text": [
      "\r\n",
      "\r\n",
      "```text\r\n",
      "=== Software === \r\n",
      "python        : 3.7.7\r\n",
      "fastai        : 1.0.60\r\n",
      "fastprogress  : 0.2.2\r\n",
      "torch         : 1.4.0\r\n",
      "nvidia driver : 440.82\r\n",
      "torch cuda    : 10.1 / is available\r\n",
      "torch cudnn   : 7603 / is enabled\r\n",
      "\r\n",
      "=== Hardware === \r\n",
      "nvidia gpus   : 1\r\n",
      "torch devices : 1\r\n",
      "  - gpu0      : 8117MB | GeForce GTX 1070\r\n",
      "\r\n",
      "=== Environment === \r\n",
      "platform      : Linux-5.3.0-46-generic-x86_64-with-debian-buster-sid\r\n",
      "distro        : #38~18.04.1-Ubuntu SMP Tue Mar 31 04:17:56 UTC 2020\r\n",
      "conda env     : fastai\r\n",
      "python        : /home/wesley/anaconda3/envs/fastai/bin/python\r\n",
      "sys.path      : /mnt/dados/Github/ia-squad/languagemodel\r\n",
      "/home/wesley/anaconda3/envs/fastai/lib/python37.zip\r\n",
      "/home/wesley/anaconda3/envs/fastai/lib/python3.7\r\n",
      "/home/wesley/anaconda3/envs/fastai/lib/python3.7/lib-dynload\r\n",
      "/home/wesley/anaconda3/envs/fastai/lib/python3.7/site-packages\r\n",
      "/home/wesley/anaconda3/envs/fastai/lib/python3.7/site-packages/IPython/extensions\r\n",
      "```\r\n",
      "\r\n",
      "Please make sure to include opening/closing ``` when you paste into forums/github to make the reports appear formatted as code sections.\r\n",
      "\r\n",
      "Optional package(s) to enhance the diagnostics can be installed with:\r\n",
      "pip install distro\r\n",
      "Once installed, re-run this utility to get the additional information\r\n"
     ]
    }
   ],
   "source": [
    "!python -m fastai.utils.show_install"
   ]
  },
  {
   "cell_type": "code",
   "execution_count": 5,
   "metadata": {
    "hidden": true,
    "nbpresent": {
     "id": "194a6989-31f1-4702-b94d-32b974ded8e6"
    }
   },
   "outputs": [],
   "source": [
    "data_path = Config.data_path()"
   ]
  },
  {
   "cell_type": "markdown",
   "metadata": {
    "hidden": true,
    "nbpresent": {
     "id": "cf070ab7-babb-4cf0-a315-401f65461dc8"
    }
   },
   "source": [
    "This will create a `{lang}wiki` folder, containing a `{lang}wiki` text file with the wikipedia contents. (For other languages, replace `{lang}` with the appropriate code from the [list of wikipedias](https://meta.wikimedia.org/wiki/List_of_Wikipedias).)"
   ]
  },
  {
   "cell_type": "code",
   "execution_count": 6,
   "metadata": {},
   "outputs": [
    {
     "data": {
      "text/plain": [
       "'LC_CTYPE=pt_BR.UTF-8;LC_NUMERIC=pt_BR.UTF-8;LC_TIME=pt_BR.UTF-8;LC_COLLATE=en_US.UTF-8;LC_MONETARY=pt_BR.UTF-8;LC_MESSAGES=en_US.UTF-8;LC_PAPER=pt_BR.UTF-8;LC_NAME=pt_BR.UTF-8;LC_ADDRESS=pt_BR.UTF-8;LC_TELEPHONE=pt_BR.UTF-8;LC_MEASUREMENT=pt_BR.UTF-8;LC_IDENTIFICATION=pt_BR.UTF-8'"
      ]
     },
     "execution_count": 6,
     "metadata": {},
     "output_type": "execute_result"
    }
   ],
   "source": [
    "import locale\n",
    "locale.setlocale(locale.LC_ALL, '')"
   ]
  },
  {
   "cell_type": "code",
   "execution_count": 7,
   "metadata": {
    "hidden": true,
    "nbpresent": {
     "id": "70da588b-8af1-4f97-97c2-c9f2d4d46e1a"
    }
   },
   "outputs": [],
   "source": [
    "lang = 'pt'"
   ]
  },
  {
   "cell_type": "code",
   "execution_count": 8,
   "metadata": {
    "hidden": true,
    "nbpresent": {
     "id": "701ab344-0430-4f43-bbe2-337a12cae6be"
    }
   },
   "outputs": [],
   "source": [
    "name = f'{lang}wiki'\n",
    "path = data_path/name\n",
    "path.mkdir(exist_ok=True, parents=True)"
   ]
  },
  {
   "cell_type": "markdown",
   "metadata": {
    "heading_collapsed": true,
    "nbpresent": {
     "id": "bfe49910-58e0-4be3-aba1-7733dc18cca2"
    }
   },
   "source": [
    "## Data (Portuguese wikipedia)"
   ]
  },
  {
   "cell_type": "markdown",
   "metadata": {
    "heading_collapsed": true,
    "hidden": true,
    "nbpresent": {
     "id": "4e67d876-c7d0-4bdf-a6f9-ae06ae1fc023"
    }
   },
   "source": [
    "### Usar os arquivos já tratados no outro notebook"
   ]
  },
  {
   "cell_type": "code",
   "execution_count": 9,
   "metadata": {
    "hidden": true,
    "nbpresent": {
     "id": "dd2fd658-b690-484c-b60a-69dc6b7bf384"
    }
   },
   "outputs": [],
   "source": [
    "#from nlputils import split_wiki,get_wiki\n",
    "from nlputils2 import *"
   ]
  },
  {
   "cell_type": "code",
   "execution_count": 10,
   "metadata": {
    "hidden": true,
    "nbpresent": {
     "id": "92b0b087-a6a8-403a-a7a1-d9b47757e5cf"
    },
    "scrolled": true
   },
   "outputs": [
    {
     "data": {
      "text/plain": [
       "[PosixPath('/home/wesley/.fastai/data/ptwiki/docs/Mariner_10_59459.txt'),\n",
       " PosixPath('/home/wesley/.fastai/data/ptwiki/docs/Thunderbolts_52556.txt'),\n",
       " PosixPath('/home/wesley/.fastai/data/ptwiki/docs/Recarei_2450.txt'),\n",
       " PosixPath('/home/wesley/.fastai/data/ptwiki/docs/Leopardo_de_amur_32655.txt'),\n",
       " PosixPath('/home/wesley/.fastai/data/ptwiki/docs/Miofibroblasto_136449.txt')]"
      ]
     },
     "execution_count": 10,
     "metadata": {},
     "output_type": "execute_result"
    }
   ],
   "source": [
    "path_docs = path/'docs'\n",
    "path_docs.ls()[:5]"
   ]
  },
  {
   "cell_type": "markdown",
   "metadata": {
    "heading_collapsed": true,
    "hidden": true,
    "nbpresent": {
     "id": "575fa672-7b3a-4238-923f-ec929d3a00ee"
    }
   },
   "source": [
    "### Size of downloaded data in the docs folder"
   ]
  },
  {
   "cell_type": "code",
   "execution_count": 11,
   "metadata": {
    "hidden": true,
    "nbpresent": {
     "id": "270470c2-e0eb-446a-9654-de6c45bc4f0d"
    }
   },
   "outputs": [
    {
     "name": "stdout",
     "output_type": "stream",
     "text": [
      "66.341 files - 96.838.303 tokens - 1.919.394 unique tokens\n",
      "CPU times: user 30.4 s, sys: 2.06 s, total: 32.4 s\n",
      "Wall time: 37.1 s\n"
     ]
    }
   ],
   "source": [
    "%%time\n",
    "\n",
    "# analisando o numero de arquivos e tokens na pasta onde estão os artigos do wiki\n",
    "\n",
    "num_files, num_tokens,num_unique_tokens = get_num_tokens(path_docs)\n",
    "print(f'{num_files:n} files - {num_tokens:n} tokens - {num_unique_tokens:n} unique tokens')"
   ]
  },
  {
   "cell_type": "markdown",
   "metadata": {
    "heading_collapsed": true
   },
   "source": [
    "## Databunch"
   ]
  },
  {
   "cell_type": "markdown",
   "metadata": {},
   "source": [
    "em tese o SPProcessor deveria invocar o sentencepiece e criar o modelo\n",
    "mas eu sempre pego o erro:\n",
    "FileNotFoundError: [Errno 2] No such file or directory: '/home/wesley/.fastai/data/ptwiki/docs/tmp/spm/spm.vocab'\n",
    "\n",
    "Assim eu estou chamando o sentencepiece diretamente, criando o arquivo spm.vocab e spm.model, e colocando no diretorio temporario"
   ]
  },
  {
   "cell_type": "code",
   "execution_count": 13,
   "metadata": {
    "hidden": true,
    "scrolled": true
   },
   "outputs": [
    {
     "data": {
      "text/html": [],
      "text/plain": [
       "<IPython.core.display.HTML object>"
      ]
     },
     "metadata": {},
     "output_type": "display_data"
    },
    {
     "ename": "FileNotFoundError",
     "evalue": "[Errno 2] No such file or directory: '/home/wesley/.fastai/data/ptwiki/docs/tmp/spm/spm.vocab'",
     "output_type": "error",
     "traceback": [
      "\u001b[0;31m---------------------------------------------------------------------------\u001b[0m",
      "\u001b[0;31mFileNotFoundError\u001b[0m                         Traceback (most recent call last)",
      "\u001b[0;32m<timed exec>\u001b[0m in \u001b[0;36m<module>\u001b[0;34m\u001b[0m\n",
      "\u001b[0;32m~/anaconda3/envs/fastai/lib/python3.7/site-packages/fastai/data_block.py\u001b[0m in \u001b[0;36m_inner\u001b[0;34m(*args, **kwargs)\u001b[0m\n\u001b[1;32m    478\u001b[0m             \u001b[0mself\u001b[0m\u001b[0;34m.\u001b[0m\u001b[0mvalid\u001b[0m \u001b[0;34m=\u001b[0m \u001b[0mfv\u001b[0m\u001b[0;34m(\u001b[0m\u001b[0;34m*\u001b[0m\u001b[0margs\u001b[0m\u001b[0;34m,\u001b[0m \u001b[0mfrom_item_lists\u001b[0m\u001b[0;34m=\u001b[0m\u001b[0;32mTrue\u001b[0m\u001b[0;34m,\u001b[0m \u001b[0;34m**\u001b[0m\u001b[0mkwargs\u001b[0m\u001b[0;34m)\u001b[0m\u001b[0;34m\u001b[0m\u001b[0;34m\u001b[0m\u001b[0m\n\u001b[1;32m    479\u001b[0m             \u001b[0mself\u001b[0m\u001b[0;34m.\u001b[0m\u001b[0m__class__\u001b[0m \u001b[0;34m=\u001b[0m \u001b[0mLabelLists\u001b[0m\u001b[0;34m\u001b[0m\u001b[0;34m\u001b[0m\u001b[0m\n\u001b[0;32m--> 480\u001b[0;31m             \u001b[0mself\u001b[0m\u001b[0;34m.\u001b[0m\u001b[0mprocess\u001b[0m\u001b[0;34m(\u001b[0m\u001b[0;34m)\u001b[0m\u001b[0;34m\u001b[0m\u001b[0;34m\u001b[0m\u001b[0m\n\u001b[0m\u001b[1;32m    481\u001b[0m             \u001b[0;32mreturn\u001b[0m \u001b[0mself\u001b[0m\u001b[0;34m\u001b[0m\u001b[0;34m\u001b[0m\u001b[0m\n\u001b[1;32m    482\u001b[0m         \u001b[0;32mreturn\u001b[0m \u001b[0m_inner\u001b[0m\u001b[0;34m\u001b[0m\u001b[0;34m\u001b[0m\u001b[0m\n",
      "\u001b[0;32m~/anaconda3/envs/fastai/lib/python3.7/site-packages/fastai/data_block.py\u001b[0m in \u001b[0;36mprocess\u001b[0;34m(self)\u001b[0m\n\u001b[1;32m    532\u001b[0m         \u001b[0;34m\"Process the inner datasets.\"\u001b[0m\u001b[0;34m\u001b[0m\u001b[0;34m\u001b[0m\u001b[0m\n\u001b[1;32m    533\u001b[0m         \u001b[0mxp\u001b[0m\u001b[0;34m,\u001b[0m\u001b[0myp\u001b[0m \u001b[0;34m=\u001b[0m \u001b[0mself\u001b[0m\u001b[0;34m.\u001b[0m\u001b[0mget_processors\u001b[0m\u001b[0;34m(\u001b[0m\u001b[0;34m)\u001b[0m\u001b[0;34m\u001b[0m\u001b[0;34m\u001b[0m\u001b[0m\n\u001b[0;32m--> 534\u001b[0;31m         \u001b[0;32mfor\u001b[0m \u001b[0mds\u001b[0m\u001b[0;34m,\u001b[0m\u001b[0mn\u001b[0m \u001b[0;32min\u001b[0m \u001b[0mzip\u001b[0m\u001b[0;34m(\u001b[0m\u001b[0mself\u001b[0m\u001b[0;34m.\u001b[0m\u001b[0mlists\u001b[0m\u001b[0;34m,\u001b[0m \u001b[0;34m[\u001b[0m\u001b[0;34m'train'\u001b[0m\u001b[0;34m,\u001b[0m\u001b[0;34m'valid'\u001b[0m\u001b[0;34m,\u001b[0m\u001b[0;34m'test'\u001b[0m\u001b[0;34m]\u001b[0m\u001b[0;34m)\u001b[0m\u001b[0;34m:\u001b[0m \u001b[0mds\u001b[0m\u001b[0;34m.\u001b[0m\u001b[0mprocess\u001b[0m\u001b[0;34m(\u001b[0m\u001b[0mxp\u001b[0m\u001b[0;34m,\u001b[0m \u001b[0myp\u001b[0m\u001b[0;34m,\u001b[0m \u001b[0mname\u001b[0m\u001b[0;34m=\u001b[0m\u001b[0mn\u001b[0m\u001b[0;34m)\u001b[0m\u001b[0;34m\u001b[0m\u001b[0;34m\u001b[0m\u001b[0m\n\u001b[0m\u001b[1;32m    535\u001b[0m         \u001b[0;31m#progress_bar clear the outputs so in some case warnings issued during processing disappear.\u001b[0m\u001b[0;34m\u001b[0m\u001b[0;34m\u001b[0m\u001b[0;34m\u001b[0m\u001b[0m\n\u001b[1;32m    536\u001b[0m         \u001b[0;32mfor\u001b[0m \u001b[0mds\u001b[0m \u001b[0;32min\u001b[0m \u001b[0mself\u001b[0m\u001b[0;34m.\u001b[0m\u001b[0mlists\u001b[0m\u001b[0;34m:\u001b[0m\u001b[0;34m\u001b[0m\u001b[0;34m\u001b[0m\u001b[0m\n",
      "\u001b[0;32m~/anaconda3/envs/fastai/lib/python3.7/site-packages/fastai/data_block.py\u001b[0m in \u001b[0;36mprocess\u001b[0;34m(self, xp, yp, name, max_warn_items)\u001b[0m\n\u001b[1;32m    712\u001b[0m                     \u001b[0mp\u001b[0m\u001b[0;34m.\u001b[0m\u001b[0mwarns\u001b[0m \u001b[0;34m=\u001b[0m \u001b[0;34m[\u001b[0m\u001b[0;34m]\u001b[0m\u001b[0;34m\u001b[0m\u001b[0;34m\u001b[0m\u001b[0m\n\u001b[1;32m    713\u001b[0m                 \u001b[0mself\u001b[0m\u001b[0;34m.\u001b[0m\u001b[0mx\u001b[0m\u001b[0;34m,\u001b[0m\u001b[0mself\u001b[0m\u001b[0;34m.\u001b[0m\u001b[0my\u001b[0m \u001b[0;34m=\u001b[0m \u001b[0mself\u001b[0m\u001b[0;34m.\u001b[0m\u001b[0mx\u001b[0m\u001b[0;34m[\u001b[0m\u001b[0;34m~\u001b[0m\u001b[0mfilt\u001b[0m\u001b[0;34m]\u001b[0m\u001b[0;34m,\u001b[0m\u001b[0mself\u001b[0m\u001b[0;34m.\u001b[0m\u001b[0my\u001b[0m\u001b[0;34m[\u001b[0m\u001b[0;34m~\u001b[0m\u001b[0mfilt\u001b[0m\u001b[0;34m]\u001b[0m\u001b[0;34m\u001b[0m\u001b[0;34m\u001b[0m\u001b[0m\n\u001b[0;32m--> 714\u001b[0;31m         \u001b[0mself\u001b[0m\u001b[0;34m.\u001b[0m\u001b[0mx\u001b[0m\u001b[0;34m.\u001b[0m\u001b[0mprocess\u001b[0m\u001b[0;34m(\u001b[0m\u001b[0mxp\u001b[0m\u001b[0;34m)\u001b[0m\u001b[0;34m\u001b[0m\u001b[0;34m\u001b[0m\u001b[0m\n\u001b[0m\u001b[1;32m    715\u001b[0m         \u001b[0;32mreturn\u001b[0m \u001b[0mself\u001b[0m\u001b[0;34m\u001b[0m\u001b[0;34m\u001b[0m\u001b[0m\n\u001b[1;32m    716\u001b[0m \u001b[0;34m\u001b[0m\u001b[0m\n",
      "\u001b[0;32m~/anaconda3/envs/fastai/lib/python3.7/site-packages/fastai/data_block.py\u001b[0m in \u001b[0;36mprocess\u001b[0;34m(self, processor)\u001b[0m\n\u001b[1;32m     82\u001b[0m         \u001b[0;32mif\u001b[0m \u001b[0mprocessor\u001b[0m \u001b[0;32mis\u001b[0m \u001b[0;32mnot\u001b[0m \u001b[0;32mNone\u001b[0m\u001b[0;34m:\u001b[0m \u001b[0mself\u001b[0m\u001b[0;34m.\u001b[0m\u001b[0mprocessor\u001b[0m \u001b[0;34m=\u001b[0m \u001b[0mprocessor\u001b[0m\u001b[0;34m\u001b[0m\u001b[0;34m\u001b[0m\u001b[0m\n\u001b[1;32m     83\u001b[0m         \u001b[0mself\u001b[0m\u001b[0;34m.\u001b[0m\u001b[0mprocessor\u001b[0m \u001b[0;34m=\u001b[0m \u001b[0mlistify\u001b[0m\u001b[0;34m(\u001b[0m\u001b[0mself\u001b[0m\u001b[0;34m.\u001b[0m\u001b[0mprocessor\u001b[0m\u001b[0;34m)\u001b[0m\u001b[0;34m\u001b[0m\u001b[0;34m\u001b[0m\u001b[0m\n\u001b[0;32m---> 84\u001b[0;31m         \u001b[0;32mfor\u001b[0m \u001b[0mp\u001b[0m \u001b[0;32min\u001b[0m \u001b[0mself\u001b[0m\u001b[0;34m.\u001b[0m\u001b[0mprocessor\u001b[0m\u001b[0;34m:\u001b[0m \u001b[0mp\u001b[0m\u001b[0;34m.\u001b[0m\u001b[0mprocess\u001b[0m\u001b[0;34m(\u001b[0m\u001b[0mself\u001b[0m\u001b[0;34m)\u001b[0m\u001b[0;34m\u001b[0m\u001b[0;34m\u001b[0m\u001b[0m\n\u001b[0m\u001b[1;32m     85\u001b[0m         \u001b[0;32mreturn\u001b[0m \u001b[0mself\u001b[0m\u001b[0;34m\u001b[0m\u001b[0;34m\u001b[0m\u001b[0m\n\u001b[1;32m     86\u001b[0m \u001b[0;34m\u001b[0m\u001b[0m\n",
      "\u001b[0;32m~/anaconda3/envs/fastai/lib/python3.7/site-packages/fastai/text/data.py\u001b[0m in \u001b[0;36mprocess\u001b[0;34m(self, ds)\u001b[0m\n\u001b[1;32m    466\u001b[0m             \u001b[0mself\u001b[0m\u001b[0;34m.\u001b[0m\u001b[0msp_model\u001b[0m\u001b[0;34m,\u001b[0m\u001b[0mself\u001b[0m\u001b[0;34m.\u001b[0m\u001b[0msp_vocab\u001b[0m \u001b[0;34m=\u001b[0m \u001b[0mcache_dir\u001b[0m\u001b[0;34m/\u001b[0m\u001b[0;34m'spm.model'\u001b[0m\u001b[0;34m,\u001b[0m\u001b[0mcache_dir\u001b[0m\u001b[0;34m/\u001b[0m\u001b[0;34m'spm.vocab'\u001b[0m\u001b[0;34m\u001b[0m\u001b[0;34m\u001b[0m\u001b[0m\n\u001b[1;32m    467\u001b[0m         \u001b[0;32mif\u001b[0m \u001b[0;32mnot\u001b[0m \u001b[0mgetattr\u001b[0m\u001b[0;34m(\u001b[0m\u001b[0mself\u001b[0m\u001b[0;34m,\u001b[0m \u001b[0;34m'vocab'\u001b[0m\u001b[0;34m,\u001b[0m \u001b[0;32mFalse\u001b[0m\u001b[0;34m)\u001b[0m\u001b[0;34m:\u001b[0m\u001b[0;34m\u001b[0m\u001b[0;34m\u001b[0m\u001b[0m\n\u001b[0;32m--> 468\u001b[0;31m             \u001b[0;32mwith\u001b[0m \u001b[0mopen\u001b[0m\u001b[0;34m(\u001b[0m\u001b[0mself\u001b[0m\u001b[0;34m.\u001b[0m\u001b[0msp_vocab\u001b[0m\u001b[0;34m,\u001b[0m \u001b[0;34m'r'\u001b[0m\u001b[0;34m,\u001b[0m \u001b[0mencoding\u001b[0m\u001b[0;34m=\u001b[0m\u001b[0mself\u001b[0m\u001b[0;34m.\u001b[0m\u001b[0menc\u001b[0m\u001b[0;34m)\u001b[0m \u001b[0;32mas\u001b[0m \u001b[0mf\u001b[0m\u001b[0;34m:\u001b[0m \u001b[0mself\u001b[0m\u001b[0;34m.\u001b[0m\u001b[0mvocab\u001b[0m \u001b[0;34m=\u001b[0m \u001b[0mVocab\u001b[0m\u001b[0;34m(\u001b[0m\u001b[0;34m[\u001b[0m\u001b[0mline\u001b[0m\u001b[0;34m.\u001b[0m\u001b[0msplit\u001b[0m\u001b[0;34m(\u001b[0m\u001b[0;34m'\\t'\u001b[0m\u001b[0;34m)\u001b[0m\u001b[0;34m[\u001b[0m\u001b[0;36m0\u001b[0m\u001b[0;34m]\u001b[0m \u001b[0;32mfor\u001b[0m \u001b[0mline\u001b[0m \u001b[0;32min\u001b[0m \u001b[0mf\u001b[0m\u001b[0;34m.\u001b[0m\u001b[0mreadlines\u001b[0m\u001b[0;34m(\u001b[0m\u001b[0;34m)\u001b[0m\u001b[0;34m]\u001b[0m\u001b[0;34m)\u001b[0m\u001b[0;34m\u001b[0m\u001b[0;34m\u001b[0m\u001b[0m\n\u001b[0m\u001b[1;32m    469\u001b[0m         \u001b[0;32mif\u001b[0m \u001b[0mself\u001b[0m\u001b[0;34m.\u001b[0m\u001b[0mn_cpus\u001b[0m \u001b[0;34m<=\u001b[0m \u001b[0;36m1\u001b[0m\u001b[0;34m:\u001b[0m \u001b[0mds\u001b[0m\u001b[0;34m.\u001b[0m\u001b[0mitems\u001b[0m \u001b[0;34m=\u001b[0m \u001b[0mself\u001b[0m\u001b[0;34m.\u001b[0m\u001b[0m_encode_batch\u001b[0m\u001b[0;34m(\u001b[0m\u001b[0mds\u001b[0m\u001b[0;34m.\u001b[0m\u001b[0mitems\u001b[0m\u001b[0;34m)\u001b[0m\u001b[0;34m\u001b[0m\u001b[0;34m\u001b[0m\u001b[0m\n\u001b[1;32m    470\u001b[0m         \u001b[0;32melse\u001b[0m\u001b[0;34m:\u001b[0m\u001b[0;34m\u001b[0m\u001b[0;34m\u001b[0m\u001b[0m\n",
      "\u001b[0;31mFileNotFoundError\u001b[0m: [Errno 2] No such file or directory: '/home/wesley/.fastai/data/ptwiki/docs/tmp/spm/spm.vocab'"
     ]
    }
   ],
   "source": [
    "# %%time\n",
    "# bs = 50\n",
    "\n",
    "# data = (TextList.from_folder(path_docs, processor=[OpenFileProcessor(), SPProcessor()])\n",
    "#         .split_by_rand_pct(0.1, seed=42)\n",
    "#         .label_for_lm()\n",
    "#         .databunch(bs=bs, num_workers=1))"
   ]
  },
  {
   "cell_type": "markdown",
   "metadata": {},
   "source": [
    "### SentencePiece"
   ]
  },
  {
   "cell_type": "markdown",
   "metadata": {},
   "source": [
    "criando um diretorio temporario com os arquivos que serão usados pelo SPProcessor\n",
    "\n",
    "precisa instalar o sentencepiece"
   ]
  },
  {
   "cell_type": "code",
   "execution_count": 22,
   "metadata": {},
   "outputs": [],
   "source": [
    "import sentencepiece as spm"
   ]
  },
  {
   "cell_type": "code",
   "execution_count": 20,
   "metadata": {},
   "outputs": [
    {
     "name": "stdout",
     "output_type": "stream",
     "text": [
      "5000\n",
      "10000\n",
      "15000\n",
      "20000\n",
      "25000\n",
      "30000\n",
      "35000\n",
      "40000\n",
      "45000\n",
      "50000\n",
      "55000\n",
      "60000\n",
      "65000\n",
      "CPU times: user 5.4 s, sys: 1.21 s, total: 6.62 s\n",
      "Wall time: 7.04 s\n"
     ]
    }
   ],
   "source": [
    "%%time\n",
    "n = 1\n",
    "tmp_dir = path/'tmp'\n",
    "tmp_dir.mkdir(exist_ok=True, parents=True)\n",
    "\n",
    "output_file = tmp_dir/'wikipt_60k.txt'\n",
    "fo = output_file.open('w')\n",
    "\n",
    "for p in path_docs.glob('*.txt'):\n",
    "    fo.write(p.open('r').read() + '\\n')\n",
    "    if n%5000 == 0: print(n)\n",
    "    n +=1\n",
    "fo.close()"
   ]
  },
  {
   "cell_type": "code",
   "execution_count": 23,
   "metadata": {
    "scrolled": true
   },
   "outputs": [
    {
     "name": "stdout",
     "output_type": "stream",
     "text": [
      "CPU times: user 20min 5s, sys: 9.01 s, total: 20min 14s\n",
      "Wall time: 11min 14s\n"
     ]
    },
    {
     "data": {
      "text/plain": [
       "True"
      ]
     },
     "execution_count": 23,
     "metadata": {},
     "output_type": "execute_result"
    }
   ],
   "source": [
    "%%time\n",
    "\n",
    "model_prefix='spm'\n",
    "\n",
    "# train sentencepiece model from `botchan.txt` and makes `m.model` and `m.vocab`\n",
    "# `m.vocab` is just a reference. not used in the segmentation.\n",
    "spm.SentencePieceTrainer.train(f'--input={output_file} --model_prefix={model_prefix} --vocab_size=60000')"
   ]
  },
  {
   "cell_type": "code",
   "execution_count": 28,
   "metadata": {},
   "outputs": [],
   "source": [
    "! mv spm* {tmp_dir}/spm"
   ]
  },
  {
   "cell_type": "code",
   "execution_count": 30,
   "metadata": {},
   "outputs": [
    {
     "name": "stdout",
     "output_type": "stream",
     "text": [
      "spm.model  spm.vocab\r\n"
     ]
    }
   ],
   "source": [
    "! ls {tmp_dir}/spm"
   ]
  },
  {
   "cell_type": "code",
   "execution_count": 38,
   "metadata": {},
   "outputs": [],
   "source": [
    "# remove o arquivo temporario com todos os artigos\n",
    "output_file.unlink()"
   ]
  },
  {
   "cell_type": "markdown",
   "metadata": {
    "hidden": true
   },
   "source": [
    "### Forward\n",
    "\n",
    "com os arquivos no sentencepiece no diretório funciona perfeitamente\n",
    "Claramente está acontecendo uma duplicidade de ações, mas não consigo entender o que pode estar acontecendo"
   ]
  },
  {
   "cell_type": "code",
   "execution_count": 31,
   "metadata": {},
   "outputs": [
    {
     "data": {
      "text/html": [],
      "text/plain": [
       "<IPython.core.display.HTML object>"
      ]
     },
     "metadata": {},
     "output_type": "display_data"
    },
    {
     "data": {
      "text/html": [],
      "text/plain": [
       "<IPython.core.display.HTML object>"
      ]
     },
     "metadata": {},
     "output_type": "display_data"
    }
   ],
   "source": [
    "bs=50\n",
    "data = (TextList\n",
    "        .from_folder(path_docs, processor=[OpenFileProcessor(), SPProcessor(max_vocab_sz=60000, tmp_dir='../tmp')])\n",
    "        .split_by_rand_pct(0.1, seed=42)\n",
    "        .label_for_lm()\n",
    "        .databunch(bs=bs, num_workers=4))"
   ]
  },
  {
   "cell_type": "code",
   "execution_count": 40,
   "metadata": {},
   "outputs": [
    {
     "data": {
      "text/plain": [
       "'pt_databunch_60k_art_60k_voc_90m_tokens'"
      ]
     },
     "execution_count": 40,
     "metadata": {},
     "output_type": "execute_result"
    }
   ],
   "source": [
    "db_fw_fn = f'{lang}_databunch_60k_art_60k_voc_90m_tokens'\n",
    "db_fw_fn"
   ]
  },
  {
   "cell_type": "code",
   "execution_count": 42,
   "metadata": {},
   "outputs": [
    {
     "data": {
      "text/plain": [
       "(60000, 59707)"
      ]
     },
     "execution_count": 42,
     "metadata": {},
     "output_type": "execute_result"
    }
   ],
   "source": [
    "# salvando o databunch\n",
    "# data.save(f'{path}/{db_fw_fn}')\n",
    "# len(data.vocab.itos),len(data.train_ds)"
   ]
  },
  {
   "cell_type": "code",
   "execution_count": 13,
   "metadata": {},
   "outputs": [],
   "source": [
    "# carrega o arquivo de databunch\n",
    "bs=50\n",
    "data = load_data(path, f'{path}/{db_fw_fn}', bs=bs)"
   ]
  },
  {
   "cell_type": "code",
   "execution_count": 34,
   "metadata": {
    "hidden": true
   },
   "outputs": [
    {
     "data": {
      "text/plain": [
       "(60000, 59707)"
      ]
     },
     "execution_count": 34,
     "metadata": {},
     "output_type": "execute_result"
    }
   ],
   "source": [
    "len(data.vocab.itos),len(data.train_ds)"
   ]
  },
  {
   "cell_type": "code",
   "execution_count": 35,
   "metadata": {
    "hidden": true
   },
   "outputs": [
    {
     "data": {
      "text/plain": [
       "(60000, 60000)"
      ]
     },
     "execution_count": 35,
     "metadata": {},
     "output_type": "execute_result"
    }
   ],
   "source": [
    "len(data.vocab.itos),len(data.vocab.stoi)"
   ]
  },
  {
   "cell_type": "code",
   "execution_count": 36,
   "metadata": {
    "hidden": true,
    "scrolled": true
   },
   "outputs": [
    {
     "data": {
      "text/plain": [
       "Text ▁x x bos ▁o ▁nome ▁x x ma j ▁bu co vina ▁se ▁tornou ▁oficial ▁em ▁1775 , ▁quando ▁a ▁região , ▁até ▁então ▁parte ▁do ▁x x ma j ▁principado ▁da ▁x x ma j ▁mol dá via , ▁passou ▁a ▁fazer ▁parte ▁das ▁possessões ▁da ▁x x ma j ▁monarquia ▁de ▁x x ma j ▁hab s burgo , ▁que ▁mais ▁tarde ▁tornou - se ▁o ▁x x ma j ▁império ▁x x ma j ▁austríaco ▁e , ▁posteriormente , ▁no ▁x x ma j ▁império ▁austro - húngaro . ▁o ▁nome ▁oficial ▁em ▁alemão , ▁die ▁x x ma j ▁bu kow ina , ▁que ▁a ▁província ▁recebeu ▁durante ▁o ▁período ▁em ▁que ▁foi ▁governada ▁pelos ▁austríacos , ▁vem ▁da ▁forma ▁polonesa ▁x x ma j ▁bu kow ina , ▁que , ▁por ▁sua ▁vez , ▁vem ▁de ▁uma ▁palavra ▁comum ▁entre ▁as ▁línguas ▁eslavas ▁que ▁significa ▁faia , ▁por ▁exemplo ▁ <unk> ▁em ▁ucraniano , ▁relacionada ▁também ▁com ▁o ▁alemão ▁x x ma j ▁ buch . ▁x x ma j ▁outro ▁nome ▁alemão ▁para ▁a ▁região , ▁das ▁x x ma j ▁bu chen land , ▁que ▁tem ▁uma ▁utilização ▁essencialmente ▁literária , ▁também ▁significa ▁x x ma j ▁terra ▁das ▁x x ma j ▁faia s . ▁x x ma j ▁também ▁em ▁romeno , ▁em ▁contextos ▁literários , ▁às ▁vezes ▁se ▁usa ▁o ▁nome ▁x x ma j ▁ <unk> ara ▁x x ma j ▁fa gil or . ▁x x ma j ▁hoje ▁em ▁dia ▁o ▁nome ▁não ▁é ▁oficial ▁nem ▁na ▁x x ma j ▁u cr ânia ▁nem ▁na ▁x x ma j ▁rom ênia , ▁embora ▁às ▁vezes ▁seja ▁usado ▁para ▁se ▁referir ▁ao ▁x x ma j ▁o blast ▁de ▁x x ma j ▁t cher ni v tsi . ▁x x ma j ▁na ▁x x ma j ▁rom ênia ▁se ▁fala ▁em ▁x x ma j ▁bu co vina ▁do ▁x x ma j ▁norte ▁para ▁se ▁referir ▁ao ▁x x ma j ▁o blast ▁de ▁x x ma j ▁t cher ni v tsi ▁e ▁x x ma j ▁bu co vina ▁do ▁x x ma j ▁sul ▁para ▁se ▁referir ▁ao ▁distrito ▁romeno ▁de ▁x x ma j ▁su ce ava , ▁embora ▁apenas ▁10% ▁do ▁distrito ▁seja ▁território ▁da ▁região ▁histórica ▁da ▁x x ma j ▁bu co vina . ▁a ▁parte ▁sudoeste ▁da ▁x x ma j ▁bu co vina ▁é ▁montanhosa , ▁correspondendo ▁às ▁vertentes ▁norte ▁das ▁montanhas ▁dos ▁x x ma j ▁cá r pato s , ▁que ▁marcam ▁as ▁fronteiras ▁sul ▁e ▁oeste ▁da ▁x x ma j ▁bu co vina . ▁a ▁parte ▁nordeste ▁é ▁uma ▁pene planície ▁de ▁depósitos ▁a luviais ▁correspondentes ▁à ▁planície ▁x x ma j ▁sar mática . ▁o ▁clima ▁é ▁continental , ▁com ▁invernos ▁frios ▁e ▁verões ▁quentes ▁e ▁um ▁regime ▁de ▁precipitações ▁muito ▁moderado , ▁com ▁a ▁maior ▁pluviosidade ▁durante ▁o ▁verão . ▁a ▁x x ma j ▁bu co vina ▁é ▁drena da ▁por ▁numerosos ▁rios ▁da ▁bacia ▁do ▁x x ma j ▁mar ▁x x ma j ▁negro : ▁o ▁x x ma j ▁molda va , ▁o ▁x x ma j ▁si ret , ▁o ▁x x ma j ▁pru t ▁e ▁o ▁x x ma j ▁d ni estre , ▁sendo ▁este ▁último ▁o ▁que ▁constitui ▁as ▁fronteiras ▁norte ▁e ▁leste ▁da ▁x x ma j ▁bu co vina . ▁x x ma j ▁na ▁antiguidade , ▁o ▁território ▁que ▁muito ▁mais ▁tarde ▁seria ▁chamado ▁de ▁x x ma j ▁bu co vina ▁era ▁habitada ▁pelos ▁dácios , ▁cita s ▁e ▁sármatas . ▁o ▁x x ma j ▁império ▁x x ma j ▁romano ▁apenas ▁momentaneamente ▁dominou ▁alguns ▁setores ▁do ▁território , ▁integrando - o ▁à ▁província ▁da ▁x x ma j ▁dá cia , ▁embora ▁o ▁controle ▁territorial ▁tenha ▁sido ▁mantido ▁principalmente ▁pelos ▁dácios ▁livres , ▁conhecidos ▁como ▁carpo s . ▁x x ma j ▁desde ▁o ▁as ▁regiões ▁mais ▁planas ▁foram ▁invadida s ▁sucessivamente ▁por ▁godos , ▁hunos ▁e ▁ávaros , ▁estes ▁últimos ▁já ▁no ▁século ▁x x up ▁ iv . ▁x x ma j ▁no , ▁ante ▁os ▁vazios ▁demográficos ▁presentes , ▁houve ▁uma ▁substituição ▁de ▁população ▁na ▁área ▁setentrional , ▁que ▁teve ▁como ▁principais ▁protagonistas ▁os ▁agricultores ▁eslavos , ▁entre ▁as ▁quais ▁estavam ▁os ▁pechenegues . ▁x x ma j ▁em ▁seguida , ▁a ▁região ▁foi ▁incluída ▁como ▁um ▁x x ma j ▁estado ▁vassalo ▁da ▁x x ma j ▁ rú s sia ▁de ▁x x ma j ▁qui eve ▁e ▁de ▁um ▁dos ▁x x ma j ▁estados ▁que ▁lhe ▁sucederam , ▁o ▁x x ma j ▁reino ▁da ▁x x ma j ▁ga lícia ▁e ▁x x ma j ▁lodo m éria , ▁que ▁sucumbiu ▁à ▁invasão ▁de ▁tártaros ▁e ▁mongóis ▁entre ▁o ▁fim ▁do ▁e ▁início ▁do ▁x x up ▁x iv , ▁embora ▁a ▁população ▁de ▁origem ▁dá cia ▁latin izada ▁tenha ▁se ▁mantido ▁dominante ▁demo graficamente ▁nas ▁zonas ▁montanhosas ▁e ▁na ▁metade ▁sul ▁do ▁território . ▁x x ma j ▁no ▁século ▁x x up ▁x iv ▁a ▁x x ma j ▁bu co vina ▁se ▁tornou ▁a ▁base ▁do ▁núcleo ▁do ▁x x ma j ▁principado ▁da ▁x x ma j ▁mol dá via , ▁estado ▁com ▁preponderância ▁étnica ▁e ▁política ▁romena . ▁x x ma j ▁após ▁1513 , ▁a ▁x x ma j ▁mol dá via ▁começou ▁a ▁pagar ▁um ▁tributo ▁anual ▁para ▁o ▁x x ma j ▁império ▁x x ma j ▁otomano , ▁mas ▁manteve - se ▁autônoma ▁e ▁continuou ▁a ▁ser ▁governada ▁por ▁um ▁príncipe ▁/ ▁voivoda ▁romeno , ▁conhecido ▁como ▁x x ma j ▁do m nito r ▁ou ▁x x ma j ▁ho s poda r , ▁algo ▁como ▁um ▁x x ma j ▁lorde ▁em ▁inglês ▁ou ▁um ▁x x ma j ▁do m ▁em ▁português . ▁x x ma j ▁em ▁maio ▁de ▁1600 , ▁o ▁x x ma j ▁do m nito r ▁romeno ▁x x ma j ▁mi guel , ▁o ▁x x ma j ▁valente , ▁conseguiu ▁unir ▁os ▁três ▁principados ▁romenos ▁medievais ▁da ▁x x ma j ▁transi lv ânia , ▁da ▁x x ma j ▁val á quia ▁e ▁da ▁x x ma j ▁mol dá via ▁em ▁um ▁país ▁que ▁incluía ▁toda ▁a ▁x x ma j ▁bu co vina . ▁x x ma j ▁por ▁alguns ▁períodos ▁curtos , ▁durante ▁guerras , ▁o ▁x x ma j ▁reino ▁da ▁x x ma j ▁pol ônia ▁ocupou ▁partes ▁do ▁norte ▁da ▁x x ma j ▁mol dá via . ▁x x ma j ▁no ▁entanto , ▁a ▁velha ▁fronteira ▁foi ▁restabelecida ▁algumas ▁vezes , ▁como ▁por ▁exemplo , ▁em ▁14 ▁de ▁outubro ▁de ▁1703 . ▁x x ma j ▁entre ▁1769 ▁e ▁1774 ▁o ▁x x ma j ▁império ▁da ▁x x ma j ▁ rú s sia ▁tomou ▁o ▁território ▁dos ▁turcos . ▁a ▁x x ma j ▁ rú s sia ▁aceitou ▁essa ▁cessão ▁em ▁troca ▁de ▁uma ▁compensação ▁territorial ▁na ▁x x ma j ▁ga lícia . ▁x x ma j ▁assim , ▁a ▁x x ma j ▁bu co vina ▁tornou - se ▁parte ▁do ▁x x ma j ▁estado ▁austríaco , ▁em ▁parte ▁por ▁causa ▁dos ▁combates ▁entre ▁grupos ▁étnicos ▁na ▁região , ▁por ▁exemplo ▁a ▁guerra ▁entre ▁os ▁magiares ▁do ▁grupo ▁ <unk> s zek eli <unk> ▁e ▁os ▁romenos - mol da vos , ▁que ▁culminou ▁com ▁a ▁ <unk> bata lha ▁do ▁x x ma j ▁vale ▁al ba <unk> . mes mo ▁depois ▁da ▁x x ma j ▁revolução ▁x x ma j ▁liberal ▁de ▁1848 ▁que ▁tinha ▁como ▁uma ▁de ▁suas ▁implicações ▁a ▁transformação ▁do ▁x x ma j ▁império ▁x x ma j ▁austríaco ▁em ▁uma ▁monarquia ▁dual ▁austro - húngara , ▁a ▁x x ma j ▁bu co vina , ▁bem ▁como ▁as ▁regiões ▁adjacentes , ▁foram ▁mantidas ▁sob ▁controle ▁direto ▁da ▁x x ma j ▁á us tria ▁- ▁como ▁um ▁x x ma j ▁k ron land ▁ou ▁x x ma j ▁território ▁da ▁x x ma j ▁coroa , ▁até ▁o ▁final ▁da ▁x x ma j ▁primeira ▁x x ma j ▁guerra ▁x x ma j ▁mundial ▁em ▁1918. s ob ▁a ▁dominação ▁austríaca , ▁primeiramente ▁tornou - se ▁parte ▁da ▁diocese ▁de ▁x x ma j ▁r <unk> d <unk> u <unk> i , ▁ficando ▁a ▁x x ma j ▁bu co vina ▁- ▁a ▁partir ▁de ▁1787 ▁x x ma j ▁tornava - se ▁assim ▁uma ▁estratégica ▁x x ma j ▁k ron land , ▁um ▁ducado ▁que ▁foi ▁uma ▁espécie ▁de ▁cunha ▁econômica ▁e ▁ideológica - cultural ▁pan german ista ▁na ▁x x ma j ▁euro pa ▁x x ma j ▁oriental . ▁x x ma j ▁ao ▁final ▁da ▁x x ma j ▁primeira ▁x x ma j ▁guerra ▁x x ma j ▁mundial , ▁o ▁x x ma j ▁ s fa tul ▁x x ma j ▁ <unk> ri i ▁da ▁x x ma j ▁bu co vina ▁votou ▁pela ▁união ▁com ▁a ▁x x ma j ▁rom ênia , ▁o ▁que ▁foi ▁ratificado ▁pelo ▁x x ma j ▁tratado ▁de ▁sai nt - ger main - en - la ye ▁de ▁1919. ▁x x ma j ▁em ▁1947, ▁no ▁x x ma j ▁tratado ▁de ▁x x ma j ▁par is ▁os ▁atuais ▁limites ▁foram ▁estabelecidos , ▁deixando ▁a ▁metade ▁norte ▁da ▁x x ma j ▁bu co vina ▁na ▁x x ma j ▁união ▁x x ma j ▁soviética , ▁como ▁parte ▁da ▁x x ma j ▁república ▁x x ma j ▁socialista ▁x x ma j ▁soviética ▁da ▁x x ma j ▁u cr ânia ▁e ▁a ▁metade ▁sul ▁x x ma j ▁após ▁a ▁dissolução ▁da ▁x x up ▁ur s s ▁em ▁1991, ▁a ▁x x ma j ▁bu co vina ▁do ▁x x ma j ▁norte ▁passou ▁diretamente ▁para ▁a ▁atual ▁x x ma j ▁república ▁da ▁x x ma j ▁u cr ânia ▁constituindo ▁o ▁x x ma j ▁o blast ▁de ▁x x ma j ▁t cher ni v tsi , ▁que ▁reúne ▁a ▁maioria ▁da ▁população ▁e ▁do ▁território ▁da ▁x x ma j ▁bu co vina ▁do ▁x x ma j ▁norte , ▁já ▁que ▁tinha ▁em ▁2006 ▁uma ▁área ▁de ▁10 . 4 10 ▁km 2 ▁e ▁uma ▁população ▁de ▁aproximadamente ▁73 0.000 ▁habitantes . ▁x x ma j ▁na ▁x x ma j ▁bu co vina ▁do ▁x x ma j ▁sul ▁ou ▁x x ma j ▁bu co vina ▁x x ma j ▁romena ▁a ▁população ▁e ▁a ▁área ▁territorial ▁são ▁aproximadamente ▁as ▁mesmas , ▁sendo ▁complementada s ▁pelo ▁pequeno ▁setor ▁da ▁x x ma j ▁bu co vina ▁setentrional ▁que ▁faz ▁parte ▁da ▁x x ma j ▁república ▁da ▁x x ma j ▁mol dá via . ▁x x ma j ▁ainda ▁que ▁mais ▁da ▁metade ▁da ▁população ▁fosse ▁considerada ▁rural ▁em ▁2005, ▁os ▁principais ▁centros ▁urbanos ▁são : ▁x x ma j ▁ cher ni v tsi ▁cidade ▁que ▁foi ▁a ▁capital ▁e ▁principal ▁centro ▁cultural , ▁atualmente ▁localizado ▁em ▁território ▁ucraniano , ▁como ▁capital ▁da ▁província ▁homônima ▁de ▁x x ma j ▁ cher ni v tsi , ▁enquanto ▁que ▁x x ma j ▁su ce ava , ▁x x ma j ▁si ret , ▁x x ma j ▁do ro ho i , ▁x x ma j ▁c âm pul ung ▁x x ma j ▁mol do ven esc ▁e ▁x x ma j ▁r <unk> d <unk> u <unk> i ▁estão ▁na ▁x x ma j ▁rom ênia . ▁x x ma j ▁segundo ▁o ▁censo ▁romeno ▁de ▁2002, ▁na ▁x x ma j ▁bu co vina ▁do ▁x x ma j ▁sul ▁ou ▁x x ma j ▁bu co vina ▁x x ma j ▁romena ▁9 7,5% ▁da ▁população ▁é ▁etnicamente ▁romena , ▁havendo ▁uma ▁minoria ▁de ▁1 ,2% ▁de ▁ucranianos . ▁x x ma j ▁por ▁seu ▁lado , ▁para ▁a ▁x x ma j ▁bu co vina ▁x x ma j ▁norte ▁ou ▁x x ma j ▁ucraniana , ▁o ▁censo ▁ucraniano ▁de ▁2001 ▁apontava ▁que ▁75% ▁da ▁população ▁era ▁de ▁nacionalidade ▁ucraniana , ▁enquanto ▁que ▁falantes ▁de ▁língua ▁romena ▁se ▁dividem ▁em ▁12 ,5% ▁de ▁romenos ▁e ▁7 ,3% ▁de ▁molda vos , ▁além ▁de ▁4 ,1% ▁de ▁russos . ▁x x ma j ▁no ▁sudeste ▁da ▁região ▁se ▁encontra ▁a ▁região ▁histórico - et no gráfica ▁da ▁x x ma j ▁hu t sul sh chy na , ▁habitada ▁pelos ▁hu tsu ls , ▁subgrupo ▁étnico ▁ucraniano , ▁culturalmente ▁influenciado ▁pelos ▁romenos ▁e ▁outros ▁povos ▁dos ▁x x ma j ▁bal cã s , ▁embora ▁se ▁auto - i dent ifiquem ▁como ▁ucranianos . ▁x x ma j ▁os ▁solos ▁são ▁muito ▁férteis , ▁o ▁que ▁facilitou ▁a ▁existência ▁de ▁densas ▁florestas . ▁x x ma j ▁as ▁faia s ▁ocupam ▁as ▁altitudes ▁médias ▁e ▁as ▁coníferas ▁as ▁zonas ▁elevadas . ▁x x ma j ▁há ▁alguma ▁mineração ▁de ▁pequeno ▁porte ▁com ▁extração ▁de ▁petróleo ▁e ▁sal ."
      ]
     },
     "execution_count": 36,
     "metadata": {},
     "output_type": "execute_result"
    }
   ],
   "source": [
    "data.train_ds.x[72]"
   ]
  },
  {
   "cell_type": "markdown",
   "metadata": {
    "hidden": true
   },
   "source": [
    "### Backward"
   ]
  },
  {
   "cell_type": "markdown",
   "metadata": {},
   "source": [
    "nesse estágio eu ainda não testei backward"
   ]
  },
  {
   "cell_type": "code",
   "execution_count": 27,
   "metadata": {
    "hidden": true
   },
   "outputs": [
    {
     "name": "stdout",
     "output_type": "stream",
     "text": [
      "CPU times: user 38min 20s, sys: 25 s, total: 38min 45s\n",
      "Wall time: 20min 19s\n"
     ]
    }
   ],
   "source": [
    "# %%time\n",
    "# data = (TextList.from_folder(dest, processor=[OpenFileProcessor(), SPProcessor(max_vocab_sz=15000)])\n",
    "#             .split_by_rand_pct(0.1, seed=42)\n",
    "#             .label_for_lm()\n",
    "#             .databunch(bs=bs, num_workers=1, backwards=True))\n",
    "\n",
    "# data.save(f'{path}/{lang}_databunch_corpus2_100_sp15_multifit_bwd')"
   ]
  },
  {
   "cell_type": "markdown",
   "metadata": {
    "heading_collapsed": true,
    "nbpresent": {
     "id": "052df7c2-f57b-4596-9189-c9e01102e5e9"
    }
   },
   "source": [
    "## Training"
   ]
  },
  {
   "cell_type": "markdown",
   "metadata": {
    "hidden": true
   },
   "source": [
    "### Forward"
   ]
  },
  {
   "cell_type": "code",
   "execution_count": 29,
   "metadata": {},
   "outputs": [],
   "source": [
    "bs= 50"
   ]
  },
  {
   "cell_type": "code",
   "execution_count": 13,
   "metadata": {
    "hidden": true,
    "nbpresent": {
     "id": "defab6d9-ba04-4943-b574-9300e20d5e1c"
    }
   },
   "outputs": [
    {
     "name": "stdout",
     "output_type": "stream",
     "text": [
      "CPU times: user 3.91 s, sys: 1.14 s, total: 5.05 s\n",
      "Wall time: 5.05 s\n"
     ]
    }
   ],
   "source": [
    "%%time\n",
    "data = load_data(path, db_fw_fn, bs=bs)"
   ]
  },
  {
   "cell_type": "code",
   "execution_count": 43,
   "metadata": {
    "hidden": true
   },
   "outputs": [
    {
     "data": {
      "text/plain": [
       "{'emb_sz': 400,\n",
       " 'n_hid': 1550,\n",
       " 'n_layers': 4,\n",
       " 'pad_token': 1,\n",
       " 'qrnn': True,\n",
       " 'bidir': False,\n",
       " 'output_p': 0.1,\n",
       " 'hidden_p': 0.15,\n",
       " 'input_p': 0.25,\n",
       " 'embed_p': 0.02,\n",
       " 'weight_p': 0.2,\n",
       " 'tie_weights': True,\n",
       " 'out_bias': True}"
      ]
     },
     "execution_count": 43,
     "metadata": {},
     "output_type": "execute_result"
    }
   ],
   "source": [
    "config = awd_lstm_lm_config.copy()\n",
    "config['qrnn'] = True\n",
    "config['n_hid'] = 1550 #default 1152\n",
    "config['n_layers'] = 4 #default 3\n",
    "config"
   ]
  },
  {
   "cell_type": "code",
   "execution_count": 44,
   "metadata": {
    "hidden": true,
    "nbpresent": {
     "id": "670d6ea2-913e-4cd2-80d8-1e3d34f0b9c0"
    },
    "scrolled": false
   },
   "outputs": [
    {
     "name": "stdout",
     "output_type": "stream",
     "text": [
      "CPU times: user 2.22 s, sys: 961 ms, total: 3.18 s\n",
      "Wall time: 45 s\n"
     ]
    }
   ],
   "source": [
    "%%time\n",
    "perplexity = Perplexity()\n",
    "learn = language_model_learner(data, AWD_LSTM, config=config, drop_mult=0.1, wd=0.1, pretrained=False, \n",
    "                               metrics=[error_rate, accuracy, perplexity]).to_fp16()"
   ]
  },
  {
   "cell_type": "code",
   "execution_count": 45,
   "metadata": {
    "hidden": true
   },
   "outputs": [
    {
     "name": "stdout",
     "output_type": "stream",
     "text": [
      "number of parameters: 64.065.150\n"
     ]
    }
   ],
   "source": [
    "print(f'number of parameters: {sum([parameter.numel() for parameter in learn.model.parameters()]):n}')"
   ]
  },
  {
   "cell_type": "code",
   "execution_count": 46,
   "metadata": {
    "hidden": true
   },
   "outputs": [
    {
     "data": {
      "text/plain": [
       "SequentialRNN(\n",
       "  (0): AWD_LSTM(\n",
       "    (encoder): Embedding(60000, 400, padding_idx=1)\n",
       "    (encoder_dp): EmbeddingDropout(\n",
       "      (emb): Embedding(60000, 400, padding_idx=1)\n",
       "    )\n",
       "    (rnns): ModuleList(\n",
       "      (0): QRNN(\n",
       "        (layers): ModuleList(\n",
       "          (0): QRNNLayer(\n",
       "            (linear): WeightDropout(\n",
       "              (module): Linear(in_features=800, out_features=4650, bias=True)\n",
       "            )\n",
       "          )\n",
       "        )\n",
       "      )\n",
       "      (1): QRNN(\n",
       "        (layers): ModuleList(\n",
       "          (0): QRNNLayer(\n",
       "            (linear): WeightDropout(\n",
       "              (module): Linear(in_features=1550, out_features=4650, bias=True)\n",
       "            )\n",
       "          )\n",
       "        )\n",
       "      )\n",
       "      (2): QRNN(\n",
       "        (layers): ModuleList(\n",
       "          (0): QRNNLayer(\n",
       "            (linear): WeightDropout(\n",
       "              (module): Linear(in_features=1550, out_features=4650, bias=True)\n",
       "            )\n",
       "          )\n",
       "        )\n",
       "      )\n",
       "      (3): QRNN(\n",
       "        (layers): ModuleList(\n",
       "          (0): QRNNLayer(\n",
       "            (linear): WeightDropout(\n",
       "              (module): Linear(in_features=1550, out_features=1200, bias=True)\n",
       "            )\n",
       "          )\n",
       "        )\n",
       "      )\n",
       "    )\n",
       "    (input_dp): RNNDropout()\n",
       "    (hidden_dps): ModuleList(\n",
       "      (0): RNNDropout()\n",
       "      (1): RNNDropout()\n",
       "      (2): RNNDropout()\n",
       "      (3): RNNDropout()\n",
       "    )\n",
       "  )\n",
       "  (1): LinearDecoder(\n",
       "    (decoder): Linear(in_features=400, out_features=60000, bias=True)\n",
       "    (output_dp): RNNDropout()\n",
       "  )\n",
       ")"
      ]
     },
     "execution_count": 46,
     "metadata": {},
     "output_type": "execute_result"
    }
   ],
   "source": [
    "learn.model"
   ]
  },
  {
   "cell_type": "code",
   "execution_count": 47,
   "metadata": {
    "hidden": true,
    "nbpresent": {
     "id": "e74f8988-7c26-495b-90fb-0da012f54c1a"
    }
   },
   "outputs": [
    {
     "data": {
      "text/html": [
       "\n",
       "    <div>\n",
       "        <style>\n",
       "            /* Turns off some styling */\n",
       "            progress {\n",
       "                /* gets rid of default border in Firefox and Opera. */\n",
       "                border: none;\n",
       "                /* Needs to be in here for Safari polyfill so background images work as expected. */\n",
       "                background-size: auto;\n",
       "            }\n",
       "            .progress-bar-interrupted, .progress-bar-interrupted::-webkit-progress-bar {\n",
       "                background: #F44336;\n",
       "            }\n",
       "        </style>\n",
       "      <progress value='0' class='' max='1', style='width:300px; height:20px; vertical-align: middle;'></progress>\n",
       "      0.00% [0/1 00:00<00:00]\n",
       "    </div>\n",
       "    \n",
       "<table border=\"1\" class=\"dataframe\">\n",
       "  <thead>\n",
       "    <tr style=\"text-align: left;\">\n",
       "      <th>epoch</th>\n",
       "      <th>train_loss</th>\n",
       "      <th>valid_loss</th>\n",
       "      <th>error_rate</th>\n",
       "      <th>accuracy</th>\n",
       "      <th>perplexity</th>\n",
       "      <th>time</th>\n",
       "    </tr>\n",
       "  </thead>\n",
       "  <tbody>\n",
       "  </tbody>\n",
       "</table><p>\n",
       "\n",
       "    <div>\n",
       "        <style>\n",
       "            /* Turns off some styling */\n",
       "            progress {\n",
       "                /* gets rid of default border in Firefox and Opera. */\n",
       "                border: none;\n",
       "                /* Needs to be in here for Safari polyfill so background images work as expected. */\n",
       "                background-size: auto;\n",
       "            }\n",
       "            .progress-bar-interrupted, .progress-bar-interrupted::-webkit-progress-bar {\n",
       "                background: #F44336;\n",
       "            }\n",
       "        </style>\n",
       "      <progress value='99' class='' max='46675', style='width:300px; height:20px; vertical-align: middle;'></progress>\n",
       "      0.21% [99/46675 00:32<4:14:05 23.7420]\n",
       "    </div>\n",
       "    "
      ],
      "text/plain": [
       "<IPython.core.display.HTML object>"
      ]
     },
     "metadata": {},
     "output_type": "display_data"
    },
    {
     "name": "stdout",
     "output_type": "stream",
     "text": [
      "LR Finder is complete, type {learner_name}.recorder.plot() to see the graph.\n"
     ]
    }
   ],
   "source": [
    "learn.lr_find()"
   ]
  },
  {
   "cell_type": "code",
   "execution_count": 48,
   "metadata": {
    "hidden": true,
    "nbpresent": {
     "id": "e0333edf-f5cd-4c7d-9db3-01dfb7cc4bb8"
    }
   },
   "outputs": [
    {
     "data": {
      "image/png": "[encoded data removed]",
      "text/plain": [
       "<Figure size 432x288 with 1 Axes>"
      ]
     },
     "metadata": {
      "needs_background": "light"
     },
     "output_type": "display_data"
    }
   ],
   "source": [
    "learn.recorder.plot()"
   ]
  },
  {
   "cell_type": "code",
   "execution_count": 49,
   "metadata": {
    "hidden": true,
    "nbpresent": {
     "id": "55299290-8c05-415f-8f73-a3656c1d488c"
    }
   },
   "outputs": [],
   "source": [
    "lr = 3e-3\n",
    "lr *= bs/48  # Scale learning rate by batch size"
   ]
  },
  {
   "cell_type": "code",
   "execution_count": null,
   "metadata": {},
   "outputs": [
    {
     "data": {
      "text/html": [
       "\n",
       "    <div>\n",
       "        <style>\n",
       "            /* Turns off some styling */\n",
       "            progress {\n",
       "                /* gets rid of default border in Firefox and Opera. */\n",
       "                border: none;\n",
       "                /* Needs to be in here for Safari polyfill so background images work as expected. */\n",
       "                background-size: auto;\n",
       "            }\n",
       "            .progress-bar-interrupted, .progress-bar-interrupted::-webkit-progress-bar {\n",
       "                background: #F44336;\n",
       "            }\n",
       "        </style>\n",
       "      <progress value='2' class='' max='10', style='width:300px; height:20px; vertical-align: middle;'></progress>\n",
       "      20.00% [2/10 11:05:52<44:23:29]\n",
       "    </div>\n",
       "    \n",
       "<table border=\"1\" class=\"dataframe\">\n",
       "  <thead>\n",
       "    <tr style=\"text-align: left;\">\n",
       "      <th>epoch</th>\n",
       "      <th>train_loss</th>\n",
       "      <th>valid_loss</th>\n",
       "      <th>error_rate</th>\n",
       "      <th>accuracy</th>\n",
       "      <th>perplexity</th>\n",
       "      <th>time</th>\n",
       "    </tr>\n",
       "  </thead>\n",
       "  <tbody>\n",
       "    <tr>\n",
       "      <td>0</td>\n",
       "      <td>3.230054</td>\n",
       "      <td>3.297531</td>\n",
       "      <td>0.552014</td>\n",
       "      <td>0.447986</td>\n",
       "      <td>27.045725</td>\n",
       "      <td>5:26:20</td>\n",
       "    </tr>\n",
       "    <tr>\n",
       "      <td>1</td>\n",
       "      <td>2.995877</td>\n",
       "      <td>3.269986</td>\n",
       "      <td>0.553188</td>\n",
       "      <td>0.446813</td>\n",
       "      <td>26.311113</td>\n",
       "      <td>5:39:31</td>\n",
       "    </tr>\n",
       "  </tbody>\n",
       "</table><p>\n",
       "\n",
       "    <div>\n",
       "        <style>\n",
       "            /* Turns off some styling */\n",
       "            progress {\n",
       "                /* gets rid of default border in Firefox and Opera. */\n",
       "                border: none;\n",
       "                /* Needs to be in here for Safari polyfill so background images work as expected. */\n",
       "                background-size: auto;\n",
       "            }\n",
       "            .progress-bar-interrupted, .progress-bar-interrupted::-webkit-progress-bar {\n",
       "                background: #F44336;\n",
       "            }\n",
       "        </style>\n",
       "      <progress value='42518' class='' max='55882', style='width:300px; height:20px; vertical-align: middle;'></progress>\n",
       "      76.09% [42518/55882 6:31:12<2:02:57 3.0245]\n",
       "    </div>\n",
       "    "
      ],
      "text/plain": [
       "<IPython.core.display.HTML object>"
      ]
     },
     "metadata": {},
     "output_type": "display_data"
    }
   ],
   "source": [
    "#learn.unfreeze()\n",
    "learn.fit_one_cycle(10, lr, moms=(0.8,0.7))"
   ]
  },
  {
   "cell_type": "markdown",
   "metadata": {
    "hidden": true
   },
   "source": [
    "Save the pretrained model and vocab:"
   ]
  },
  {
   "cell_type": "code",
   "execution_count": 18,
   "metadata": {
    "hidden": true
   },
   "outputs": [],
   "source": [
    "mdl_path = path/'models'\n",
    "mdl_path.mkdir(exist_ok=True)\n",
    "learn.to_fp32().save(mdl_path/lm_fns3[0], with_opt=False)\n",
    "learn.data.vocab.save(mdl_path/(lm_fns3[1] + '.pkl'))"
   ]
  },
  {
   "cell_type": "code",
   "execution_count": 17,
   "metadata": {
    "hidden": true,
    "nbpresent": {
     "id": "debf9e8a-b4ec-4b06-8344-a8f01150d941"
    }
   },
   "outputs": [
    {
     "data": {
      "text/html": [
       "<table border=\"1\" class=\"dataframe\">\n",
       "  <thead>\n",
       "    <tr style=\"text-align: left;\">\n",
       "      <th>epoch</th>\n",
       "      <th>train_loss</th>\n",
       "      <th>valid_loss</th>\n",
       "      <th>error_rate</th>\n",
       "      <th>accuracy</th>\n",
       "      <th>perplexity</th>\n",
       "      <th>time</th>\n",
       "    </tr>\n",
       "  </thead>\n",
       "  <tbody>\n",
       "    <tr>\n",
       "      <td>0</td>\n",
       "      <td>3.712833</td>\n",
       "      <td>3.801982</td>\n",
       "      <td>0.689854</td>\n",
       "      <td>0.310145</td>\n",
       "      <td>44.789921</td>\n",
       "      <td>45:07</td>\n",
       "    </tr>\n",
       "    <tr>\n",
       "      <td>1</td>\n",
       "      <td>3.495445</td>\n",
       "      <td>3.612981</td>\n",
       "      <td>0.673845</td>\n",
       "      <td>0.326156</td>\n",
       "      <td>37.076435</td>\n",
       "      <td>44:49</td>\n",
       "    </tr>\n",
       "    <tr>\n",
       "      <td>2</td>\n",
       "      <td>3.416562</td>\n",
       "      <td>3.550838</td>\n",
       "      <td>0.667659</td>\n",
       "      <td>0.332342</td>\n",
       "      <td>34.842659</td>\n",
       "      <td>45:11</td>\n",
       "    </tr>\n",
       "    <tr>\n",
       "      <td>3</td>\n",
       "      <td>3.346702</td>\n",
       "      <td>3.473753</td>\n",
       "      <td>0.658722</td>\n",
       "      <td>0.341275</td>\n",
       "      <td>32.257648</td>\n",
       "      <td>45:09</td>\n",
       "    </tr>\n",
       "    <tr>\n",
       "      <td>4</td>\n",
       "      <td>3.269586</td>\n",
       "      <td>3.402409</td>\n",
       "      <td>0.649641</td>\n",
       "      <td>0.350360</td>\n",
       "      <td>30.036201</td>\n",
       "      <td>45:10</td>\n",
       "    </tr>\n",
       "    <tr>\n",
       "      <td>5</td>\n",
       "      <td>3.206794</td>\n",
       "      <td>3.321666</td>\n",
       "      <td>0.639204</td>\n",
       "      <td>0.360796</td>\n",
       "      <td>27.706499</td>\n",
       "      <td>45:08</td>\n",
       "    </tr>\n",
       "    <tr>\n",
       "      <td>6</td>\n",
       "      <td>3.124528</td>\n",
       "      <td>3.235740</td>\n",
       "      <td>0.627807</td>\n",
       "      <td>0.372192</td>\n",
       "      <td>25.425192</td>\n",
       "      <td>45:08</td>\n",
       "    </tr>\n",
       "    <tr>\n",
       "      <td>7</td>\n",
       "      <td>3.092082</td>\n",
       "      <td>3.157651</td>\n",
       "      <td>0.616111</td>\n",
       "      <td>0.383889</td>\n",
       "      <td>23.515293</td>\n",
       "      <td>45:11</td>\n",
       "    </tr>\n",
       "    <tr>\n",
       "      <td>8</td>\n",
       "      <td>2.963153</td>\n",
       "      <td>3.095485</td>\n",
       "      <td>0.606017</td>\n",
       "      <td>0.393983</td>\n",
       "      <td>22.097927</td>\n",
       "      <td>45:11</td>\n",
       "    </tr>\n",
       "    <tr>\n",
       "      <td>9</td>\n",
       "      <td>2.998470</td>\n",
       "      <td>3.079903</td>\n",
       "      <td>0.603129</td>\n",
       "      <td>0.396870</td>\n",
       "      <td>21.756315</td>\n",
       "      <td>45:09</td>\n",
       "    </tr>\n",
       "  </tbody>\n",
       "</table>"
      ],
      "text/plain": [
       "<IPython.core.display.HTML object>"
      ]
     },
     "metadata": {},
     "output_type": "display_data"
    },
    {
     "data": {
      "image/png": "[encoded data removed]",
      "text/plain": [
       "<Figure size 432x288 with 1 Axes>"
      ]
     },
     "metadata": {},
     "output_type": "display_data"
    },
    {
     "name": "stdout",
     "output_type": "stream",
     "text": [
      "Better model found at epoch 0 with accuracy value: 0.31014543771743774.\n",
      "Better model found at epoch 1 with accuracy value: 0.3261563181877136.\n",
      "Better model found at epoch 2 with accuracy value: 0.3323418200016022.\n",
      "Better model found at epoch 3 with accuracy value: 0.34127548336982727.\n",
      "Better model found at epoch 4 with accuracy value: 0.3503599464893341.\n",
      "Better model found at epoch 5 with accuracy value: 0.3607962131500244.\n",
      "Better model found at epoch 6 with accuracy value: 0.3721919059753418.\n",
      "Better model found at epoch 7 with accuracy value: 0.3838889002799988.\n",
      "Better model found at epoch 8 with accuracy value: 0.393983393907547.\n",
      "Better model found at epoch 9 with accuracy value: 0.3968702554702759.\n",
      "CPU times: user 5h 51min 50s, sys: 1h 41min 8s, total: 7h 32min 59s\n",
      "Wall time: 7h 31min 56s\n"
     ]
    }
   ],
   "source": [
    "%%time\n",
    "learn.unfreeze()\n",
    "wd = 0.01 \n",
    "learn.fit_one_cycle(10, lr, wd=wd, moms=(0.8,0.7), \n",
    "                    callbacks=[ShowGraph(learn),\n",
    "                               SaveModelCallback(learn.to_fp32(), monitor='accuracy', name='bestmodel_sp15_multifit')])"
   ]
  },
  {
   "cell_type": "markdown",
   "metadata": {
    "hidden": true
   },
   "source": [
    "### Backward"
   ]
  },
  {
   "cell_type": "markdown",
   "metadata": {},
   "source": [
    "nesse estágio ainda não treinei o backward"
   ]
  },
  {
   "cell_type": "code",
   "execution_count": 19,
   "metadata": {
    "hidden": true
   },
   "outputs": [],
   "source": [
    "# data = load_data(path, f'{lang}_databunch_corpus2_100_sp15_multifit_bwd', bs=bs, backwards=True)"
   ]
  },
  {
   "cell_type": "code",
   "execution_count": 20,
   "metadata": {
    "hidden": true
   },
   "outputs": [],
   "source": [
    "# config = awd_lstm_lm_config.copy()\n",
    "# config['qrnn'] = True\n",
    "# config['n_hid'] = 1550 #default 1152\n",
    "# config['n_layers'] = 4 #default 3"
   ]
  },
  {
   "cell_type": "code",
   "execution_count": 21,
   "metadata": {
    "hidden": true,
    "scrolled": false
   },
   "outputs": [
    {
     "name": "stdout",
     "output_type": "stream",
     "text": [
      "CPU times: user 952 ms, sys: 68 ms, total: 1.02 s\n",
      "Wall time: 1.02 s\n"
     ]
    }
   ],
   "source": [
    "# %%time\n",
    "# perplexity = Perplexity()\n",
    "# learn = language_model_learner(data, AWD_LSTM, config=config, drop_mult=0., pretrained=False, \n",
    "#                                metrics=[error_rate, accuracy, perplexity]).to_fp16()"
   ]
  },
  {
   "cell_type": "code",
   "execution_count": 22,
   "metadata": {
    "hidden": true
   },
   "outputs": [
    {
     "data": {
      "text/html": [],
      "text/plain": [
       "<IPython.core.display.HTML object>"
      ]
     },
     "metadata": {},
     "output_type": "display_data"
    },
    {
     "name": "stdout",
     "output_type": "stream",
     "text": [
      "LR Finder is complete, type {learner_name}.recorder.plot() to see the graph.\n"
     ]
    }
   ],
   "source": [
    "# learn.lr_find()"
   ]
  },
  {
   "cell_type": "code",
   "execution_count": 23,
   "metadata": {
    "hidden": true
   },
   "outputs": [
    {
     "data": {
      "image/png": "[encoded data removed]",
      "text/plain": [
       "<Figure size 432x288 with 1 Axes>"
      ]
     },
     "metadata": {
      "needs_background": "light"
     },
     "output_type": "display_data"
    }
   ],
   "source": [
    "# learn.recorder.plot()"
   ]
  },
  {
   "cell_type": "code",
   "execution_count": 24,
   "metadata": {
    "hidden": true
   },
   "outputs": [],
   "source": [
    "# lr = 3e-3\n",
    "# lr *= bs/48  # Scale learning rate by batch size\n",
    "\n",
    "# wd = 0.01"
   ]
  },
  {
   "cell_type": "code",
   "execution_count": 25,
   "metadata": {
    "hidden": true
   },
   "outputs": [
    {
     "data": {
      "text/html": [
       "<table border=\"1\" class=\"dataframe\">\n",
       "  <thead>\n",
       "    <tr style=\"text-align: left;\">\n",
       "      <th>epoch</th>\n",
       "      <th>train_loss</th>\n",
       "      <th>valid_loss</th>\n",
       "      <th>error_rate</th>\n",
       "      <th>accuracy</th>\n",
       "      <th>perplexity</th>\n",
       "      <th>time</th>\n",
       "    </tr>\n",
       "  </thead>\n",
       "  <tbody>\n",
       "    <tr>\n",
       "      <td>0</td>\n",
       "      <td>3.759265</td>\n",
       "      <td>3.812161</td>\n",
       "      <td>0.645454</td>\n",
       "      <td>0.354546</td>\n",
       "      <td>45.248158</td>\n",
       "      <td>45:15</td>\n",
       "    </tr>\n",
       "    <tr>\n",
       "      <td>1</td>\n",
       "      <td>3.524330</td>\n",
       "      <td>3.643459</td>\n",
       "      <td>0.632401</td>\n",
       "      <td>0.367599</td>\n",
       "      <td>38.223717</td>\n",
       "      <td>45:16</td>\n",
       "    </tr>\n",
       "    <tr>\n",
       "      <td>2</td>\n",
       "      <td>3.399805</td>\n",
       "      <td>3.569191</td>\n",
       "      <td>0.624596</td>\n",
       "      <td>0.375404</td>\n",
       "      <td>35.487923</td>\n",
       "      <td>45:14</td>\n",
       "    </tr>\n",
       "    <tr>\n",
       "      <td>3</td>\n",
       "      <td>3.358356</td>\n",
       "      <td>3.492392</td>\n",
       "      <td>0.615690</td>\n",
       "      <td>0.384309</td>\n",
       "      <td>32.864567</td>\n",
       "      <td>48:06</td>\n",
       "    </tr>\n",
       "    <tr>\n",
       "      <td>4</td>\n",
       "      <td>3.298991</td>\n",
       "      <td>3.423204</td>\n",
       "      <td>0.607334</td>\n",
       "      <td>0.392666</td>\n",
       "      <td>30.667429</td>\n",
       "      <td>44:30</td>\n",
       "    </tr>\n",
       "    <tr>\n",
       "      <td>5</td>\n",
       "      <td>3.230762</td>\n",
       "      <td>3.344130</td>\n",
       "      <td>0.598109</td>\n",
       "      <td>0.401891</td>\n",
       "      <td>28.335854</td>\n",
       "      <td>44:15</td>\n",
       "    </tr>\n",
       "    <tr>\n",
       "      <td>6</td>\n",
       "      <td>3.139510</td>\n",
       "      <td>3.259253</td>\n",
       "      <td>0.586869</td>\n",
       "      <td>0.413130</td>\n",
       "      <td>26.030067</td>\n",
       "      <td>44:16</td>\n",
       "    </tr>\n",
       "    <tr>\n",
       "      <td>7</td>\n",
       "      <td>3.123008</td>\n",
       "      <td>3.175821</td>\n",
       "      <td>0.575663</td>\n",
       "      <td>0.424338</td>\n",
       "      <td>23.946394</td>\n",
       "      <td>44:10</td>\n",
       "    </tr>\n",
       "    <tr>\n",
       "      <td>8</td>\n",
       "      <td>3.007710</td>\n",
       "      <td>3.114435</td>\n",
       "      <td>0.566360</td>\n",
       "      <td>0.433641</td>\n",
       "      <td>22.520712</td>\n",
       "      <td>44:10</td>\n",
       "    </tr>\n",
       "    <tr>\n",
       "      <td>9</td>\n",
       "      <td>2.955673</td>\n",
       "      <td>3.098413</td>\n",
       "      <td>0.563313</td>\n",
       "      <td>0.436688</td>\n",
       "      <td>22.162729</td>\n",
       "      <td>44:18</td>\n",
       "    </tr>\n",
       "  </tbody>\n",
       "</table>"
      ],
      "text/plain": [
       "<IPython.core.display.HTML object>"
      ]
     },
     "metadata": {},
     "output_type": "display_data"
    },
    {
     "data": {
      "image/png": "[encoded data removed]",
      "text/plain": [
       "<Figure size 432x288 with 1 Axes>"
      ]
     },
     "metadata": {},
     "output_type": "display_data"
    },
    {
     "name": "stdout",
     "output_type": "stream",
     "text": [
      "Better model found at epoch 0 with accuracy value: 0.35454609990119934.\n",
      "Better model found at epoch 1 with accuracy value: 0.36759868264198303.\n",
      "Better model found at epoch 2 with accuracy value: 0.3754040598869324.\n",
      "Better model found at epoch 3 with accuracy value: 0.38430914282798767.\n",
      "Better model found at epoch 4 with accuracy value: 0.39266595244407654.\n",
      "Better model found at epoch 5 with accuracy value: 0.4018912613391876.\n",
      "Better model found at epoch 6 with accuracy value: 0.4131302535533905.\n",
      "Better model found at epoch 7 with accuracy value: 0.4243376851081848.\n",
      "Better model found at epoch 8 with accuracy value: 0.43364080786705017.\n",
      "Better model found at epoch 9 with accuracy value: 0.43668755888938904.\n",
      "CPU times: user 5h 48min 48s, sys: 1h 42min 19s, total: 7h 31min 7s\n",
      "Wall time: 7h 30min 9s\n"
     ]
    }
   ],
   "source": [
    "# %%time\n",
    "# learn.unfreeze()\n",
    "# learn.fit_one_cycle(10, lr, wd=wd, moms=(0.8,0.7), \n",
    "#                     callbacks=[ShowGraph(learn),\n",
    "#                                SaveModelCallback(learn.to_fp32(), monitor='accuracy', name='bestmodel_sp15_multifit_bwd')])"
   ]
  },
  {
   "cell_type": "code",
   "execution_count": 26,
   "metadata": {
    "hidden": true
   },
   "outputs": [],
   "source": [
    "# mdl_path = path/'models'\n",
    "# mdl_path.mkdir(exist_ok=True)\n",
    "# learn.to_fp32().save(mdl_path/lm_fns3_bwd[0], with_opt=False)\n",
    "# learn.data.vocab.save(mdl_path/(lm_fns3_bwd[1] + '.pkl'))"
   ]
  },
  {
   "cell_type": "markdown",
   "metadata": {
    "nbpresent": {
     "id": "29ff5bf7-47d3-4bb6-8ef7-4dbee784acd0"
    }
   },
   "source": [
    "## Generate fake texts"
   ]
  },
  {
   "cell_type": "markdown",
   "metadata": {},
   "source": [
    "**Note**: the architecture used for our Portuguese LM is based on 4 QRNN with about 46 millions of parameters. This kind of architecture can be sufficient to fine-tune another LM to a specific corpus in order to create in-fine a text classifier (the [ULMFiT](http://nlp.fast.ai/category/classification.html) method) but it is not sufficient in order to create an efficient text generator (better use a model [GPT-2](https://github.com/openai/gpt-2) or [BERT](https://github.com/google-research/bert)). More, the SentencePiece tokenizer used in this notebook implements subword units (e.g., byte-pair-encoding (BPE) [Sennrich et al.]) and unigram language model [Kudo.]) that can generate caracters from its vocabulary instead of words. "
   ]
  },
  {
   "cell_type": "code",
   "execution_count": 9,
   "metadata": {
    "nbpresent": {
     "id": "903b31b8-77bb-48a7-a6de-fd2584005619"
    }
   },
   "outputs": [
    {
     "name": "stdout",
     "output_type": "stream",
     "text": [
      "CPU times: user 3.11 s, sys: 1.81 s, total: 4.92 s\n",
      "Wall time: 13.7 s\n"
     ]
    }
   ],
   "source": [
    "%%time\n",
    "data = load_data(path, f'{lang}_databunch_corpus2_100_sp15_multifit', bs=bs)"
   ]
  },
  {
   "cell_type": "code",
   "execution_count": 10,
   "metadata": {},
   "outputs": [],
   "source": [
    "config = awd_lstm_lm_config.copy()\n",
    "config['qrnn'] = True\n",
    "config['n_hid'] = 1550 #default 1152\n",
    "config['n_layers'] = 4 #default 3"
   ]
  },
  {
   "cell_type": "code",
   "execution_count": 11,
   "metadata": {
    "nbpresent": {
     "id": "f2e132d0-a490-49cb-895a-ee9a66c76c2d"
    }
   },
   "outputs": [],
   "source": [
    "# LM without pretraining\n",
    "learn = language_model_learner(data, AWD_LSTM, config=config, pretrained=False)"
   ]
  },
  {
   "cell_type": "code",
   "execution_count": 12,
   "metadata": {
    "nbpresent": {
     "id": "7596a7ac-558a-4bd7-80af-247bf0a82732"
    }
   },
   "outputs": [],
   "source": [
    "# LM pretrained in English\n",
    "learn_en = language_model_learner(data, AWD_LSTM, pretrained=True)"
   ]
  },
  {
   "cell_type": "code",
   "execution_count": 13,
   "metadata": {
    "nbpresent": {
     "id": "cdaac260-7cfc-4255-b03f-e1a88eccdc71"
    }
   },
   "outputs": [],
   "source": [
    "# LM pretrained in french\n",
    "learn_pt = language_model_learner(data, AWD_LSTM, config=config, pretrained_fnames=lm_fns3)"
   ]
  },
  {
   "cell_type": "code",
   "execution_count": 14,
   "metadata": {
    "nbpresent": {
     "id": "12d9ce7c-fdb1-4108-ab95-764a015f8e0e"
    },
    "scrolled": false
   },
   "outputs": [
    {
     "name": "stdout",
     "output_type": "stream",
     "text": [
      "Nadal venceu o torneio ▁comprar ▁relevante ▁cordas mila ▁lutadores ▁assumido fos ল velmente ▁conjunto ▁american ▁lentamente ▁empregada ▁extra เ anfitriã ⵙ ▁gonzaga ⊂ ̌ coli ▁feijão gi ▁útil ▁notável evolution my 20 ▁gen ▁subespécie ổ ▁cachoeira ▁natal nik ▁jornal ▁cartões ▁desportivo ▁grega ỏ sa ▁azulejos ▁habitat ▁energia fc ▁fazê 68 ▁reencontra ▁humorístico ▁mitchell ▁kris organiz ▁designar ▁castro ▁cerâmica ▁bob burg dos ▁usualmente ▁pessoas ▁principais ▁saudita ▁rom ▁escolhido ▁abandonou ▁patrimônio rid ib ▁ventos ▁banda ▁fim ▁dinamarquesa ን ▁divididos ▁apropriado carna ▁graves ▁vir ▁fm ខ far ▁cbf 提 wel ▁aclamação ├ 童 ▁vinda ▁alusão mun ▁bacia 工 ▁arrenda ▁biológica ▁marginal ▁cheio hí ▁chicago ▁daí 화 ▁parceira\n"
     ]
    }
   ],
   "source": [
    "TEXT = \"Nadal venceu o torneio\" # original text\n",
    "N_WORDS = 100 # number of words to predict following the TEXT\n",
    "N_SENTENCES = 1 # number of different predictions\n",
    "\n",
    "print(\"\\n\".join(learn.predict(TEXT, N_WORDS, temperature=0.75) for _ in range(N_SENTENCES)))"
   ]
  },
  {
   "cell_type": "code",
   "execution_count": 15,
   "metadata": {
    "nbpresent": {
     "id": "9be3d15c-526a-4ab7-bd46-16e8a8c58142"
    },
    "scrolled": false
   },
   "outputs": [
    {
     "name": "stdout",
     "output_type": "stream",
     "text": [
      "Nadal venceu o torneio into the \" big - screen \" . a \" ' cop - man ' game , \" \" a first - time \" , is a one - game , game - to - day play . \" a \" as a game for the \" bad man \" , \" you - do - it - you - do - it - me - to - do \" game , \" the first game \" , is \" the first game in the world \" . a game in all four game , \" the game \" ,\n"
     ]
    }
   ],
   "source": [
    "TEXT = \"Nadal venceu o torneio\" # original text\n",
    "N_WORDS = 100 # number of words to predict following the TEXT\n",
    "N_SENTENCES = 1 # number of different predictions\n",
    "\n",
    "print(\"\\n\".join(learn_en.predict(TEXT, N_WORDS, temperature=0.75) for _ in range(N_SENTENCES)))"
   ]
  },
  {
   "cell_type": "code",
   "execution_count": 16,
   "metadata": {
    "nbpresent": {
     "id": "35c213f4-3c90-4774-9cdd-56da02ebe3a8"
    },
    "scrolled": false
   },
   "outputs": [
    {
     "name": "stdout",
     "output_type": "stream",
     "text": [
      "Nadal venceu o torneio ▁xxmaj ▁ ▁oficial ▁de ▁ , ▁em ▁seu ▁segundo ▁dia ▁no ▁dia ▁da ▁xxmaj ▁copa ▁xxmaj ▁ master s , ▁em ▁xxmaj ▁ las ▁xxmaj ▁vegas , ▁em ▁15 ▁de ▁xxmaj ▁abril ▁de ▁2016. ▁xxmaj ▁durante ▁a ▁temporada , ▁foi ▁o ▁primeiro ▁título ▁da ▁liga , ▁vencendo ▁o ▁xxmaj ▁ s pur s ▁por ▁9 zo s ▁por ▁3 ▁a ▁0 . ▁o ▁campeão ▁foi ▁o ▁ , ▁da ▁xxmaj ▁copa ▁do ▁xxmaj ▁mundo ▁de ▁xxmaj ▁ ty r rell , ▁onde ▁o ▁título ▁passou ▁a ▁ser ▁xxmaj ▁ s qua d . ▁a ▁xxup ▁ m l s ▁é\n"
     ]
    }
   ],
   "source": [
    "TEXT = \"Nadal venceu o torneio\" # original text\n",
    "N_WORDS = 100 # number of words to predict following the TEXT\n",
    "N_SENTENCES = 1 # number of different predictions\n",
    "\n",
    "print(\"\\n\".join(learn_pt.predict(TEXT, N_WORDS, temperature=0.75) for _ in range(N_SENTENCES)))"
   ]
  }
 ],
 "metadata": {
  "kernelspec": {
   "display_name": "Python 3",
   "language": "python",
   "name": "python3"
  },
  "language_info": {
   "codemirror_mode": {
    "name": "ipython",
    "version": 3
   },
   "file_extension": ".py",
   "mimetype": "text/x-python",
   "name": "python",
   "nbconvert_exporter": "python",
   "pygments_lexer": "ipython3",
   "version": "3.7.7"
  }
 },
 "nbformat": 4,
 "nbformat_minor": 2
}
