{
 "cells": [
  {
   "cell_type": "markdown",
   "metadata": {
    "nbpresent": {
     "id": "e38c0aad-6ca2-456d-b908-cbbec3c9e34d"
    }
   },
   "source": [
    "# Limpeza da base do wiki português\n",
    "\n",
    "Esses foram os processos que realizei para tentar pegar uma base wiki balanceada e com 100 milhões de tokens.\n",
    "\n",
    "Os 100 milhões de token é uma referencia ao wiki 103 que foi a base para o languege model em inglês que o fast.ai usa. A base utilizou 100 milhões de tokens. Mais informações em : https://www.salesforce.com/products/einstein/ai-research/the-wikitext-dependency-language-modeling-dataset/\n",
    "\n",
    "A questão de balancear foi uma tentativa de selecionar os artigos de forma mais ampla possível.\n",
    "\n",
    "A primeira tentativa foi usar o recurso de filtrar as categorias no wikiextractor (processo invocado durante o script get_wiki - ver abaixo). No entanto, não consegui ter sucesso. Minhas hipóteses são: os editores do wiki portuguẽs não usam o mesmo padrão que o wiki US ou tem algum problema com as tags.\n",
    "\n",
    "Incialmente tentei alterar o script, mas ele é muito complexo.\n",
    "\n",
    "Pensei em fazer um parser para ler o xml e criar um novo wikiextractor. Mas é um trabalho gigante. Pode ser feito posteriormente.\n",
    "\n",
    "Por isso abordei aqui a idéia de clusterizar textos do wikipedia. Assim peguei as primeiras 500 palavras de cada artigo e montei um modelo de cluster que resultou em 69 clusters.\n",
    "Um dos clusters ficou muito diverso e grande, fiz um novo cluster a partir dele, o que resultou em algo próximo a 96 clusters.\n",
    "\n",
    "Para cada cluster eu analisei as principais palavras daquele cluster para entender o que o modelo deve ter usado para fazer a inferência.\n",
    "\n",
    "Depois fiz uma analise manual de cada um dos clusters. A analise está nesta planilha. https://docs.google.com/spreadsheets/d/1GIHw68pleqQM6QH7U-BL9GtpuCUkTXiT17D7d9E0kYE/edit?usp=sharing\n",
    "\n",
    "É bastante superficial e provavelmente deixa bastante falhas. Mas atingiu em parte o objetivo. No final temos 66 mil arquivos com 96 milhões de tokes\n",
    "\n",
    "Um outro teste que realizei e vou compartilhar em outro notebook, foi reescrever os artigos do wiki usando POS (part of speech) do scipy. A idéia era remontar os 66 mil artigos deixando apenas as sentenças consideradas bem escritas. Vou compartilhar o notebook em que fiz esse trabalho."
   ]
  },
  {
   "cell_type": "markdown",
   "metadata": {
    "heading_collapsed": true
   },
   "source": [
    "## Initialization"
   ]
  },
  {
   "cell_type": "code",
   "execution_count": 1,
   "metadata": {
    "hidden": true,
    "nbpresent": {
     "id": "151cd18f-76e3-440f-a8c7-ffa5c6b5da01"
    }
   },
   "outputs": [],
   "source": [
    "from fastai import *\n",
    "from fastai.text import *\n",
    "from fastai.callbacks import *\n",
    "\n",
    "import matplotlib.pyplot as plt\n",
    "\n",
    "%reload_ext autoreload\n",
    "%autoreload 2\n",
    "%matplotlib inline"
   ]
  },
  {
   "cell_type": "code",
   "execution_count": 2,
   "metadata": {
    "hidden": true,
    "nbpresent": {
     "id": "6ceb4db2-e4cf-4fe0-a393-91df4a7ed3e7"
    }
   },
   "outputs": [],
   "source": [
    "torch.cuda.set_device(0)"
   ]
  },
  {
   "cell_type": "code",
   "execution_count": 3,
   "metadata": {
    "hidden": true,
    "nbpresent": {
     "id": "6329e650-fc03-4323-ac0c-3aa280e0de91"
    }
   },
   "outputs": [
    {
     "name": "stdout",
     "output_type": "stream",
     "text": [
      "fastai: 1.0.60\n",
      "cuda: True\n"
     ]
    }
   ],
   "source": [
    "import fastai\n",
    "print(f'fastai: {fastai.__version__}')\n",
    "print(f'cuda: {torch.cuda.is_available()}')"
   ]
  },
  {
   "cell_type": "code",
   "execution_count": 4,
   "metadata": {
    "hidden": true,
    "nbpresent": {
     "id": "6f24e68b-3df0-4997-8a50-3a37ea6a5257"
    }
   },
   "outputs": [
    {
     "name": "stdout",
     "output_type": "stream",
     "text": [
      "\r\n",
      "\r\n",
      "```text\r\n",
      "=== Software === \r\n",
      "python        : 3.7.7\r\n",
      "fastai        : 1.0.60\r\n",
      "fastprogress  : 0.2.2\r\n",
      "torch         : 1.4.0\r\n",
      "nvidia driver : 440.82\r\n",
      "torch cuda    : 10.1 / is available\r\n",
      "torch cudnn   : 7603 / is enabled\r\n",
      "\r\n",
      "=== Hardware === \r\n",
      "nvidia gpus   : 1\r\n",
      "torch devices : 1\r\n",
      "  - gpu0      : 8117MB | GeForce GTX 1070\r\n",
      "\r\n",
      "=== Environment === \r\n",
      "platform      : Linux-5.3.0-46-generic-x86_64-with-debian-buster-sid\r\n",
      "distro        : #38~18.04.1-Ubuntu SMP Tue Mar 31 04:17:56 UTC 2020\r\n",
      "conda env     : fastai\r\n",
      "python        : /home/wesley/anaconda3/envs/fastai/bin/python\r\n",
      "sys.path      : /mnt/dados/Github/ia-squad/languagemodel\r\n",
      "/home/wesley/anaconda3/envs/fastai/lib/python37.zip\r\n",
      "/home/wesley/anaconda3/envs/fastai/lib/python3.7\r\n",
      "/home/wesley/anaconda3/envs/fastai/lib/python3.7/lib-dynload\r\n",
      "/home/wesley/anaconda3/envs/fastai/lib/python3.7/site-packages\r\n",
      "/home/wesley/anaconda3/envs/fastai/lib/python3.7/site-packages/IPython/extensions\r\n",
      "```\r\n",
      "\r\n",
      "Please make sure to include opening/closing ``` when you paste into forums/github to make the reports appear formatted as code sections.\r\n",
      "\r\n",
      "Optional package(s) to enhance the diagnostics can be installed with:\r\n",
      "pip install distro\r\n",
      "Once installed, re-run this utility to get the additional information\r\n"
     ]
    }
   ],
   "source": [
    "!python -m fastai.utils.show_install"
   ]
  },
  {
   "cell_type": "code",
   "execution_count": 5,
   "metadata": {
    "hidden": true,
    "nbpresent": {
     "id": "194a6989-31f1-4702-b94d-32b974ded8e6"
    }
   },
   "outputs": [],
   "source": [
    "data_path = Config.data_path()"
   ]
  },
  {
   "cell_type": "markdown",
   "metadata": {
    "hidden": true,
    "nbpresent": {
     "id": "cf070ab7-babb-4cf0-a315-401f65461dc8"
    }
   },
   "source": [
    "This will create a `{lang}wiki` folder, containing a `{lang}wiki` text file with the wikipedia contents. (For other languages, replace `{lang}` with the appropriate code from the [list of wikipedias](https://meta.wikimedia.org/wiki/List_of_Wikipedias).)"
   ]
  },
  {
   "cell_type": "code",
   "execution_count": 6,
   "metadata": {
    "hidden": true,
    "nbpresent": {
     "id": "70da588b-8af1-4f97-97c2-c9f2d4d46e1a"
    }
   },
   "outputs": [],
   "source": [
    "lang = 'pt'"
   ]
  },
  {
   "cell_type": "code",
   "execution_count": 7,
   "metadata": {
    "hidden": true,
    "nbpresent": {
     "id": "701ab344-0430-4f43-bbe2-337a12cae6be"
    }
   },
   "outputs": [],
   "source": [
    "name = f'{lang}wiki'\n",
    "path = data_path/name\n",
    "path.mkdir(exist_ok=True, parents=True)"
   ]
  },
  {
   "cell_type": "code",
   "execution_count": 9,
   "metadata": {},
   "outputs": [
    {
     "data": {
      "text/plain": [
       "'LC_CTYPE=pt_BR.UTF-8;LC_NUMERIC=pt_BR.UTF-8;LC_TIME=pt_BR.UTF-8;LC_COLLATE=en_US.UTF-8;LC_MONETARY=pt_BR.UTF-8;LC_MESSAGES=en_US.UTF-8;LC_PAPER=pt_BR.UTF-8;LC_NAME=pt_BR.UTF-8;LC_ADDRESS=pt_BR.UTF-8;LC_TELEPHONE=pt_BR.UTF-8;LC_MEASUREMENT=pt_BR.UTF-8;LC_IDENTIFICATION=pt_BR.UTF-8'"
      ]
     },
     "execution_count": 9,
     "metadata": {},
     "output_type": "execute_result"
    }
   ],
   "source": [
    "import unidecode\n",
    "import locale\n",
    "locale.setlocale(locale.LC_ALL, '')"
   ]
  },
  {
   "cell_type": "markdown",
   "metadata": {
    "heading_collapsed": true,
    "nbpresent": {
     "id": "bfe49910-58e0-4be3-aba1-7733dc18cca2"
    }
   },
   "source": [
    "## Data (Portuguese wikipedia)"
   ]
  },
  {
   "cell_type": "markdown",
   "metadata": {
    "heading_collapsed": true,
    "hidden": true,
    "nbpresent": {
     "id": "4e67d876-c7d0-4bdf-a6f9-ae06ae1fc023"
    }
   },
   "source": [
    "### Download data"
   ]
  },
  {
   "cell_type": "code",
   "execution_count": 10,
   "metadata": {
    "hidden": true,
    "nbpresent": {
     "id": "dd2fd658-b690-484c-b60a-69dc6b7bf384"
    }
   },
   "outputs": [],
   "source": [
    "#from nlputils import split_wiki,get_wiki\n",
    "from nlputils2 import *"
   ]
  },
  {
   "cell_type": "markdown",
   "metadata": {},
   "source": [
    "Faz o download da base do wiki em formato comprimido, expande o arquivo para o formato xml e extrai os artigos\n",
    "usando o programa wikiextractor (que é copiado durante a execução do script)\n",
    "\n",
    "Ele cria um arquivo chamado: ptwiki"
   ]
  },
  {
   "cell_type": "code",
   "execution_count": 10,
   "metadata": {
    "hidden": true,
    "nbpresent": {
     "id": "28c01920-f13c-493e-9a97-e5b2c24133a8"
    }
   },
   "outputs": [
    {
     "name": "stdout",
     "output_type": "stream",
     "text": [
      "downloading...\n"
     ]
    },
    {
     "data": {
      "text/html": [],
      "text/plain": [
       "<IPython.core.display.HTML object>"
      ]
     },
     "metadata": {},
     "output_type": "display_data"
    },
    {
     "name": "stdout",
     "output_type": "stream",
     "text": [
      "unzipping...\n",
      "extracting...\n",
      "CPU times: user 4min 30s, sys: 16.2 s, total: 4min 46s\n",
      "Wall time: 17min 6s\n"
     ]
    }
   ],
   "source": [
    "# %%time\n",
    "\n",
    "# get_wiki(path,lang)"
   ]
  },
  {
   "cell_type": "markdown",
   "metadata": {
    "hidden": true
   },
   "source": [
    "A função abaixo (split_wiki2) lê o arquivo ptwiki, cria o diretório docs e cria um arquivo para cada artigo"
   ]
  },
  {
   "cell_type": "code",
   "execution_count": 11,
   "metadata": {
    "hidden": true,
    "scrolled": true
   },
   "outputs": [
    {
     "name": "stdout",
     "output_type": "stream",
     "text": [
      "0\n",
      "100000\n",
      "200000\n",
      "300000\n",
      "400000\n",
      "500000\n",
      "600000\n",
      "700000\n",
      "800000\n",
      "900000\n",
      "1000000\n",
      "1100000\n",
      "1200000\n",
      "1300000\n",
      "1400000\n",
      "1500000\n",
      "1600000\n",
      "1700000\n",
      "1800000\n",
      "1900000\n",
      "2000000\n",
      "2100000\n",
      "2200000\n",
      "2300000\n",
      "2400000\n",
      "2500000\n",
      "2600000\n",
      "2700000\n",
      "2800000\n",
      "2900000\n",
      "3000000\n",
      "3100000\n",
      "3200000\n",
      "3300000\n",
      "3400000\n",
      "3500000\n",
      "3600000\n",
      "3700000\n",
      "3800000\n",
      "3900000\n",
      "4000000\n",
      "4100000\n",
      "4200000\n",
      "4300000\n",
      "4400000\n",
      "4500000\n",
      "4600000\n",
      "4700000\n",
      "4800000\n",
      "4900000\n",
      "5000000\n",
      "5100000\n",
      "5200000\n",
      "5300000\n",
      "5400000\n",
      "5500000\n",
      "5600000\n",
      "5700000\n",
      "5800000\n",
      "5900000\n",
      "6000000\n",
      "6100000\n",
      "6200000\n",
      "6300000\n",
      "6400000\n",
      "6500000\n",
      "6600000\n",
      "6700000\n",
      "6800000\n",
      "6900000\n",
      "7000000\n",
      "7100000\n",
      "7200000\n",
      "CPU times: user 17.3 s, sys: 5.47 s, total: 22.8 s\n",
      "Wall time: 22.9 s\n"
     ]
    },
    {
     "data": {
      "text/plain": [
       "PosixPath('/home/wesley/.fastai/data/ptwiki/docs')"
      ]
     },
     "execution_count": 11,
     "metadata": {},
     "output_type": "execute_result"
    }
   ],
   "source": [
    "# %%time\n",
    "# split_wiki2(path,lang)"
   ]
  },
  {
   "cell_type": "code",
   "execution_count": 11,
   "metadata": {
    "hidden": true,
    "nbpresent": {
     "id": "e6eae780-775e-45e9-9b99-b8a87d5fb8ff"
    }
   },
   "outputs": [
    {
     "data": {
      "text/plain": [
       "[PosixPath('/home/wesley/.fastai/data/ptwiki/ptwiki-latest-pages-articles.xml'),\n",
       " PosixPath('/home/wesley/.fastai/data/ptwiki/docs'),\n",
       " PosixPath('/home/wesley/.fastai/data/ptwiki/log'),\n",
       " PosixPath('/home/wesley/.fastai/data/ptwiki/testedocs'),\n",
       " PosixPath('/home/wesley/.fastai/data/ptwiki/wikiextractor'),\n",
       " PosixPath('/home/wesley/.fastai/data/ptwiki/testedocs.zip'),\n",
       " PosixPath('/home/wesley/.fastai/data/ptwiki/ptwiki'),\n",
       " PosixPath('/home/wesley/.fastai/data/ptwiki/tmp')]"
      ]
     },
     "execution_count": 11,
     "metadata": {},
     "output_type": "execute_result"
    }
   ],
   "source": [
    "path.ls()"
   ]
  },
  {
   "cell_type": "code",
   "execution_count": 12,
   "metadata": {
    "hidden": true,
    "nbpresent": {
     "id": "92b0b087-a6a8-403a-a7a1-d9b47757e5cf"
    }
   },
   "outputs": [
    {
     "data": {
      "text/plain": [
       "[PosixPath('/home/wesley/.fastai/data/ptwiki/docs/Mariner_10_59459.txt'),\n",
       " PosixPath('/home/wesley/.fastai/data/ptwiki/docs/Thunderbolts_52556.txt'),\n",
       " PosixPath('/home/wesley/.fastai/data/ptwiki/docs/Recarei_2450.txt'),\n",
       " PosixPath('/home/wesley/.fastai/data/ptwiki/docs/Leopardo_de_amur_32655.txt'),\n",
       " PosixPath('/home/wesley/.fastai/data/ptwiki/docs/Miofibroblasto_136449.txt')]"
      ]
     },
     "execution_count": 12,
     "metadata": {},
     "output_type": "execute_result"
    }
   ],
   "source": [
    "dest = path/'docs'\n",
    "dest.ls()[:5]"
   ]
  },
  {
   "cell_type": "code",
   "execution_count": 12,
   "metadata": {},
   "outputs": [
    {
     "name": "stdout",
     "output_type": "stream",
     "text": [
      "177435\r\n"
     ]
    }
   ],
   "source": [
    "! ls -l {dest} | egrep -c '^-'"
   ]
  },
  {
   "cell_type": "code",
   "execution_count": 13,
   "metadata": {},
   "outputs": [
    {
     "name": "stdout",
     "output_type": "stream",
     "text": [
      "200.120 files - 190.422.407 tokens - 4.308.184 unique tokens\n",
      "CPU times: user 59.1 s, sys: 2.25 s, total: 1min 1s\n",
      "Wall time: 1min 1s\n"
     ]
    }
   ],
   "source": [
    "%%time\n",
    "# analisando o numero de arquivos e tokens na pasta onde estão os artigos do wiki\n",
    "\n",
    "num_files, num_tokens,num_unique_tokens = get_num_tokens(dest)\n",
    "print(f'{num_files:n} files - {num_tokens:n} tokens - {num_unique_tokens:n} unique tokens')"
   ]
  },
  {
   "cell_type": "markdown",
   "metadata": {},
   "source": [
    "### Limpeza dos dados"
   ]
  },
  {
   "cell_type": "markdown",
   "metadata": {},
   "source": [
    "A função clean_files eu alterei bastante. Eu removi diversos itens dos artigos, tais como: tags, informações entre parenteses, caractereses especiais, etc."
   ]
  },
  {
   "cell_type": "code",
   "execution_count": 14,
   "metadata": {},
   "outputs": [
    {
     "name": "stdout",
     "output_type": "stream",
     "text": [
      "0\n",
      "1000\n",
      "2000\n",
      "3000\n",
      "4000\n",
      "5000\n",
      "6000\n",
      "7000\n",
      "8000\n",
      "9000\n",
      "10000\n",
      "11000\n",
      "12000\n",
      "13000\n",
      "14000\n",
      "15000\n",
      "16000\n",
      "17000\n",
      "18000\n",
      "19000\n",
      "20000\n",
      "21000\n",
      "22000\n",
      "23000\n",
      "24000\n",
      "25000\n",
      "26000\n",
      "27000\n",
      "28000\n",
      "29000\n",
      "30000\n",
      "31000\n",
      "32000\n",
      "33000\n",
      "34000\n",
      "35000\n",
      "36000\n",
      "37000\n",
      "38000\n",
      "39000\n",
      "40000\n",
      "41000\n",
      "42000\n",
      "43000\n",
      "44000\n",
      "45000\n",
      "46000\n",
      "47000\n",
      "48000\n",
      "49000\n",
      "50000\n",
      "51000\n",
      "52000\n",
      "53000\n",
      "54000\n",
      "55000\n",
      "56000\n",
      "57000\n",
      "58000\n",
      "59000\n",
      "60000\n",
      "61000\n",
      "62000\n",
      "63000\n",
      "64000\n",
      "65000\n",
      "66000\n",
      "67000\n",
      "68000\n",
      "69000\n",
      "70000\n",
      "71000\n",
      "72000\n",
      "73000\n",
      "74000\n",
      "75000\n",
      "76000\n",
      "77000\n",
      "78000\n",
      "79000\n",
      "80000\n",
      "81000\n",
      "82000\n",
      "83000\n",
      "84000\n",
      "85000\n",
      "86000\n",
      "87000\n",
      "88000\n",
      "89000\n",
      "90000\n",
      "91000\n",
      "92000\n",
      "93000\n",
      "94000\n",
      "95000\n",
      "96000\n",
      "97000\n",
      "98000\n",
      "99000\n",
      "100000\n",
      "101000\n",
      "102000\n",
      "103000\n",
      "104000\n",
      "105000\n",
      "106000\n",
      "107000\n",
      "108000\n",
      "109000\n",
      "110000\n",
      "111000\n",
      "112000\n",
      "113000\n",
      "114000\n",
      "115000\n",
      "116000\n",
      "117000\n",
      "118000\n",
      "119000\n",
      "120000\n",
      "121000\n",
      "122000\n",
      "123000\n",
      "124000\n",
      "125000\n",
      "126000\n",
      "127000\n",
      "128000\n",
      "129000\n",
      "130000\n",
      "131000\n",
      "132000\n",
      "133000\n",
      "134000\n",
      "135000\n",
      "136000\n",
      "137000\n",
      "138000\n",
      "139000\n",
      "140000\n",
      "141000\n",
      "142000\n",
      "143000\n",
      "144000\n",
      "145000\n",
      "146000\n",
      "147000\n",
      "148000\n",
      "149000\n",
      "150000\n",
      "151000\n",
      "152000\n",
      "153000\n",
      "154000\n",
      "155000\n",
      "156000\n",
      "157000\n",
      "158000\n",
      "159000\n",
      "160000\n",
      "161000\n",
      "162000\n",
      "163000\n",
      "164000\n",
      "165000\n",
      "166000\n",
      "167000\n",
      "168000\n",
      "169000\n",
      "170000\n",
      "171000\n",
      "172000\n",
      "173000\n",
      "174000\n",
      "175000\n",
      "176000\n",
      "177000\n",
      "178000\n",
      "179000\n",
      "180000\n",
      "181000\n",
      "182000\n",
      "183000\n",
      "184000\n",
      "185000\n",
      "186000\n",
      "187000\n",
      "188000\n",
      "189000\n",
      "190000\n",
      "191000\n",
      "192000\n",
      "193000\n",
      "194000\n",
      "195000\n",
      "196000\n",
      "197000\n",
      "198000\n",
      "199000\n",
      "200000\n",
      "CPU times: user 1min 35s, sys: 8.39 s, total: 1min 44s\n",
      "Wall time: 1min 44s\n"
     ]
    }
   ],
   "source": [
    "%%time\n",
    "clean_files(path, 'docs')"
   ]
  },
  {
   "cell_type": "code",
   "execution_count": 15,
   "metadata": {},
   "outputs": [
    {
     "name": "stdout",
     "output_type": "stream",
     "text": [
      "200.120 files - 183.203.041 tokens - 2.869.239 unique tokens\n",
      "CPU times: user 53.7 s, sys: 2.5 s, total: 56.2 s\n",
      "Wall time: 56.3 s\n"
     ]
    }
   ],
   "source": [
    "%%time\n",
    "# analisando o numero de arquivos e tokens na pasta onde estão os artigos do wiki\n",
    "\n",
    "num_files, num_tokens,num_unique_tokens = get_num_tokens(dest)\n",
    "print(f'{num_files:n} files - {num_tokens:n} tokens - {num_unique_tokens:n} unique tokens')"
   ]
  },
  {
   "cell_type": "markdown",
   "metadata": {},
   "source": [
    "Criei um dataframe para ajudar na limpeza dos dados. Iniciei ele com o nome e o tamanho dos arquivos.\n",
    "Evolui colocando as primeiras 500 palavras.\n",
    "E depois fiz uma limpeza dessa coluna retirando stop words e usei essa coluna limpa para clusterizar"
   ]
  },
  {
   "cell_type": "code",
   "execution_count": 16,
   "metadata": {},
   "outputs": [
    {
     "name": "stdout",
     "output_type": "stream",
     "text": [
      "CPU times: user 1.43 s, sys: 524 ms, total: 1.95 s\n",
      "Wall time: 1.95 s\n"
     ]
    },
    {
     "data": {
      "text/html": [
       "<div>\n",
       "<style scoped>\n",
       "    .dataframe tbody tr th:only-of-type {\n",
       "        vertical-align: middle;\n",
       "    }\n",
       "\n",
       "    .dataframe tbody tr th {\n",
       "        vertical-align: top;\n",
       "    }\n",
       "\n",
       "    .dataframe thead th {\n",
       "        text-align: right;\n",
       "    }\n",
       "</style>\n",
       "<table border=\"1\" class=\"dataframe\">\n",
       "  <thead>\n",
       "    <tr style=\"text-align: right;\">\n",
       "      <th></th>\n",
       "      <th>filename</th>\n",
       "      <th>size</th>\n",
       "    </tr>\n",
       "  </thead>\n",
       "  <tbody>\n",
       "    <tr>\n",
       "      <th>51056</th>\n",
       "      <td>Televisao_no_Brasil_109810.txt</td>\n",
       "      <td>180717</td>\n",
       "    </tr>\n",
       "    <tr>\n",
       "      <th>173712</th>\n",
       "      <td>Magnetismo_7700.txt</td>\n",
       "      <td>179018</td>\n",
       "    </tr>\n",
       "    <tr>\n",
       "      <th>143736</th>\n",
       "      <td>Wally_West_29467.txt</td>\n",
       "      <td>176799</td>\n",
       "    </tr>\n",
       "    <tr>\n",
       "      <th>25686</th>\n",
       "      <td>Cronologia_da_Rede_Globo_118914.txt</td>\n",
       "      <td>166571</td>\n",
       "    </tr>\n",
       "    <tr>\n",
       "      <th>55720</th>\n",
       "      <td>Historia_da_RecordTV_99498.txt</td>\n",
       "      <td>163377</td>\n",
       "    </tr>\n",
       "  </tbody>\n",
       "</table>\n",
       "</div>"
      ],
      "text/plain": [
       "                                   filename    size\n",
       "51056        Televisao_no_Brasil_109810.txt  180717\n",
       "173712                  Magnetismo_7700.txt  179018\n",
       "143736                 Wally_West_29467.txt  176799\n",
       "25686   Cronologia_da_Rede_Globo_118914.txt  166571\n",
       "55720        Historia_da_RecordTV_99498.txt  163377"
      ]
     },
     "execution_count": 16,
     "metadata": {},
     "output_type": "execute_result"
    }
   ],
   "source": [
    "%%time\n",
    "files = {}\n",
    "for a in dest.ls():\n",
    "    files[a.name] = a.stat().st_size\n",
    "files = pd.DataFrame(files.items(), columns = ['filename', 'size'])\n",
    "files.sort_values('size', ascending=False).head()"
   ]
  },
  {
   "cell_type": "code",
   "execution_count": 17,
   "metadata": {},
   "outputs": [
    {
     "data": {
      "text/plain": [
       "True"
      ]
     },
     "execution_count": 17,
     "metadata": {},
     "output_type": "execute_result"
    }
   ],
   "source": [
    "files.shape[0] == num_files"
   ]
  },
  {
   "cell_type": "code",
   "execution_count": 18,
   "metadata": {
    "scrolled": true
   },
   "outputs": [
    {
     "data": {
      "text/html": [
       "<div>\n",
       "<style scoped>\n",
       "    .dataframe tbody tr th:only-of-type {\n",
       "        vertical-align: middle;\n",
       "    }\n",
       "\n",
       "    .dataframe tbody tr th {\n",
       "        vertical-align: top;\n",
       "    }\n",
       "\n",
       "    .dataframe thead th {\n",
       "        text-align: right;\n",
       "    }\n",
       "</style>\n",
       "<table border=\"1\" class=\"dataframe\">\n",
       "  <thead>\n",
       "    <tr style=\"text-align: right;\">\n",
       "      <th></th>\n",
       "      <th>size</th>\n",
       "    </tr>\n",
       "  </thead>\n",
       "  <tbody>\n",
       "    <tr>\n",
       "      <th>count</th>\n",
       "      <td>200120.00000</td>\n",
       "    </tr>\n",
       "    <tr>\n",
       "      <th>mean</th>\n",
       "      <td>5780.75820</td>\n",
       "    </tr>\n",
       "    <tr>\n",
       "      <th>std</th>\n",
       "      <td>7429.81256</td>\n",
       "    </tr>\n",
       "    <tr>\n",
       "      <th>min</th>\n",
       "      <td>184.00000</td>\n",
       "    </tr>\n",
       "    <tr>\n",
       "      <th>25%</th>\n",
       "      <td>2368.00000</td>\n",
       "    </tr>\n",
       "    <tr>\n",
       "      <th>50%</th>\n",
       "      <td>3445.00000</td>\n",
       "    </tr>\n",
       "    <tr>\n",
       "      <th>75%</th>\n",
       "      <td>6047.00000</td>\n",
       "    </tr>\n",
       "    <tr>\n",
       "      <th>max</th>\n",
       "      <td>180717.00000</td>\n",
       "    </tr>\n",
       "  </tbody>\n",
       "</table>\n",
       "</div>"
      ],
      "text/plain": [
       "               size\n",
       "count  200120.00000\n",
       "mean     5780.75820\n",
       "std      7429.81256\n",
       "min       184.00000\n",
       "25%      2368.00000\n",
       "50%      3445.00000\n",
       "75%      6047.00000\n",
       "max    180717.00000"
      ]
     },
     "execution_count": 18,
     "metadata": {},
     "output_type": "execute_result"
    }
   ],
   "source": [
    "files.describe()"
   ]
  },
  {
   "cell_type": "markdown",
   "metadata": {},
   "source": [
    "Fiz uma limpeza dos arquivos menores que 2 mil bytes"
   ]
  },
  {
   "cell_type": "code",
   "execution_count": 45,
   "metadata": {},
   "outputs": [
    {
     "name": "stdout",
     "output_type": "stream",
     "text": [
      "22685\n"
     ]
    },
    {
     "data": {
      "text/html": [
       "<div>\n",
       "<style scoped>\n",
       "    .dataframe tbody tr th:only-of-type {\n",
       "        vertical-align: middle;\n",
       "    }\n",
       "\n",
       "    .dataframe tbody tr th {\n",
       "        vertical-align: top;\n",
       "    }\n",
       "\n",
       "    .dataframe thead th {\n",
       "        text-align: right;\n",
       "    }\n",
       "</style>\n",
       "<table border=\"1\" class=\"dataframe\">\n",
       "  <thead>\n",
       "    <tr style=\"text-align: right;\">\n",
       "      <th></th>\n",
       "      <th>filename</th>\n",
       "      <th>size</th>\n",
       "    </tr>\n",
       "  </thead>\n",
       "  <tbody>\n",
       "    <tr>\n",
       "      <th>124598</th>\n",
       "      <td>Pleocyemata_99536.txt</td>\n",
       "      <td>1743</td>\n",
       "    </tr>\n",
       "    <tr>\n",
       "      <th>55224</th>\n",
       "      <td>Cobertura_de_arestas__teoria_dos_grafos__11555...</td>\n",
       "      <td>1728</td>\n",
       "    </tr>\n",
       "    <tr>\n",
       "      <th>38823</th>\n",
       "      <td>M__cancao__119335.txt</td>\n",
       "      <td>1877</td>\n",
       "    </tr>\n",
       "    <tr>\n",
       "      <th>38513</th>\n",
       "      <td>Partido_Comunista_da_Alemanha_37601.txt</td>\n",
       "      <td>1726</td>\n",
       "    </tr>\n",
       "    <tr>\n",
       "      <th>99578</th>\n",
       "      <td>Ben_Roethlisberger_90241.txt</td>\n",
       "      <td>1981</td>\n",
       "    </tr>\n",
       "    <tr>\n",
       "      <th>152728</th>\n",
       "      <td>Courtney_Yates_109157.txt</td>\n",
       "      <td>1861</td>\n",
       "    </tr>\n",
       "    <tr>\n",
       "      <th>16332</th>\n",
       "      <td>Janaina_Avila_113421.txt</td>\n",
       "      <td>1561</td>\n",
       "    </tr>\n",
       "    <tr>\n",
       "      <th>176259</th>\n",
       "      <td>Jeb_Brovsky_149768.txt</td>\n",
       "      <td>1853</td>\n",
       "    </tr>\n",
       "    <tr>\n",
       "      <th>67330</th>\n",
       "      <td>Tolar_58487.txt</td>\n",
       "      <td>1778</td>\n",
       "    </tr>\n",
       "    <tr>\n",
       "      <th>173135</th>\n",
       "      <td>E_D_E_N__Southworth_113868.txt</td>\n",
       "      <td>1992</td>\n",
       "    </tr>\n",
       "  </tbody>\n",
       "</table>\n",
       "</div>"
      ],
      "text/plain": [
       "                                                 filename  size\n",
       "124598                              Pleocyemata_99536.txt  1743\n",
       "55224   Cobertura_de_arestas__teoria_dos_grafos__11555...  1728\n",
       "38823                               M__cancao__119335.txt  1877\n",
       "38513             Partido_Comunista_da_Alemanha_37601.txt  1726\n",
       "99578                        Ben_Roethlisberger_90241.txt  1981\n",
       "152728                          Courtney_Yates_109157.txt  1861\n",
       "16332                            Janaina_Avila_113421.txt  1561\n",
       "176259                             Jeb_Brovsky_149768.txt  1853\n",
       "67330                                     Tolar_58487.txt  1778\n",
       "173135                     E_D_E_N__Southworth_113868.txt  1992"
      ]
     },
     "execution_count": 45,
     "metadata": {},
     "output_type": "execute_result"
    }
   ],
   "source": [
    "cond = (files['size'] < 2000)\n",
    "print(files[cond].shape[0])\n",
    "files[cond].sample(10)"
   ]
  },
  {
   "cell_type": "code",
   "execution_count": 46,
   "metadata": {},
   "outputs": [],
   "source": [
    "# rotina para remover arquivos\n",
    "for _, f in files[cond].iterrows():\n",
    "    file = dest/f['filename']\n",
    "    if file.exists(): file.unlink()"
   ]
  },
  {
   "cell_type": "code",
   "execution_count": 49,
   "metadata": {},
   "outputs": [
    {
     "name": "stdout",
     "output_type": "stream",
     "text": [
      "177.435 files - 176.508.364 tokens - 2.788.596 unique tokens\n",
      "CPU times: user 52.6 s, sys: 1.91 s, total: 54.5 s\n",
      "Wall time: 54.5 s\n"
     ]
    }
   ],
   "source": [
    "%%time\n",
    "# analisando o numero de arquivos e tokens na pasta onde estão os artigos do wiki\n",
    "\n",
    "num_files, num_tokens,num_unique_tokens = get_num_tokens(dest)\n",
    "print(f'{num_files:n} files - {num_tokens:n} tokens - {num_unique_tokens:n} unique tokens')"
   ]
  },
  {
   "cell_type": "code",
   "execution_count": 51,
   "metadata": {},
   "outputs": [
    {
     "name": "stdout",
     "output_type": "stream",
     "text": [
      "CPU times: user 1.43 s, sys: 400 ms, total: 1.83 s\n",
      "Wall time: 1.83 s\n"
     ]
    },
    {
     "data": {
      "text/html": [
       "<div>\n",
       "<style scoped>\n",
       "    .dataframe tbody tr th:only-of-type {\n",
       "        vertical-align: middle;\n",
       "    }\n",
       "\n",
       "    .dataframe tbody tr th {\n",
       "        vertical-align: top;\n",
       "    }\n",
       "\n",
       "    .dataframe thead th {\n",
       "        text-align: right;\n",
       "    }\n",
       "</style>\n",
       "<table border=\"1\" class=\"dataframe\">\n",
       "  <thead>\n",
       "    <tr style=\"text-align: right;\">\n",
       "      <th></th>\n",
       "      <th>filename</th>\n",
       "      <th>size</th>\n",
       "    </tr>\n",
       "  </thead>\n",
       "  <tbody>\n",
       "    <tr>\n",
       "      <th>45107</th>\n",
       "      <td>Televisao_no_Brasil_109810.txt</td>\n",
       "      <td>180717</td>\n",
       "    </tr>\n",
       "    <tr>\n",
       "      <th>154010</th>\n",
       "      <td>Magnetismo_7700.txt</td>\n",
       "      <td>179018</td>\n",
       "    </tr>\n",
       "    <tr>\n",
       "      <th>127324</th>\n",
       "      <td>Wally_West_29467.txt</td>\n",
       "      <td>176799</td>\n",
       "    </tr>\n",
       "    <tr>\n",
       "      <th>22630</th>\n",
       "      <td>Cronologia_da_Rede_Globo_118914.txt</td>\n",
       "      <td>166571</td>\n",
       "    </tr>\n",
       "    <tr>\n",
       "      <th>49227</th>\n",
       "      <td>Historia_da_RecordTV_99498.txt</td>\n",
       "      <td>163377</td>\n",
       "    </tr>\n",
       "  </tbody>\n",
       "</table>\n",
       "</div>"
      ],
      "text/plain": [
       "                                   filename    size\n",
       "45107        Televisao_no_Brasil_109810.txt  180717\n",
       "154010                  Magnetismo_7700.txt  179018\n",
       "127324                 Wally_West_29467.txt  176799\n",
       "22630   Cronologia_da_Rede_Globo_118914.txt  166571\n",
       "49227        Historia_da_RecordTV_99498.txt  163377"
      ]
     },
     "execution_count": 51,
     "metadata": {},
     "output_type": "execute_result"
    }
   ],
   "source": [
    "%%time\n",
    "files = {}\n",
    "for a in dest.ls():\n",
    "    files[a.name] = a.stat().st_size\n",
    "files = pd.DataFrame(files.items(), columns = ['filename', 'size'])\n",
    "files.sort_values('size', ascending=False).head()"
   ]
  },
  {
   "cell_type": "code",
   "execution_count": 52,
   "metadata": {},
   "outputs": [
    {
     "data": {
      "text/plain": [
       "True"
      ]
     },
     "execution_count": 52,
     "metadata": {},
     "output_type": "execute_result"
    }
   ],
   "source": [
    "files.shape[0] == num_files"
   ]
  },
  {
   "cell_type": "markdown",
   "metadata": {},
   "source": [
    "criando a coluna de linha inicial"
   ]
  },
  {
   "cell_type": "code",
   "execution_count": 53,
   "metadata": {},
   "outputs": [],
   "source": [
    "def firstLine(row):\n",
    "    arq = dest/row['filename']\n",
    "    f = arq.open('r') \n",
    "    fl = f.read()\n",
    "    f.close()\n",
    "    return fl[:500]"
   ]
  },
  {
   "cell_type": "code",
   "execution_count": 54,
   "metadata": {},
   "outputs": [
    {
     "name": "stdout",
     "output_type": "stream",
     "text": [
      "CPU times: user 9.39 s, sys: 1.52 s, total: 10.9 s\n",
      "Wall time: 10.9 s\n"
     ]
    }
   ],
   "source": [
    "%%time\n",
    "files['firstLine'] = files.apply(firstLine, axis=1)"
   ]
  },
  {
   "cell_type": "code",
   "execution_count": 56,
   "metadata": {},
   "outputs": [],
   "source": [
    "pd.set_option('max_colwidth', 200)"
   ]
  },
  {
   "cell_type": "code",
   "execution_count": 57,
   "metadata": {
    "scrolled": false
   },
   "outputs": [
    {
     "data": {
      "text/html": [
       "<div>\n",
       "<style scoped>\n",
       "    .dataframe tbody tr th:only-of-type {\n",
       "        vertical-align: middle;\n",
       "    }\n",
       "\n",
       "    .dataframe tbody tr th {\n",
       "        vertical-align: top;\n",
       "    }\n",
       "\n",
       "    .dataframe thead th {\n",
       "        text-align: right;\n",
       "    }\n",
       "</style>\n",
       "<table border=\"1\" class=\"dataframe\">\n",
       "  <thead>\n",
       "    <tr style=\"text-align: right;\">\n",
       "      <th></th>\n",
       "      <th>filename</th>\n",
       "      <th>size</th>\n",
       "      <th>firstLine</th>\n",
       "    </tr>\n",
       "  </thead>\n",
       "  <tbody>\n",
       "    <tr>\n",
       "      <th>0</th>\n",
       "      <td>Jacques_Benigne_Bossuet_16677.txt</td>\n",
       "      <td>2336</td>\n",
       "      <td>O caso mais exemplar de governante que adotou as ideias de Bossuet foi Luís XIV de França, chamado Rei Sol.\\nBossuet nasceu em uma família de magistrados em 1627, em Dijon, onde recebeu educação n...</td>\n",
       "    </tr>\n",
       "    <tr>\n",
       "      <th>1</th>\n",
       "      <td>Marcos_Raggio_de_Salles_153555.txt</td>\n",
       "      <td>3013</td>\n",
       "      <td>Marcos Salles cresceu num ambiente em que a música estava muito presente, pois ambos os pais tocavam piano.\\nSeu pai, o médico Mecenas Salles, acompanhava com entusiasmo o movimento artístico de B...</td>\n",
       "    </tr>\n",
       "    <tr>\n",
       "      <th>2</th>\n",
       "      <td>Mariner_10_59459.txt</td>\n",
       "      <td>2191</td>\n",
       "      <td>MESSENGER a Mercúrio em 18 de março de 2011, a Mariner 10 era a única sonda a ter visitado o planeta Mercúrio.\\nFoi a última missão do Programa Mariner sendo que as duas missões seguintes tiveram ...</td>\n",
       "    </tr>\n",
       "    <tr>\n",
       "      <th>3</th>\n",
       "      <td>Antonio_Torres_Galvao_54382.txt</td>\n",
       "      <td>2095</td>\n",
       "      <td>As suas qualidades pessoais, na oratória e nas relações interpessoais, e capacidade intelectual, levaram-no às funções de pastor da Assembleia de Deus e juiz vogal do Tribunal Regional do Trabalho...</td>\n",
       "    </tr>\n",
       "    <tr>\n",
       "      <th>4</th>\n",
       "      <td>Thunderbolts_52556.txt</td>\n",
       "      <td>5805</td>\n",
       "      <td>Sua atual formação tem o intuito de ajudar porém ainda com métodos não muito heroicos.\\nO grupo que foi reunido pelo Hulk Vermelho é formado por: Deadpool, Justiceiro, Elektra, Motoqueiro Fantasma...</td>\n",
       "    </tr>\n",
       "  </tbody>\n",
       "</table>\n",
       "</div>"
      ],
      "text/plain": [
       "                             filename  size  \\\n",
       "0   Jacques_Benigne_Bossuet_16677.txt  2336   \n",
       "1  Marcos_Raggio_de_Salles_153555.txt  3013   \n",
       "2                Mariner_10_59459.txt  2191   \n",
       "3     Antonio_Torres_Galvao_54382.txt  2095   \n",
       "4              Thunderbolts_52556.txt  5805   \n",
       "\n",
       "                                                                                                                                                                                                 firstLine  \n",
       "0  O caso mais exemplar de governante que adotou as ideias de Bossuet foi Luís XIV de França, chamado Rei Sol.\\nBossuet nasceu em uma família de magistrados em 1627, em Dijon, onde recebeu educação n...  \n",
       "1  Marcos Salles cresceu num ambiente em que a música estava muito presente, pois ambos os pais tocavam piano.\\nSeu pai, o médico Mecenas Salles, acompanhava com entusiasmo o movimento artístico de B...  \n",
       "2  MESSENGER a Mercúrio em 18 de março de 2011, a Mariner 10 era a única sonda a ter visitado o planeta Mercúrio.\\nFoi a última missão do Programa Mariner sendo que as duas missões seguintes tiveram ...  \n",
       "3  As suas qualidades pessoais, na oratória e nas relações interpessoais, e capacidade intelectual, levaram-no às funções de pastor da Assembleia de Deus e juiz vogal do Tribunal Regional do Trabalho...  \n",
       "4  Sua atual formação tem o intuito de ajudar porém ainda com métodos não muito heroicos.\\nO grupo que foi reunido pelo Hulk Vermelho é formado por: Deadpool, Justiceiro, Elektra, Motoqueiro Fantasma...  "
      ]
     },
     "execution_count": 57,
     "metadata": {},
     "output_type": "execute_result"
    }
   ],
   "source": [
    "files.head()"
   ]
  },
  {
   "cell_type": "code",
   "execution_count": null,
   "metadata": {},
   "outputs": [],
   "source": [
    "##pd.reset_option(\"^display\")"
   ]
  },
  {
   "cell_type": "markdown",
   "metadata": {},
   "source": [
    "Criando a coluna para clusterizar"
   ]
  },
  {
   "cell_type": "code",
   "execution_count": 61,
   "metadata": {},
   "outputs": [],
   "source": [
    "def flClean(row):\n",
    "    letters_only=re.sub(\"[^a-zA-Z]\",\" \",unidecode(row['firstLine']))\n",
    "    words=letters_only.lower().split()\n",
    "    meaningful_words=[w for w in words[:-1] if not w in lista_stop]\n",
    "    return(' '.join(meaningful_words))"
   ]
  },
  {
   "cell_type": "code",
   "execution_count": 28,
   "metadata": {},
   "outputs": [
    {
     "data": {
      "text/plain": [
       "499"
      ]
     },
     "execution_count": 28,
     "metadata": {},
     "output_type": "execute_result"
    }
   ],
   "source": [
    "from nltk.corpus import stopwords\n",
    "import spacy\n",
    "nlp = spacy.load('pt_core_news_sm')\n",
    "from spacy.lang.pt.stop_words import STOP_WORDS\n",
    "STOP_WORDS.update(stopwords.words(\"portuguese\"))\n",
    "len(STOP_WORDS)"
   ]
  },
  {
   "cell_type": "code",
   "execution_count": 60,
   "metadata": {},
   "outputs": [
    {
     "data": {
      "text/plain": [
       "484"
      ]
     },
     "execution_count": 60,
     "metadata": {},
     "output_type": "execute_result"
    }
   ],
   "source": [
    "lista_stop = list(set([unidecode(x) for x in STOP_WORDS]))\n",
    "len(lista_stop)"
   ]
  },
  {
   "cell_type": "code",
   "execution_count": 62,
   "metadata": {},
   "outputs": [],
   "source": [
    "files['flClean'] = files.apply(flClean, axis=1)"
   ]
  },
  {
   "cell_type": "code",
   "execution_count": 63,
   "metadata": {},
   "outputs": [
    {
     "data": {
      "text/html": [
       "<div>\n",
       "<style scoped>\n",
       "    .dataframe tbody tr th:only-of-type {\n",
       "        vertical-align: middle;\n",
       "    }\n",
       "\n",
       "    .dataframe tbody tr th {\n",
       "        vertical-align: top;\n",
       "    }\n",
       "\n",
       "    .dataframe thead th {\n",
       "        text-align: right;\n",
       "    }\n",
       "</style>\n",
       "<table border=\"1\" class=\"dataframe\">\n",
       "  <thead>\n",
       "    <tr style=\"text-align: right;\">\n",
       "      <th></th>\n",
       "      <th>filename</th>\n",
       "      <th>size</th>\n",
       "      <th>firstLine</th>\n",
       "      <th>flClean</th>\n",
       "    </tr>\n",
       "  </thead>\n",
       "  <tbody>\n",
       "    <tr>\n",
       "      <th>0</th>\n",
       "      <td>Jacques_Benigne_Bossuet_16677.txt</td>\n",
       "      <td>2336</td>\n",
       "      <td>O caso mais exemplar de governante que adotou as ideias de Bossuet foi Luís XIV de França, chamado Rei Sol.\\nBossuet nasceu em uma família de magistrados em 1627, em Dijon, onde recebeu educação n...</td>\n",
       "      <td>caso exemplar governante adotou ideias bossuet luis xiv franca chamado rei sol bossuet nasceu familia magistrados dijon recebeu educacao colegio jesuita destinado vida religiosa recebeu tonsura an...</td>\n",
       "    </tr>\n",
       "    <tr>\n",
       "      <th>1</th>\n",
       "      <td>Marcos_Raggio_de_Salles_153555.txt</td>\n",
       "      <td>3013</td>\n",
       "      <td>Marcos Salles cresceu num ambiente em que a música estava muito presente, pois ambos os pais tocavam piano.\\nSeu pai, o médico Mecenas Salles, acompanhava com entusiasmo o movimento artístico de B...</td>\n",
       "      <td>marcos salles cresceu ambiente musica presente pais tocavam piano pai medico mecenas salles acompanhava entusiasmo movimento artistico belem anos salles interessa violino toma aulas professor ital...</td>\n",
       "    </tr>\n",
       "    <tr>\n",
       "      <th>2</th>\n",
       "      <td>Mariner_10_59459.txt</td>\n",
       "      <td>2191</td>\n",
       "      <td>MESSENGER a Mercúrio em 18 de março de 2011, a Mariner 10 era a única sonda a ter visitado o planeta Mercúrio.\\nFoi a última missão do Programa Mariner sendo que as duas missões seguintes tiveram ...</td>\n",
       "      <td>messenger mercurio marco mariner unica sonda visitado planeta mercurio ultima missao programa mariner sendo missoes seguintes designacao alterada voyager mariner missao primaria estudo planetas me...</td>\n",
       "    </tr>\n",
       "    <tr>\n",
       "      <th>3</th>\n",
       "      <td>Antonio_Torres_Galvao_54382.txt</td>\n",
       "      <td>2095</td>\n",
       "      <td>As suas qualidades pessoais, na oratória e nas relações interpessoais, e capacidade intelectual, levaram-no às funções de pastor da Assembleia de Deus e juiz vogal do Tribunal Regional do Trabalho...</td>\n",
       "      <td>qualidades pessoais oratoria relacoes interpessoais capacidade intelectual levaram funcoes pastor assembleia deus juiz vogal tribunal regional trabalho pernambuco direito deveres trabalhadores res...</td>\n",
       "    </tr>\n",
       "    <tr>\n",
       "      <th>4</th>\n",
       "      <td>Thunderbolts_52556.txt</td>\n",
       "      <td>5805</td>\n",
       "      <td>Sua atual formação tem o intuito de ajudar porém ainda com métodos não muito heroicos.\\nO grupo que foi reunido pelo Hulk Vermelho é formado por: Deadpool, Justiceiro, Elektra, Motoqueiro Fantasma...</td>\n",
       "      <td>atual formacao intuito ajudar metodos heroicos reunido hulk vermelho formado deadpool justiceiro elektra motoqueiro fantasma venomos thunderbolts herois heroico marvel sendo muitas viloes formacoe...</td>\n",
       "    </tr>\n",
       "  </tbody>\n",
       "</table>\n",
       "</div>"
      ],
      "text/plain": [
       "                             filename  size  \\\n",
       "0   Jacques_Benigne_Bossuet_16677.txt  2336   \n",
       "1  Marcos_Raggio_de_Salles_153555.txt  3013   \n",
       "2                Mariner_10_59459.txt  2191   \n",
       "3     Antonio_Torres_Galvao_54382.txt  2095   \n",
       "4              Thunderbolts_52556.txt  5805   \n",
       "\n",
       "                                                                                                                                                                                                 firstLine  \\\n",
       "0  O caso mais exemplar de governante que adotou as ideias de Bossuet foi Luís XIV de França, chamado Rei Sol.\\nBossuet nasceu em uma família de magistrados em 1627, em Dijon, onde recebeu educação n...   \n",
       "1  Marcos Salles cresceu num ambiente em que a música estava muito presente, pois ambos os pais tocavam piano.\\nSeu pai, o médico Mecenas Salles, acompanhava com entusiasmo o movimento artístico de B...   \n",
       "2  MESSENGER a Mercúrio em 18 de março de 2011, a Mariner 10 era a única sonda a ter visitado o planeta Mercúrio.\\nFoi a última missão do Programa Mariner sendo que as duas missões seguintes tiveram ...   \n",
       "3  As suas qualidades pessoais, na oratória e nas relações interpessoais, e capacidade intelectual, levaram-no às funções de pastor da Assembleia de Deus e juiz vogal do Tribunal Regional do Trabalho...   \n",
       "4  Sua atual formação tem o intuito de ajudar porém ainda com métodos não muito heroicos.\\nO grupo que foi reunido pelo Hulk Vermelho é formado por: Deadpool, Justiceiro, Elektra, Motoqueiro Fantasma...   \n",
       "\n",
       "                                                                                                                                                                                                   flClean  \n",
       "0  caso exemplar governante adotou ideias bossuet luis xiv franca chamado rei sol bossuet nasceu familia magistrados dijon recebeu educacao colegio jesuita destinado vida religiosa recebeu tonsura an...  \n",
       "1  marcos salles cresceu ambiente musica presente pais tocavam piano pai medico mecenas salles acompanhava entusiasmo movimento artistico belem anos salles interessa violino toma aulas professor ital...  \n",
       "2  messenger mercurio marco mariner unica sonda visitado planeta mercurio ultima missao programa mariner sendo missoes seguintes designacao alterada voyager mariner missao primaria estudo planetas me...  \n",
       "3  qualidades pessoais oratoria relacoes interpessoais capacidade intelectual levaram funcoes pastor assembleia deus juiz vogal tribunal regional trabalho pernambuco direito deveres trabalhadores res...  \n",
       "4  atual formacao intuito ajudar metodos heroicos reunido hulk vermelho formado deadpool justiceiro elektra motoqueiro fantasma venomos thunderbolts herois heroico marvel sendo muitas viloes formacoe...  "
      ]
     },
     "execution_count": 63,
     "metadata": {},
     "output_type": "execute_result"
    }
   ],
   "source": [
    "files.head()"
   ]
  },
  {
   "cell_type": "markdown",
   "metadata": {},
   "source": [
    "### Modelando o cluster para trabalhar na limpeza de dados"
   ]
  },
  {
   "cell_type": "code",
   "execution_count": 65,
   "metadata": {},
   "outputs": [
    {
     "name": "stdout",
     "output_type": "stream",
     "text": [
      "CPU times: user 9.4 s, sys: 3.96 s, total: 13.4 s\n",
      "Wall time: 13.7 s\n"
     ]
    }
   ],
   "source": [
    "%%time\n",
    "from sklearn.feature_extraction.text import CountVectorizer\n",
    "# configurar os parametros do WordtoVec/Tokeninzação e criar o objeto\n",
    "vectorizer=CountVectorizer(analyzer='word',tokenizer=None,preprocessor = None, stop_words = None,max_features = 15000)\n",
    "# aplicar WordtoVec/Tokeninzação\n",
    "train_data_features=vectorizer.fit_transform(files.flClean.tolist())\n",
    "# aplicar a estrutura de dados numpy array\n",
    "train_data_features=train_data_features.toarray()"
   ]
  },
  {
   "cell_type": "code",
   "execution_count": 66,
   "metadata": {},
   "outputs": [
    {
     "data": {
      "text/plain": [
       "(177435, 15000)"
      ]
     },
     "execution_count": 66,
     "metadata": {},
     "output_type": "execute_result"
    }
   ],
   "source": [
    "train_data_features.shape"
   ]
  },
  {
   "cell_type": "code",
   "execution_count": 76,
   "metadata": {},
   "outputs": [
    {
     "data": {
      "text/plain": [
       "15000"
      ]
     },
     "execution_count": 76,
     "metadata": {},
     "output_type": "execute_result"
    }
   ],
   "source": [
    "len(vectorizer.vocabulary_)"
   ]
  },
  {
   "cell_type": "code",
   "execution_count": 77,
   "metadata": {},
   "outputs": [],
   "source": [
    "from sklearn.feature_extraction.text import TfidfVectorizer\n",
    "from sklearn.cluster import KMeans"
   ]
  },
  {
   "cell_type": "code",
   "execution_count": 81,
   "metadata": {},
   "outputs": [],
   "source": [
    "tfidf_vectorizer = TfidfVectorizer(max_df=0.8, min_df=0.2, vocabulary=vectorizer.vocabulary_)"
   ]
  },
  {
   "cell_type": "markdown",
   "metadata": {},
   "source": [
    "A rotina abaixo é para criar um gráfico que ajude a identificar a quantidade ideal de clusters"
   ]
  },
  {
   "cell_type": "code",
   "execution_count": 116,
   "metadata": {},
   "outputs": [
    {
     "data": {
      "image/png": "[encoded data removed]",
      "text/plain": [
       "<Figure size 432x288 with 1 Axes>"
      ]
     },
     "metadata": {
      "needs_background": "light"
     },
     "output_type": "display_data"
    },
    {
     "name": "stdout",
     "output_type": "stream",
     "text": [
      "CPU times: user 13h 41min 7s, sys: 2min 54s, total: 13h 44min 2s\n",
      "Wall time: 12h 22min 48s\n"
     ]
    }
   ],
   "source": [
    "%%time\n",
    "ks = range(51, 79, 3)\n",
    "inertias = []\n",
    "\n",
    "for k in ks:\n",
    "\n",
    "    # Create a KMeans instance with k clusters: model\n",
    "    km = KMeans(n_clusters=k).fit(tfidf)\n",
    "\n",
    "    # Append the inertia to the list of inertias\n",
    "    inertias.append(km.inertia_)\n",
    "    \n",
    "# Plot ks vs inertias\n",
    "plt.plot(ks, inertias, '-o')\n",
    "plt.xlabel('number of clusters, k')\n",
    "plt.ylabel('inertia')\n",
    "plt.xticks(ks)\n",
    "plt.show()"
   ]
  },
  {
   "cell_type": "markdown",
   "metadata": {},
   "source": [
    "decidi usar 69 clusters"
   ]
  },
  {
   "cell_type": "code",
   "execution_count": 118,
   "metadata": {},
   "outputs": [
    {
     "name": "stdout",
     "output_type": "stream",
     "text": [
      "CPU times: user 1h 24min 24s, sys: 17.8 s, total: 1h 24min 41s\n",
      "Wall time: 1h 17min 7s\n"
     ]
    }
   ],
   "source": [
    "%%time\n",
    "kmeans = KMeans(n_clusters=69).fit(tfidf)"
   ]
  },
  {
   "cell_type": "markdown",
   "metadata": {},
   "source": [
    "gerando os labels para os arquivos existentes"
   ]
  },
  {
   "cell_type": "code",
   "execution_count": 119,
   "metadata": {},
   "outputs": [
    {
     "name": "stdout",
     "output_type": "stream",
     "text": [
      "CPU times: user 2.16 s, sys: 32.1 ms, total: 2.2 s\n",
      "Wall time: 1.62 s\n"
     ]
    }
   ],
   "source": [
    "%%time\n",
    "labels = kmeans.predict(tfidf)"
   ]
  },
  {
   "cell_type": "code",
   "execution_count": 124,
   "metadata": {},
   "outputs": [
    {
     "name": "stdout",
     "output_type": "stream",
     "text": [
      "True 177435\n"
     ]
    }
   ],
   "source": [
    "print(files.shape[0] == labels.shape[0],\n",
    "labels.shape[0])"
   ]
  },
  {
   "cell_type": "markdown",
   "metadata": {},
   "source": [
    "Adicionando o label ao dataframe"
   ]
  },
  {
   "cell_type": "code",
   "execution_count": 127,
   "metadata": {},
   "outputs": [
    {
     "data": {
      "text/html": [
       "<div>\n",
       "<style scoped>\n",
       "    .dataframe tbody tr th:only-of-type {\n",
       "        vertical-align: middle;\n",
       "    }\n",
       "\n",
       "    .dataframe tbody tr th {\n",
       "        vertical-align: top;\n",
       "    }\n",
       "\n",
       "    .dataframe thead th {\n",
       "        text-align: right;\n",
       "    }\n",
       "</style>\n",
       "<table border=\"1\" class=\"dataframe\">\n",
       "  <thead>\n",
       "    <tr style=\"text-align: right;\">\n",
       "      <th></th>\n",
       "      <th>filename</th>\n",
       "      <th>size</th>\n",
       "      <th>firstLine</th>\n",
       "      <th>flClean</th>\n",
       "      <th>0</th>\n",
       "    </tr>\n",
       "  </thead>\n",
       "  <tbody>\n",
       "    <tr>\n",
       "      <th>0</th>\n",
       "      <td>Jacques_Benigne_Bossuet_16677.txt</td>\n",
       "      <td>2336</td>\n",
       "      <td>O caso mais exemplar de governante que adotou as ideias de Bossuet foi Luís XIV de França, chamado Rei Sol.\\nBossuet nasceu em uma família de magistrados em 1627, em Dijon, onde recebeu educação n...</td>\n",
       "      <td>caso exemplar governante adotou ideias bossuet luis xiv franca chamado rei sol bossuet nasceu familia magistrados dijon recebeu educacao colegio jesuita destinado vida religiosa recebeu tonsura an...</td>\n",
       "      <td>33</td>\n",
       "    </tr>\n",
       "    <tr>\n",
       "      <th>1</th>\n",
       "      <td>Marcos_Raggio_de_Salles_153555.txt</td>\n",
       "      <td>3013</td>\n",
       "      <td>Marcos Salles cresceu num ambiente em que a música estava muito presente, pois ambos os pais tocavam piano.\\nSeu pai, o médico Mecenas Salles, acompanhava com entusiasmo o movimento artístico de B...</td>\n",
       "      <td>marcos salles cresceu ambiente musica presente pais tocavam piano pai medico mecenas salles acompanhava entusiasmo movimento artistico belem anos salles interessa violino toma aulas professor ital...</td>\n",
       "      <td>33</td>\n",
       "    </tr>\n",
       "    <tr>\n",
       "      <th>2</th>\n",
       "      <td>Mariner_10_59459.txt</td>\n",
       "      <td>2191</td>\n",
       "      <td>MESSENGER a Mercúrio em 18 de março de 2011, a Mariner 10 era a única sonda a ter visitado o planeta Mercúrio.\\nFoi a última missão do Programa Mariner sendo que as duas missões seguintes tiveram ...</td>\n",
       "      <td>messenger mercurio marco mariner unica sonda visitado planeta mercurio ultima missao programa mariner sendo missoes seguintes designacao alterada voyager mariner missao primaria estudo planetas me...</td>\n",
       "      <td>66</td>\n",
       "    </tr>\n",
       "    <tr>\n",
       "      <th>3</th>\n",
       "      <td>Antonio_Torres_Galvao_54382.txt</td>\n",
       "      <td>2095</td>\n",
       "      <td>As suas qualidades pessoais, na oratória e nas relações interpessoais, e capacidade intelectual, levaram-no às funções de pastor da Assembleia de Deus e juiz vogal do Tribunal Regional do Trabalho...</td>\n",
       "      <td>qualidades pessoais oratoria relacoes interpessoais capacidade intelectual levaram funcoes pastor assembleia deus juiz vogal tribunal regional trabalho pernambuco direito deveres trabalhadores res...</td>\n",
       "      <td>23</td>\n",
       "    </tr>\n",
       "    <tr>\n",
       "      <th>4</th>\n",
       "      <td>Thunderbolts_52556.txt</td>\n",
       "      <td>5805</td>\n",
       "      <td>Sua atual formação tem o intuito de ajudar porém ainda com métodos não muito heroicos.\\nO grupo que foi reunido pelo Hulk Vermelho é formado por: Deadpool, Justiceiro, Elektra, Motoqueiro Fantasma...</td>\n",
       "      <td>atual formacao intuito ajudar metodos heroicos reunido hulk vermelho formado deadpool justiceiro elektra motoqueiro fantasma venomos thunderbolts herois heroico marvel sendo muitas viloes formacoe...</td>\n",
       "      <td>66</td>\n",
       "    </tr>\n",
       "  </tbody>\n",
       "</table>\n",
       "</div>"
      ],
      "text/plain": [
       "                             filename  size  \\\n",
       "0   Jacques_Benigne_Bossuet_16677.txt  2336   \n",
       "1  Marcos_Raggio_de_Salles_153555.txt  3013   \n",
       "2                Mariner_10_59459.txt  2191   \n",
       "3     Antonio_Torres_Galvao_54382.txt  2095   \n",
       "4              Thunderbolts_52556.txt  5805   \n",
       "\n",
       "                                                                                                                                                                                                 firstLine  \\\n",
       "0  O caso mais exemplar de governante que adotou as ideias de Bossuet foi Luís XIV de França, chamado Rei Sol.\\nBossuet nasceu em uma família de magistrados em 1627, em Dijon, onde recebeu educação n...   \n",
       "1  Marcos Salles cresceu num ambiente em que a música estava muito presente, pois ambos os pais tocavam piano.\\nSeu pai, o médico Mecenas Salles, acompanhava com entusiasmo o movimento artístico de B...   \n",
       "2  MESSENGER a Mercúrio em 18 de março de 2011, a Mariner 10 era a única sonda a ter visitado o planeta Mercúrio.\\nFoi a última missão do Programa Mariner sendo que as duas missões seguintes tiveram ...   \n",
       "3  As suas qualidades pessoais, na oratória e nas relações interpessoais, e capacidade intelectual, levaram-no às funções de pastor da Assembleia de Deus e juiz vogal do Tribunal Regional do Trabalho...   \n",
       "4  Sua atual formação tem o intuito de ajudar porém ainda com métodos não muito heroicos.\\nO grupo que foi reunido pelo Hulk Vermelho é formado por: Deadpool, Justiceiro, Elektra, Motoqueiro Fantasma...   \n",
       "\n",
       "                                                                                                                                                                                                   flClean  \\\n",
       "0  caso exemplar governante adotou ideias bossuet luis xiv franca chamado rei sol bossuet nasceu familia magistrados dijon recebeu educacao colegio jesuita destinado vida religiosa recebeu tonsura an...   \n",
       "1  marcos salles cresceu ambiente musica presente pais tocavam piano pai medico mecenas salles acompanhava entusiasmo movimento artistico belem anos salles interessa violino toma aulas professor ital...   \n",
       "2  messenger mercurio marco mariner unica sonda visitado planeta mercurio ultima missao programa mariner sendo missoes seguintes designacao alterada voyager mariner missao primaria estudo planetas me...   \n",
       "3  qualidades pessoais oratoria relacoes interpessoais capacidade intelectual levaram funcoes pastor assembleia deus juiz vogal tribunal regional trabalho pernambuco direito deveres trabalhadores res...   \n",
       "4  atual formacao intuito ajudar metodos heroicos reunido hulk vermelho formado deadpool justiceiro elektra motoqueiro fantasma venomos thunderbolts herois heroico marvel sendo muitas viloes formacoe...   \n",
       "\n",
       "    0  \n",
       "0  33  \n",
       "1  33  \n",
       "2  66  \n",
       "3  23  \n",
       "4  66  "
      ]
     },
     "execution_count": 127,
     "metadata": {},
     "output_type": "execute_result"
    }
   ],
   "source": [
    "df = pd.concat([files, l], axis=1)\n",
    "df.head()"
   ]
  },
  {
   "cell_type": "code",
   "execution_count": 135,
   "metadata": {},
   "outputs": [
    {
     "data": {
      "text/html": [
       "<div>\n",
       "<style scoped>\n",
       "    .dataframe tbody tr th:only-of-type {\n",
       "        vertical-align: middle;\n",
       "    }\n",
       "\n",
       "    .dataframe tbody tr th {\n",
       "        vertical-align: top;\n",
       "    }\n",
       "\n",
       "    .dataframe thead th {\n",
       "        text-align: right;\n",
       "    }\n",
       "</style>\n",
       "<table border=\"1\" class=\"dataframe\">\n",
       "  <thead>\n",
       "    <tr style=\"text-align: right;\">\n",
       "      <th></th>\n",
       "      <th>filename</th>\n",
       "      <th>size</th>\n",
       "      <th>firstLine</th>\n",
       "      <th>flClean</th>\n",
       "      <th>label</th>\n",
       "    </tr>\n",
       "  </thead>\n",
       "  <tbody>\n",
       "    <tr>\n",
       "      <th>0</th>\n",
       "      <td>Jacques_Benigne_Bossuet_16677.txt</td>\n",
       "      <td>2336</td>\n",
       "      <td>O caso mais exemplar de governante que adotou as ideias de Bossuet foi Luís XIV de França, chamado Rei Sol.\\nBossuet nasceu em uma família de magistrados em 1627, em Dijon, onde recebeu educação n...</td>\n",
       "      <td>caso exemplar governante adotou ideias bossuet luis xiv franca chamado rei sol bossuet nasceu familia magistrados dijon recebeu educacao colegio jesuita destinado vida religiosa recebeu tonsura an...</td>\n",
       "      <td>33</td>\n",
       "    </tr>\n",
       "    <tr>\n",
       "      <th>1</th>\n",
       "      <td>Marcos_Raggio_de_Salles_153555.txt</td>\n",
       "      <td>3013</td>\n",
       "      <td>Marcos Salles cresceu num ambiente em que a música estava muito presente, pois ambos os pais tocavam piano.\\nSeu pai, o médico Mecenas Salles, acompanhava com entusiasmo o movimento artístico de B...</td>\n",
       "      <td>marcos salles cresceu ambiente musica presente pais tocavam piano pai medico mecenas salles acompanhava entusiasmo movimento artistico belem anos salles interessa violino toma aulas professor ital...</td>\n",
       "      <td>33</td>\n",
       "    </tr>\n",
       "    <tr>\n",
       "      <th>2</th>\n",
       "      <td>Mariner_10_59459.txt</td>\n",
       "      <td>2191</td>\n",
       "      <td>MESSENGER a Mercúrio em 18 de março de 2011, a Mariner 10 era a única sonda a ter visitado o planeta Mercúrio.\\nFoi a última missão do Programa Mariner sendo que as duas missões seguintes tiveram ...</td>\n",
       "      <td>messenger mercurio marco mariner unica sonda visitado planeta mercurio ultima missao programa mariner sendo missoes seguintes designacao alterada voyager mariner missao primaria estudo planetas me...</td>\n",
       "      <td>66</td>\n",
       "    </tr>\n",
       "    <tr>\n",
       "      <th>3</th>\n",
       "      <td>Antonio_Torres_Galvao_54382.txt</td>\n",
       "      <td>2095</td>\n",
       "      <td>As suas qualidades pessoais, na oratória e nas relações interpessoais, e capacidade intelectual, levaram-no às funções de pastor da Assembleia de Deus e juiz vogal do Tribunal Regional do Trabalho...</td>\n",
       "      <td>qualidades pessoais oratoria relacoes interpessoais capacidade intelectual levaram funcoes pastor assembleia deus juiz vogal tribunal regional trabalho pernambuco direito deveres trabalhadores res...</td>\n",
       "      <td>23</td>\n",
       "    </tr>\n",
       "    <tr>\n",
       "      <th>4</th>\n",
       "      <td>Thunderbolts_52556.txt</td>\n",
       "      <td>5805</td>\n",
       "      <td>Sua atual formação tem o intuito de ajudar porém ainda com métodos não muito heroicos.\\nO grupo que foi reunido pelo Hulk Vermelho é formado por: Deadpool, Justiceiro, Elektra, Motoqueiro Fantasma...</td>\n",
       "      <td>atual formacao intuito ajudar metodos heroicos reunido hulk vermelho formado deadpool justiceiro elektra motoqueiro fantasma venomos thunderbolts herois heroico marvel sendo muitas viloes formacoe...</td>\n",
       "      <td>66</td>\n",
       "    </tr>\n",
       "  </tbody>\n",
       "</table>\n",
       "</div>"
      ],
      "text/plain": [
       "                             filename  size  \\\n",
       "0   Jacques_Benigne_Bossuet_16677.txt  2336   \n",
       "1  Marcos_Raggio_de_Salles_153555.txt  3013   \n",
       "2                Mariner_10_59459.txt  2191   \n",
       "3     Antonio_Torres_Galvao_54382.txt  2095   \n",
       "4              Thunderbolts_52556.txt  5805   \n",
       "\n",
       "                                                                                                                                                                                                 firstLine  \\\n",
       "0  O caso mais exemplar de governante que adotou as ideias de Bossuet foi Luís XIV de França, chamado Rei Sol.\\nBossuet nasceu em uma família de magistrados em 1627, em Dijon, onde recebeu educação n...   \n",
       "1  Marcos Salles cresceu num ambiente em que a música estava muito presente, pois ambos os pais tocavam piano.\\nSeu pai, o médico Mecenas Salles, acompanhava com entusiasmo o movimento artístico de B...   \n",
       "2  MESSENGER a Mercúrio em 18 de março de 2011, a Mariner 10 era a única sonda a ter visitado o planeta Mercúrio.\\nFoi a última missão do Programa Mariner sendo que as duas missões seguintes tiveram ...   \n",
       "3  As suas qualidades pessoais, na oratória e nas relações interpessoais, e capacidade intelectual, levaram-no às funções de pastor da Assembleia de Deus e juiz vogal do Tribunal Regional do Trabalho...   \n",
       "4  Sua atual formação tem o intuito de ajudar porém ainda com métodos não muito heroicos.\\nO grupo que foi reunido pelo Hulk Vermelho é formado por: Deadpool, Justiceiro, Elektra, Motoqueiro Fantasma...   \n",
       "\n",
       "                                                                                                                                                                                                   flClean  \\\n",
       "0  caso exemplar governante adotou ideias bossuet luis xiv franca chamado rei sol bossuet nasceu familia magistrados dijon recebeu educacao colegio jesuita destinado vida religiosa recebeu tonsura an...   \n",
       "1  marcos salles cresceu ambiente musica presente pais tocavam piano pai medico mecenas salles acompanhava entusiasmo movimento artistico belem anos salles interessa violino toma aulas professor ital...   \n",
       "2  messenger mercurio marco mariner unica sonda visitado planeta mercurio ultima missao programa mariner sendo missoes seguintes designacao alterada voyager mariner missao primaria estudo planetas me...   \n",
       "3  qualidades pessoais oratoria relacoes interpessoais capacidade intelectual levaram funcoes pastor assembleia deus juiz vogal tribunal regional trabalho pernambuco direito deveres trabalhadores res...   \n",
       "4  atual formacao intuito ajudar metodos heroicos reunido hulk vermelho formado deadpool justiceiro elektra motoqueiro fantasma venomos thunderbolts herois heroico marvel sendo muitas viloes formacoe...   \n",
       "\n",
       "   label  \n",
       "0     33  \n",
       "1     33  \n",
       "2     66  \n",
       "3     23  \n",
       "4     66  "
      ]
     },
     "execution_count": 135,
     "metadata": {},
     "output_type": "execute_result"
    }
   ],
   "source": [
    "df.columns = ['filename', 'size', 'firstLine', 'flClean', 'label']\n",
    "df.head()"
   ]
  },
  {
   "cell_type": "markdown",
   "metadata": {},
   "source": [
    "salvando o arquivo para iniciar o processo a partir daqui"
   ]
  },
  {
   "cell_type": "code",
   "execution_count": 136,
   "metadata": {},
   "outputs": [],
   "source": [
    "# df.to_csv('files-com-label.csv', index=False)"
   ]
  },
  {
   "cell_type": "code",
   "execution_count": null,
   "metadata": {},
   "outputs": [],
   "source": [
    "# df = pd.read_csv('files-com-label.csv')\n",
    "# df.head()"
   ]
  },
  {
   "cell_type": "markdown",
   "metadata": {},
   "source": [
    "### Analisando o cluster \n",
    "* peguei as principais palavras que identificam cada cluster\n",
    "* fiz a analise em um planilha excel\n",
    "* e defini uma linha de corte para cluster\n",
    "* isso criou uma condição e essa condição eu usei para setar True a coluna apagar\n",
    "* depois eu apaguei os arquivos"
   ]
  },
  {
   "cell_type": "code",
   "execution_count": 129,
   "metadata": {},
   "outputs": [
    {
     "data": {
      "text/html": [
       "<div>\n",
       "<style scoped>\n",
       "    .dataframe tbody tr th:only-of-type {\n",
       "        vertical-align: middle;\n",
       "    }\n",
       "\n",
       "    .dataframe tbody tr th {\n",
       "        vertical-align: top;\n",
       "    }\n",
       "\n",
       "    .dataframe thead th {\n",
       "        text-align: right;\n",
       "    }\n",
       "</style>\n",
       "<table border=\"1\" class=\"dataframe\">\n",
       "  <thead>\n",
       "    <tr style=\"text-align: right;\">\n",
       "      <th></th>\n",
       "      <th>qtdade</th>\n",
       "      <th>percent</th>\n",
       "    </tr>\n",
       "    <tr>\n",
       "      <th>cluster</th>\n",
       "      <th></th>\n",
       "      <th></th>\n",
       "    </tr>\n",
       "  </thead>\n",
       "  <tbody>\n",
       "    <tr>\n",
       "      <th>0</th>\n",
       "      <td>634</td>\n",
       "      <td>0.003573</td>\n",
       "    </tr>\n",
       "    <tr>\n",
       "      <th>1</th>\n",
       "      <td>2071</td>\n",
       "      <td>0.011672</td>\n",
       "    </tr>\n",
       "    <tr>\n",
       "      <th>2</th>\n",
       "      <td>979</td>\n",
       "      <td>0.005518</td>\n",
       "    </tr>\n",
       "    <tr>\n",
       "      <th>3</th>\n",
       "      <td>132</td>\n",
       "      <td>0.000744</td>\n",
       "    </tr>\n",
       "    <tr>\n",
       "      <th>4</th>\n",
       "      <td>1446</td>\n",
       "      <td>0.008149</td>\n",
       "    </tr>\n",
       "    <tr>\n",
       "      <th>...</th>\n",
       "      <td>...</td>\n",
       "      <td>...</td>\n",
       "    </tr>\n",
       "    <tr>\n",
       "      <th>64</th>\n",
       "      <td>1190</td>\n",
       "      <td>0.006707</td>\n",
       "    </tr>\n",
       "    <tr>\n",
       "      <th>65</th>\n",
       "      <td>671</td>\n",
       "      <td>0.003782</td>\n",
       "    </tr>\n",
       "    <tr>\n",
       "      <th>66</th>\n",
       "      <td>32575</td>\n",
       "      <td>0.183588</td>\n",
       "    </tr>\n",
       "    <tr>\n",
       "      <th>67</th>\n",
       "      <td>3347</td>\n",
       "      <td>0.018863</td>\n",
       "    </tr>\n",
       "    <tr>\n",
       "      <th>68</th>\n",
       "      <td>1575</td>\n",
       "      <td>0.008876</td>\n",
       "    </tr>\n",
       "  </tbody>\n",
       "</table>\n",
       "<p>69 rows × 2 columns</p>\n",
       "</div>"
      ],
      "text/plain": [
       "         qtdade   percent\n",
       "cluster                  \n",
       "0           634  0.003573\n",
       "1          2071  0.011672\n",
       "2           979  0.005518\n",
       "3           132  0.000744\n",
       "4          1446  0.008149\n",
       "...         ...       ...\n",
       "64         1190  0.006707\n",
       "65          671  0.003782\n",
       "66        32575  0.183588\n",
       "67         3347  0.018863\n",
       "68         1575  0.008876\n",
       "\n",
       "[69 rows x 2 columns]"
      ]
     },
     "execution_count": 129,
     "metadata": {},
     "output_type": "execute_result"
    }
   ],
   "source": [
    "#l = pd.DataFrame(labels).groupby(0).size()\n",
    "l = pd.DataFrame(labels)\n",
    "clusters = pd.concat([l.groupby(0).size(), l.groupby(0).size().agg(lambda x: x / len(l))], axis=1)\n",
    "clusters.columns = ['qtdade', 'percent']\n",
    "clusters.index.name = 'cluster'\n",
    "clusters"
   ]
  },
  {
   "cell_type": "code",
   "execution_count": 132,
   "metadata": {},
   "outputs": [
    {
     "data": {
      "text/html": [
       "<div>\n",
       "<style scoped>\n",
       "    .dataframe tbody tr th:only-of-type {\n",
       "        vertical-align: middle;\n",
       "    }\n",
       "\n",
       "    .dataframe tbody tr th {\n",
       "        vertical-align: top;\n",
       "    }\n",
       "\n",
       "    .dataframe thead th {\n",
       "        text-align: right;\n",
       "    }\n",
       "</style>\n",
       "<table border=\"1\" class=\"dataframe\">\n",
       "  <thead>\n",
       "    <tr style=\"text-align: right;\">\n",
       "      <th></th>\n",
       "      <th>qtdade</th>\n",
       "      <th>percent</th>\n",
       "    </tr>\n",
       "    <tr>\n",
       "      <th>cluster</th>\n",
       "      <th></th>\n",
       "      <th></th>\n",
       "    </tr>\n",
       "  </thead>\n",
       "  <tbody>\n",
       "    <tr>\n",
       "      <th>66</th>\n",
       "      <td>32575</td>\n",
       "      <td>0.183588</td>\n",
       "    </tr>\n",
       "    <tr>\n",
       "      <th>26</th>\n",
       "      <td>9857</td>\n",
       "      <td>0.055553</td>\n",
       "    </tr>\n",
       "    <tr>\n",
       "      <th>33</th>\n",
       "      <td>7675</td>\n",
       "      <td>0.043255</td>\n",
       "    </tr>\n",
       "    <tr>\n",
       "      <th>35</th>\n",
       "      <td>5414</td>\n",
       "      <td>0.030513</td>\n",
       "    </tr>\n",
       "    <tr>\n",
       "      <th>23</th>\n",
       "      <td>4623</td>\n",
       "      <td>0.026055</td>\n",
       "    </tr>\n",
       "    <tr>\n",
       "      <th>...</th>\n",
       "      <td>...</td>\n",
       "      <td>...</td>\n",
       "    </tr>\n",
       "    <tr>\n",
       "      <th>59</th>\n",
       "      <td>523</td>\n",
       "      <td>0.002948</td>\n",
       "    </tr>\n",
       "    <tr>\n",
       "      <th>37</th>\n",
       "      <td>409</td>\n",
       "      <td>0.002305</td>\n",
       "    </tr>\n",
       "    <tr>\n",
       "      <th>54</th>\n",
       "      <td>369</td>\n",
       "      <td>0.002080</td>\n",
       "    </tr>\n",
       "    <tr>\n",
       "      <th>12</th>\n",
       "      <td>353</td>\n",
       "      <td>0.001989</td>\n",
       "    </tr>\n",
       "    <tr>\n",
       "      <th>3</th>\n",
       "      <td>132</td>\n",
       "      <td>0.000744</td>\n",
       "    </tr>\n",
       "  </tbody>\n",
       "</table>\n",
       "<p>69 rows × 2 columns</p>\n",
       "</div>"
      ],
      "text/plain": [
       "         qtdade   percent\n",
       "cluster                  \n",
       "66        32575  0.183588\n",
       "26         9857  0.055553\n",
       "33         7675  0.043255\n",
       "35         5414  0.030513\n",
       "23         4623  0.026055\n",
       "...         ...       ...\n",
       "59          523  0.002948\n",
       "37          409  0.002305\n",
       "54          369  0.002080\n",
       "12          353  0.001989\n",
       "3           132  0.000744\n",
       "\n",
       "[69 rows x 2 columns]"
      ]
     },
     "execution_count": 132,
     "metadata": {},
     "output_type": "execute_result"
    }
   ],
   "source": [
    "clusters.sort_values('qtdade', ascending=False)"
   ]
  },
  {
   "cell_type": "code",
   "execution_count": 148,
   "metadata": {},
   "outputs": [],
   "source": [
    "clusters['percent'] = clusters.percent * 100"
   ]
  },
  {
   "cell_type": "code",
   "execution_count": 196,
   "metadata": {},
   "outputs": [],
   "source": [
    "def topWords(lista, n_words=50):\n",
    "    dictionary = {}\n",
    "    words = []\n",
    "    for l in lista:\n",
    "        words = words + l.split()\n",
    "    for word in words:\n",
    "        if word not in dictionary:\n",
    "            dictionary[word] = 0\n",
    "        dictionary[word] += 1\n",
    "    return ' '.join([i for i,l in sorted(dictionary.items(), key=lambda item: item[1], reverse=True)[:n_words]])"
   ]
  },
  {
   "cell_type": "code",
   "execution_count": 198,
   "metadata": {
    "scrolled": true
   },
   "outputs": [
    {
     "data": {
      "text/plain": [
       "['wrestling wwe profissional luta evento championship world lutador livre nome pay per view the raw lutadores smackdown atualmente programa produzido ringue nxt trabalha campeao total ocorreu estadunidense team titulo tag nonstop action ring tna of cronologia lutas transmitido sendo duplas network comecou wrestlemania formato dupla pro impact diferentes desenvolvimento anos',\n",
       " 'the of serie filme and americano norte anos filmes estadunidense ator televisao in s lancado banda livro dirigido nasceu americana personagem historia nome seriado atriz papel estados john album unidos show rock new durante produzido produtor musica carreira baseado ano sendo cinema comecou romance publicado escritor livros britanico to musical',\n",
       " 'palacio palazzo via seculo construido localizado roma edificio di familia villa rione residencia cidade situado piazza del casa della nome dei sede real florenca construcao antigo centro san durante antiga encontra actualmente d complexo estilo propriedade arquitecto praca principal i atualmente xvi fica rei jardins parque frente italiano santa edificios',\n",
       " 'aldeia quilometros nagar distrito shaheed bhagat singh punjab india capital chandigarh sarpanch representante eleito total casas populacao administrada acordo distancia sede localizada censos elementos nawanshahr banga rahon kalan mazara khurd sexo jadla mukandpur balachaur garcha phagwara kahma ladhana jhikka bahloor langroya simboliza assuntos behram garhshankar dosanjh mahil gailan pharala amargarh',\n",
       " 'programa exibido televisao brasileiro show rede apresentado tv temporada estreou brasil anos dia globo produzido canal h reality apresentador ar transmitido sbt programas sendo brasileira emissora ano the criado abril formato dezembro radio durante marco setembro janeiro jornalista agosto serie originalmente mtv nome comecou apresentacao versao apresentadora edicao americano paulo',\n",
       " 'imperio imperador romano bizantino durante filho i reinado nome constantinopla ii morte batalha joao anos dinastia constantino cidade imperial guerra periodo reino pai trono exercito familia seculo tornou oficial irmao general militar historia regiao ano germanico romana bizantina roma titulo filha capital esposa imperadores otomano imperatriz sido sacro origem iii',\n",
       " 'musica compositor anos musical cantor brasileiro carreira comecou nome produtor musico nasceu rock banda piano artistico idade brasileira pai orquestra filho jazz cidade musicais popular maestro tocar familia pianista decada cancoes estudou iniciou paulo pop escola durante americano estilo nascido musicas musicos sucesso ano cantora artistas pais considerado festival album',\n",
       " 'municipio habitantes brasileiro regiao populacao km cidade rio distrito estimada sul norte capital sede localizado minas nome ibge sendo gerais oeste localiza paulo cerca vila brasil microrregiao pais interior metropolitana seculo santa ano instituto estatistica centro possui leste acordo geografia municipios quilometros mesorregiao terras bahia povoado situado origem territorio lei',\n",
       " 'municipio sul oeste latitude longitude localiza brasileiro populacao altitude habitantes metros estando km estimada regiao possui rio paulo cidade ibge santa deg norte brasil sede nome capital centro catarina distrito microrregiao mato metropolitana grosso localizado origem situado conforme formado quilometros piaui mesorregiao municipios sendo janeiro paulista seculo terras tupi vale',\n",
       " 'peso lutador artes marciais mma ufc mistas fighting ultimate atualmente championship campeao compete luta comecou ex medio profissional categoria anos americano brasileiro estreia evento jiu jitsu venceu treinar carreira lutou bellator leve competiu vitorias galo wrestling the lutas pesado nocaute estadunidense pena decisao wec norte round nasceu finalizacao strikeforce fight',\n",
       " 'banda rock formada the album vocalista anos guitarrista musica nome punk bandas pop baterista albuns baixista lancado americana musical cidade membros ano brasileira estudio compositor formacao comecou carreira sucesso lancou decada cantor musico norte of and integrantes alternativo musicas disco records guitarra durante estilo estados britanica cancoes unidos single tocar',\n",
       " 'direito universidade faculdade brasileiro advogado politico professor federal filho paulo jurista formou rio anos publico portugues jose deputado presidente janeiro brasil jornalista ciencias estudou estudos lisboa cidade tribunal tendo curso nasceu ministro maria civil coimbra formado justica juridicas ano escritor antonio bacharel politica francisco nacional carreira sendo colegio exerceu durante',\n",
       " 'estadio futebol clube cidade localizado capacidade jogos inaugurado nome pessoas brasil brasileiro arena municipal rio paulo construido construcao campo bairro copa campeonato casa sul atualmente sendo club espectadores jogo sede janeiro partidas esporte jose dia homenagem propriedade situado centro antigo stadium presidente partida time chamado torcedores mundo oficial anos municipio',\n",
       " 'presidente governo politico republica ministro pais vice cargo nacional partido chefe durante brasileiro politica eleicao eleito federal anos estados presidencial ex eleicoes brasil unidos janeiro golpe presidencia camara constituicao nasceu mandato filho militar membro assembleia marco executivo tendo governador advogado abril lider sendo atual novembro outubro maio guerra universidade jose',\n",
       " 'futebolista brasileiro atualmente clube futebol carreira anos ex atua atuava joga comecou base atacante jogador treinador equipe profissional categorias time campeonato ano jogou gols selecao iniciou copa paulo meia zagueiro goleiro temporada tecnico sendo lateral atuou jogar chegou durante cidade volante partidas passou revelado estreia campeao jogos clubes principal nascido',\n",
       " 'lingua linguas falada falantes familia pessoas sul cerca idioma falado norte escrita portuguesa regiao sendo oficial dialetos portugues principalmente nome seculo linguistica pais ilhas dialeto alfabeto ingles ramo faladas indo rio palavras central ocidental milhoes estados paises populacao chamada crioulo falam usado leste muitas usada idiomas africa anos origem hoje',\n",
       " 'album lancado estudio banda the records cantora rock disco lancamento single estreia musica gravadora americana music cancoes novembro dia cantor musical gravado setembro outubro pop sendo faixas albuns produzido singles copias estados unidos junho musicas norte maio vivo of anos marco sucesso billboard agosto brasileira reino artista unido decimo producao',\n",
       " 'duque filha maria princesa principe esposa rei i filho ii rainha isabel carlos conde frederico pai duquesa casamento consorte luis nasceu guilherme iii saxe morte franca joao casa mae austria ana luisa avos grao henrique d reino jorge filipe anos irmao irma russia real imperador condessa baviera espanha casou francisco',\n",
       " 'cancao album single lancada estudio cantora musica the escrita gravada lancado composta produzida banda faixa americana pop festival sendo records artista musical norte versao cantor lancamento estadunidense producao estreia rock i dia disco participacao you b contida compositora maio eurovisao sucesso love propria s billboard marco americano novembro rapper gravacao',\n",
       " 'universidade professor faculdade ciencias paulo filosofia federal brasileiro estudos instituto medicina estudou nasceu escola anos historia doutorado filho lisboa letras rio cidade graduacao pos obteve engenharia mestrado politico medico formou curso brasil brasileira janeiro fisica catolica ensino ano escritor pesquisa centro teologia politica economia nacional durante tendo departamento portugues recebeu',\n",
       " 'jogo windows playstation xbox lancado microsoft desenvolvido publicado eletronico serie versao one acao pessoa of jogos the games outubro aventura titulo novembro nintendo game dia tiro entertainment x studios s wii lancada america ubisoft jogador historia sendo norte lancamento setembro produzido marco europa plataformas sequencia sony abril mundo japao anunciado',\n",
       " 'dados software sistemas rede linguagem internet computador informacao comunicacao codigo computadores programacao projeto padrao desenvolvimento informacoes uso computacao web desenvolvido linux usuarios conjunto tecnologia usuario permite digital versao arquivos processo usado operacional livre redes servico plataforma baseado memoria aplicacoes windows modelo recursos dispositivos interface servicos nome acesso satelite microsoft sendo',\n",
       " 'filme dirigido estrelado the escrito estadunidense lancado baseado americano comedia produzido historia roteiro genero drama serie norte pictures filmes cinema anos estados john unidos romance animacao conta livro of james nome michael acao vida disney personagem longa generos s ficcao sendo terror david melhor estreou aventura robert elenco brasil suspense',\n",
       " 'brasil brasileiro paulo brasileira anos pais cidade rio nacional sul sendo janeiro historia nome seculo ano federal regiao durante portugal dia atualmente tendo paises familia mundo america municipio brasileiros periodo epoca criado estados centro governo lei decada origem fundada possui movimento jose minas porto norte santa pessoas considerado joao internacional',\n",
       " 'ilha ilhas km arquipelago sul norte costa cidade mar cerca nome acores santa habitantes oceano porto regiao localizada populacao capital leste localiza concelho seculo oeste territorio situada pais municipio localizado vila sendo baia provincia metros freguesia centro rio quilometros atlantico principal durante pequena anos pico reino encontra brasil madeira jorge',\n",
       " 'parque nacional cidade localizado estadual paulo rio regiao criado hectares serra sul conservacao brasil municipio natural bairro possui norte cerca jardim centro situado unidade km zona distrito decreto municipal nome metros municipios localizada parques sendo protecao reserva areas publico santa inaugurado brasileira mata agua estados tematico brasileiro vale m janeiro',\n",
       " 'agua processo geralmente energia corpo celulas doenca sendo funcao usado quimica animais superficie diferentes temperatura tipos ocorre sintomas material nome massa producao estrutura devido comum ar conjunto composto durante acido uso utilizado normalmente fisica pressao tratamento possui consiste luz ambiente casos elementos metodo processos principalmente vida desenvolvimento estudo elemento campo',\n",
       " 'militar exercito brasileiro durante forcas general guerra ditadura militares policia brasil escola filho forca oficial politico portugues anos brasileira nacional janeiro nasceu rio cidade tenente civil infantaria armadas governo comandante pais comando carreira aerea unidade paulo defesa regimento sendo ordem regime posto tendo jose batalhao chefe coronel servico presidente dia',\n",
       " 'ensino educacao escola superior instituicao universidade cidade federal cursos instituto publica paulo brasil centro graduacao fundada brasileira medio escolas faculdade rio alunos colegio anos localizada instituicoes campus estadual pesquisa formacao ministerio tecnologia pais universitario sul nacional sendo ano ciencias criada fundacao curso possui estudantes janeiro pos sede minas ciencia engenharia',\n",
       " 'castelo concelho localiza portugal freguesia distrito cidade vila seculo rio forte regiao dominante nome povoacao primitiva ocupacao construido branco sitio fortificacao defesa localizado provincia remonta viana d humana norte santa porto torre sul medieval situado alto palacio fortaleza durante costa ilha ergue epoca margem historia erguido centro pre sido espanha',\n",
       " 'jogo lancado serie desenvolvido jogos jogador nintendo eletronico publicado the jogadores versao game of japao personagens historia playstation baseado games mundo d super entertainment sendo criado rpg s mega personagem anos norte acao plataforma europa nome man america dia pessoa estilo titulo x sega jogabilidade chamado luta cartas durante sequencia',\n",
       " 'igreja catolica santa papa roma cidade maria seculo senhora santo localizada cardeal romana diocese catedral bispo templo brasil dedicada jesus ortodoxa san arcebispo via construida paulo igrejas nasceu nome anos cristo arquidiocese joao italia sendo santos ordem presbiteriana durante basilica pais antiga capela paroquia dia seminario construcao centro matriz sede',\n",
       " 'guerra durante mundial batalha exercito forcas militar alemanha anos civil conflito alemao cidade general republica norte marinha tropas estados franca imperio sovietica nome travada forca governo comando uniao unidos reino alema sul navio sendo aliados c vitoria periodo militares nasceu dia pais frente operacao serviu ocorreu agosto campanha historia naval',\n",
       " 'nasceu anos familia pai filho mae filha idade cidade pais escola durante nascido nome estudou filhos comecou irmao tornou vida mudou escritor norte americano casa frances irmaos john morte brasileiro estudos passou membro jovem tendo infancia poeta universidade politico esposa irma ano paris sendo seculo maria carreira morreu professor origem',\n",
       " 'especies familia especie genero plantas nome ordem pertencente sul cerca generos america sendo brasil regioes norte distribuicao cm comum planta comprimento inclui flores botanico africa folhas tropicais nomes regiao flor possui arvores mundo natural animais unica conhecidas encontrada subfamilia asia ave agua europa altura orquideas nativa geralmente comuns arvore corpo',\n",
       " 'jose filho maria portugues antonio joao brasileiro nasceu d politico silva lisboa anos francisco manuel portugal cidade bispo mulher portuguesa professor familia paulo pedro tendo pereira sousa pai escritor estudos jornalista costa rio escola casa filha dom porto janeiro santa joaquim luis oliveira almeida ferreira nome conde santos carlos brasil',\n",
       " 'estacao linha ferroviaria metro paris localizada portugal cidade inaugurada estacoes interface nome m paulo linhas norte distrito ferro janeiro espacial localidade sul extensao ramal serve terminal soyuz rede situada vila rue passageiros d situa porto arrondissement construcao originalmente aberta dia comprimento bairro tendo rio expedicao vias regiao plataformas saint lisboa',\n",
       " 'estrela constelacao anos estrelas luz terra magnitude distancia aparente kepler planeta sol messier cerca aproximadamente b massa localizada orbita descoberto aglomerado olho classe paralaxe nu ana brilhante descoberta visual principal galaxia planetas sequencia hd sendo estelar visivel sonda medicoes possui espectral gaia solar gliese vermelha localizado m g centaurus base',\n",
       " 'jogador americano league futebol national jogou temporada basquete profissional nba football liga draft equipe time universidade new selecionado universitario joga ex nfl association basketball anos atualmente norte ano carreira york school high jogos nhl escolha times hockey treinador basquetebol temporadas rodada all divisao jogadores durante american nasceu bowl los angeles',\n",
       " 'estados unidos norte anos americano durante america guerra pais americana nasceu cidade paises mundo nome presidente sendo decada sul governo mundial seculo familia historia canada estadunidense dia aerea brasil politico iorque john tornou forca politica universidade serie ano nacional of california the sido regiao americanos pessoas comecou exercito s filho',\n",
       " 'formula equipe temporada piloto premio campeonato funcao corrida anos categoria circuito campeao automobilismo conjunto etapa matematica carreira mundial ferrari ano pilotos comecou equacao gp sendo corridas racing automobilista f renault ex carro kart teoria resultados realizado williams disputada ford fia disputou brasileiro dia prova seguinte decima teorema vencedor frances linear',\n",
       " 'copa futebol mundo selecao fifa sul competicao edicao torneio brasil clubes america campeao jogos americana campeonato libertadores pais brasileira futebolista equipes selecoes disputada realizada equipe confederacao uefa campeoes competicoes fase anos internacional argentina sendo ano jogo partida clube ex mundial brasileiro federacao eliminatorias titulo jogador representa liga partidas organizada historia',\n",
       " 'freguesia km concelho habitantes portuguesa densidade hab populacional vila freguesias sede administrativa uniao norte extinta antiga regiao rio santa nacional sul ambito reforma tendo lugares cerca territorio sendo aldeia nome situada denominada cidade sido formar criada distrito agregada serra vale seculo lei reorganizacao situa centro beira santo ilha oeste localidade',\n",
       " 'partido politico brasileiro deputado federal eleito filiado politica estadual filho prefeito comunista anos social presidente eleicoes nacional advogado mandato paulo universidade democratico durante socialista cargo movimento governo ex governador atualmente cidade vereador rio nasceu votos membro ministro sendo lider trabalhadores janeiro secretario jose empresario gerais brasil democrata formado republica tendo',\n",
       " 'cidade bairro capital centro regiao habitantes nome rio sul populacao localizada distrito paulo km norte porto localizado municipio provincia avenida zona praca pais cerca rua antiga seculo situada sendo fundada possui vila historico sede localiza bairros durante oeste condado brasil leste quilometros importante central principal brasileiro cidades anos hoje santa',\n",
       " 'futebol campeonato edicao competicao clubes torneio equipes divisao campeao liga brasileiro federacao serie brasil fase paulista copa disputada principal ano disputado titulo organizada taca voleibol turno equipe nacional temporada janeiro sendo realizada anos disputa rio clube organizado paulo feminino brasileira americano mundial times jogos sul campeoes maio internacional b cidade',\n",
       " 'arte pintor pintura artes artista obra escola anos oleo belas obras museu seculo pinturas portugues artistas nasceu brasileiro lisboa tela filho professor estudou periodo academia escultor nacional paris madeira estilo durante brasil mestre encontra cidade familia desenho tendo italiano maria paulo vida historia trabalho desenhista estudos escultura pai pintores movimento',\n",
       " 'cantora album sul compositora musical carreira anos musica turne estreia albuns lancado nome single the atriz lancou estudio singles music americana coreano entertainment brasileira comecou records pop norte artista nasceu ano artistico cantor disco lancamento sucesso gravadora billboard cancoes solo formado show feminino cancao dia banda extended s tour rapper',\n",
       " 'aeroporto miss internacional concurso universo brasil cidade voo beleza edicao passageiros titulo pais localizado candidatas mundo anos aerea sul modelo estados ano centro regiao evento voos km unidos realizado dia realizada rio municipio nacional airlines companhia aeronave paulo rainha brasileira pista principal norte coroada julho janeiro capital coroou eleita beach',\n",
       " 'regiao sul norte km oeste leste cidade rio provincia nome mar pais cerca capital territorio habitantes centro fronteira localizada distrito localizado costa populacao nordeste quilometros republica situada lago africa municipio sudoeste noroeste sudeste vale seculo comuna brasil central sendo peninsula situado oceano durante ocidental america metros situa estados reino brasileiro',\n",
       " 'livro publicado romance escrito historia obra escritor autor serie livros the vida anos editora titulo personagem brasil ficcao lancado ano nome seculo mundo of durante edicao brasileiro literatura americano originalmente obras biblia norte premio conta sendo contos considerado publicada sido escritora cidade autoria ingles filme escrita s cientifica texto frances',\n",
       " 'termo usado palavra utilizado refere significa nome referir geralmente origem seculo descrever designar sendo durante uso conceito pessoas sentido pessoa comum diferentes mundo muitas conjunto movimento periodo sido anos grego processo normalmente social lingua paises significado historia ingles designa frequentemente deriva expressao termos estudo cultura principalmente grupos regiao brasil contexto',\n",
       " 'exibida telenovela produzida sendo capitulos escrita substituindo brasileira direcao substituida rede novela globo emissora protagonizada colaboracao mexicana televisa horario maria marco las trama janeiro canal maio estrellas amor outubro horas antagonizada carlos dirigida contou abril setembro agosto julho junho jose novembro el remake fevereiro historia baseada original paulo televisao h',\n",
       " 'teoria logica matematica conjunto problema grafo complexidade fisica problemas ciencia modelo conjuntos computacao funcao estudo matematico campo trabalho teorema teorias desenvolvimento funcoes analise grafos quantica processo historia conceito filosofia social computacional sendo espaco turing seculo ordem economia linguagem classe sistemas probabilidade formal comportamento universidade maquina informacao vertices prova relacoes chamado',\n",
       " 'tropical ciclone temporada furacao tempestade ciclones pacifico furacoes formou atlantico tufao tropicais oceano norte costa decimo sul sendo oeste intenso ventos novembro nome setembro atingiu comecou ano km agosto indico leste tufoes noroeste nomeado sudoeste depressao meteorologicas formacao onda intensidade perturbacao durante h junho dia julho periodo afetou regiao tornou',\n",
       " 'prefeito eleicoes governador vice estaduais outubro federais eleicao deputados eleitos municipal estados votos turno federal vereadores gerais ocorreram eleger validos distrito eleito senador municipio candidatos paulo janeiro brasil amapa roraima territorios senadores mandato dia cargos novembro constituicao anos realizada cidade rondonia candidato ocorreu disputa rio jose administracao aconteceu sendo brasileiro',\n",
       " 'banda metal formada heavy album vocalista guitarrista bandas nome death rock black anos albuns the musica of baterista baixista estilo thrash estudio ano power demo formacao genero lancado letras cidade sendo lancou musical americana comecou progressivo som records musicas unidos estados membros fundada formado influencias norte compositor sinfonico ep doom',\n",
       " 'rio janeiro cidade brasileiro brasil municipio sul bairro regiao norte paulo nome anos brasileira escola samba zona ano sendo federal centro localizado santa agua km filho porto curso seculo localizada jose bacia minas politico fundada nasceu carnaval capital durante joao bairros universidade francisco oeste gerais vila dia cerca antonio atualmente',\n",
       " 'rei filho i ii reino morte pai d portugal filha esposa irmao anos rainha iii durante trono dinastia conde afonso franca joao reinado inglaterra luis carlos nome iv henrique principe castela casa real velho nasceu titulo filhos c sendo mae duque familia filipe guerra reis batalha tornou v pedro sido',\n",
       " 'c consul lucio eleito gente romana republica caio politico marco filho publio romano cornelio tribuno pai nomeado cneu guerra valerio anos julio sufecto consular emilio senador irmao fabio durante familia claudio roma cipiao primeiros cesar ano tito aulo servilio imperador nome ditador batalha pretor respectivamente sido metelo tiberio consulado general',\n",
       " 'serie temporada episodio televisao the episodios estreou americana criada exibida canal estados unidos produzida originalmente brasil personagem escrito dia setembro exibido norte ar dirigido historia outubro of maio tv fox anos ficcao anime marco rede baseada cientifica sendo comedia abril personagens drama janeiro animacao manga s original temporadas animada novembro',\n",
       " 'empresa fundada companhia sede brasileira brasil empresas servicos nome anos mundo produtos cidade mercado s paulo producao marca ano paises criada sendo atualmente estados possui transporte rede sediada desenvolvimento company fabricante sul capital americana norte servico tecnologia milhoes janeiro unidos portugal maiores brasileiro atua fabrica principal rio comecou satelite decada',\n",
       " 'clube futebol cidade fundado club brasileiro campeonato divisao esporte cores nome agremiacao fundada esportiva rio equipe anos clubes branco atualmente janeiro time ano atletico estadio associacao paulo sede sediado dia football profissional campeao disputa sport liga jogos nacional sendo brasil azul portugues sul sediada historia alema maio presidente titulos principal',\n",
       " 'radio emissora tv rede televisao fm brasileira canal opera cidade sediada capital afiliada rio paulo frequencia programacao globo comunicacao mhz fundada janeiro pertence sede brasil sul dial am emissoras ar brasileiro dia anos sendo jornalista jornal inaugurada programas khz bandeirantes estudios comecou estacao empresario regiao bairro transmissao entrou digital jose',\n",
       " 'comics quadrinhos marvel personagem historias dc serie super revista universo editora criado historia publicada heroi the publicadas herois personagens ficticio homem nome apareceu criada batman superman revistas americana anos x escritor edicoes aparece aparicao sendo men publicado originalmente televisao brasil aranha s escrita lee durante john filmes norte series estadunidense',\n",
       " 'museu arte cidade localizado historia paulo nacional colecao acervo inaugurado museus historico centro casa fundado brasil edificio obras brasileiro rio instituicao seculo artes cultural publico cultura situado fundacao janeiro municipal possui criado dedicado antigo objetos anos bairro instituto universidade instalado antiga importantes mundo sede capital rua pecas predio contemporanea pais',\n",
       " 'nome anos durante seculo historia sendo mundo cidade ano pais dia pessoas sido periodo nacional norte portugal vida serie paises origem governo internacional brasileiro organizacao tendo regiao principal chamado movimento reino trabalho comecou varias acordo epoca social tornou decada antiga c cultura republica politica considerado sociedade desenvolvimento antigo cerca fundada',\n",
       " 'teatro cinema atriz ator anos filmes carreira televisao nasceu filme diretor comecou papel serie brasileiro brasileira norte melhor atuou estadunidense filho the filha americano produtor americana nome cidade roteirista iniciou paulo papeis modelo familia maria durante escola oscar pai ano peca mae pais estreou ganhou personagem estudou artes cineasta tv',\n",
       " 'jogos olimpicos mundial campeonato medalha ouro anos brasileira selecao conquistou ex sul medalhas olimpico voleibol atleta americano prata juvenil edicao verao brasileiro ginastica campeao equipe ginasta categoria provas bronze m ano campea voleibolista atletismo pan americanos olimpica praia comecou disputou metros internacional indoor brasil medalhista cidade volei artistica evento atletas']"
      ]
     },
     "execution_count": 198,
     "metadata": {},
     "output_type": "execute_result"
    }
   ],
   "source": [
    "lista_topWords = list()\n",
    "for c in range(69):\n",
    "    lista_topWords.append(topWords(df[df.label==c]['flClean'].tolist()))\n",
    "lista_topWords"
   ]
  },
  {
   "cell_type": "code",
   "execution_count": 203,
   "metadata": {},
   "outputs": [
    {
     "data": {
      "text/html": [
       "<div>\n",
       "<style scoped>\n",
       "    .dataframe tbody tr th:only-of-type {\n",
       "        vertical-align: middle;\n",
       "    }\n",
       "\n",
       "    .dataframe tbody tr th {\n",
       "        vertical-align: top;\n",
       "    }\n",
       "\n",
       "    .dataframe thead th {\n",
       "        text-align: right;\n",
       "    }\n",
       "</style>\n",
       "<table border=\"1\" class=\"dataframe\">\n",
       "  <thead>\n",
       "    <tr style=\"text-align: right;\">\n",
       "      <th></th>\n",
       "      <th>qtdade</th>\n",
       "      <th>percent</th>\n",
       "      <th>0</th>\n",
       "    </tr>\n",
       "  </thead>\n",
       "  <tbody>\n",
       "    <tr>\n",
       "      <th>0</th>\n",
       "      <td>634</td>\n",
       "      <td>0.357314</td>\n",
       "      <td>wrestling wwe profissional luta evento championship world lutador livre nome pay per view the raw lutadores smackdown atualmente programa produzido ringue nxt trabalha campeao total ocorreu estadu...</td>\n",
       "    </tr>\n",
       "    <tr>\n",
       "      <th>1</th>\n",
       "      <td>2071</td>\n",
       "      <td>1.167188</td>\n",
       "      <td>the of serie filme and americano norte anos filmes estadunidense ator televisao in s lancado banda livro dirigido nasceu americana personagem historia nome seriado atriz papel estados john album u...</td>\n",
       "    </tr>\n",
       "    <tr>\n",
       "      <th>2</th>\n",
       "      <td>979</td>\n",
       "      <td>0.551751</td>\n",
       "      <td>palacio palazzo via seculo construido localizado roma edificio di familia villa rione residencia cidade situado piazza del casa della nome dei sede real florenca construcao antigo centro san duran...</td>\n",
       "    </tr>\n",
       "    <tr>\n",
       "      <th>3</th>\n",
       "      <td>132</td>\n",
       "      <td>0.074393</td>\n",
       "      <td>aldeia quilometros nagar distrito shaheed bhagat singh punjab india capital chandigarh sarpanch representante eleito total casas populacao administrada acordo distancia sede localizada censos elem...</td>\n",
       "    </tr>\n",
       "    <tr>\n",
       "      <th>4</th>\n",
       "      <td>1446</td>\n",
       "      <td>0.814946</td>\n",
       "      <td>programa exibido televisao brasileiro show rede apresentado tv temporada estreou brasil anos dia globo produzido canal h reality apresentador ar transmitido sbt programas sendo brasileira emissora...</td>\n",
       "    </tr>\n",
       "  </tbody>\n",
       "</table>\n",
       "</div>"
      ],
      "text/plain": [
       "   qtdade   percent  \\\n",
       "0     634  0.357314   \n",
       "1    2071  1.167188   \n",
       "2     979  0.551751   \n",
       "3     132  0.074393   \n",
       "4    1446  0.814946   \n",
       "\n",
       "                                                                                                                                                                                                         0  \n",
       "0  wrestling wwe profissional luta evento championship world lutador livre nome pay per view the raw lutadores smackdown atualmente programa produzido ringue nxt trabalha campeao total ocorreu estadu...  \n",
       "1  the of serie filme and americano norte anos filmes estadunidense ator televisao in s lancado banda livro dirigido nasceu americana personagem historia nome seriado atriz papel estados john album u...  \n",
       "2  palacio palazzo via seculo construido localizado roma edificio di familia villa rione residencia cidade situado piazza del casa della nome dei sede real florenca construcao antigo centro san duran...  \n",
       "3  aldeia quilometros nagar distrito shaheed bhagat singh punjab india capital chandigarh sarpanch representante eleito total casas populacao administrada acordo distancia sede localizada censos elem...  \n",
       "4  programa exibido televisao brasileiro show rede apresentado tv temporada estreou brasil anos dia globo produzido canal h reality apresentador ar transmitido sbt programas sendo brasileira emissora...  "
      ]
     },
     "execution_count": 203,
     "metadata": {},
     "output_type": "execute_result"
    }
   ],
   "source": [
    "clusters = pd.concat([clusters, pd.Series(lista_topWords)], axis=1)\n",
    "clusters.head()"
   ]
  },
  {
   "cell_type": "code",
   "execution_count": 206,
   "metadata": {},
   "outputs": [
    {
     "data": {
      "text/html": [
       "<div>\n",
       "<style scoped>\n",
       "    .dataframe tbody tr th:only-of-type {\n",
       "        vertical-align: middle;\n",
       "    }\n",
       "\n",
       "    .dataframe tbody tr th {\n",
       "        vertical-align: top;\n",
       "    }\n",
       "\n",
       "    .dataframe thead th {\n",
       "        text-align: right;\n",
       "    }\n",
       "</style>\n",
       "<table border=\"1\" class=\"dataframe\">\n",
       "  <thead>\n",
       "    <tr style=\"text-align: right;\">\n",
       "      <th></th>\n",
       "      <th>qtdade</th>\n",
       "      <th>percent</th>\n",
       "      <th>topWords</th>\n",
       "    </tr>\n",
       "  </thead>\n",
       "  <tbody>\n",
       "    <tr>\n",
       "      <th>0</th>\n",
       "      <td>634</td>\n",
       "      <td>0.357314</td>\n",
       "      <td>wrestling wwe profissional luta evento championship world lutador livre nome pay per view the raw lutadores smackdown atualmente programa produzido ringue nxt trabalha campeao total ocorreu estadu...</td>\n",
       "    </tr>\n",
       "    <tr>\n",
       "      <th>1</th>\n",
       "      <td>2071</td>\n",
       "      <td>1.167188</td>\n",
       "      <td>the of serie filme and americano norte anos filmes estadunidense ator televisao in s lancado banda livro dirigido nasceu americana personagem historia nome seriado atriz papel estados john album u...</td>\n",
       "    </tr>\n",
       "    <tr>\n",
       "      <th>2</th>\n",
       "      <td>979</td>\n",
       "      <td>0.551751</td>\n",
       "      <td>palacio palazzo via seculo construido localizado roma edificio di familia villa rione residencia cidade situado piazza del casa della nome dei sede real florenca construcao antigo centro san duran...</td>\n",
       "    </tr>\n",
       "    <tr>\n",
       "      <th>3</th>\n",
       "      <td>132</td>\n",
       "      <td>0.074393</td>\n",
       "      <td>aldeia quilometros nagar distrito shaheed bhagat singh punjab india capital chandigarh sarpanch representante eleito total casas populacao administrada acordo distancia sede localizada censos elem...</td>\n",
       "    </tr>\n",
       "    <tr>\n",
       "      <th>4</th>\n",
       "      <td>1446</td>\n",
       "      <td>0.814946</td>\n",
       "      <td>programa exibido televisao brasileiro show rede apresentado tv temporada estreou brasil anos dia globo produzido canal h reality apresentador ar transmitido sbt programas sendo brasileira emissora...</td>\n",
       "    </tr>\n",
       "  </tbody>\n",
       "</table>\n",
       "</div>"
      ],
      "text/plain": [
       "   qtdade   percent  \\\n",
       "0     634  0.357314   \n",
       "1    2071  1.167188   \n",
       "2     979  0.551751   \n",
       "3     132  0.074393   \n",
       "4    1446  0.814946   \n",
       "\n",
       "                                                                                                                                                                                                  topWords  \n",
       "0  wrestling wwe profissional luta evento championship world lutador livre nome pay per view the raw lutadores smackdown atualmente programa produzido ringue nxt trabalha campeao total ocorreu estadu...  \n",
       "1  the of serie filme and americano norte anos filmes estadunidense ator televisao in s lancado banda livro dirigido nasceu americana personagem historia nome seriado atriz papel estados john album u...  \n",
       "2  palacio palazzo via seculo construido localizado roma edificio di familia villa rione residencia cidade situado piazza del casa della nome dei sede real florenca construcao antigo centro san duran...  \n",
       "3  aldeia quilometros nagar distrito shaheed bhagat singh punjab india capital chandigarh sarpanch representante eleito total casas populacao administrada acordo distancia sede localizada censos elem...  \n",
       "4  programa exibido televisao brasileiro show rede apresentado tv temporada estreou brasil anos dia globo produzido canal h reality apresentador ar transmitido sbt programas sendo brasileira emissora...  "
      ]
     },
     "execution_count": 206,
     "metadata": {},
     "output_type": "execute_result"
    }
   ],
   "source": [
    "clusters.columns = ['qtdade', 'percent', 'topWords']\n",
    "clusters.head()"
   ]
  },
  {
   "cell_type": "code",
   "execution_count": null,
   "metadata": {},
   "outputs": [],
   "source": [
    "clusters.to_csv"
   ]
  },
  {
   "cell_type": "markdown",
   "metadata": {},
   "source": [
    "#### Analise dos Clusters (um a um)\n",
    "repeti as linhas abaixo dezenas de vezes para avaliar a linha de corte e depois setar quais as linhas que seriam apagadas\n",
    "\n",
    "tentei criar um racional para cada cluster, fiz essas anotações no excel"
   ]
  },
  {
   "cell_type": "code",
   "execution_count": 1537,
   "metadata": {
    "scrolled": false
   },
   "outputs": [
    {
     "data": {
      "text/html": [
       "<div>\n",
       "<style scoped>\n",
       "    .dataframe tbody tr th:only-of-type {\n",
       "        vertical-align: middle;\n",
       "    }\n",
       "\n",
       "    .dataframe tbody tr th {\n",
       "        vertical-align: top;\n",
       "    }\n",
       "\n",
       "    .dataframe thead th {\n",
       "        text-align: right;\n",
       "    }\n",
       "</style>\n",
       "<table border=\"1\" class=\"dataframe\">\n",
       "  <thead>\n",
       "    <tr style=\"text-align: right;\">\n",
       "      <th></th>\n",
       "      <th>size</th>\n",
       "      <th>filename</th>\n",
       "      <th>firstLine</th>\n",
       "    </tr>\n",
       "  </thead>\n",
       "  <tbody>\n",
       "    <tr>\n",
       "      <th>71570</th>\n",
       "      <td>2621</td>\n",
       "      <td>Simonides_de_Ceos_53895.txt</td>\n",
       "      <td>Segundo o geógrafo Pausânias, Simônides passou um tempo na corte de Hierão, tirano de Siracusa.\\n\\nO professor de retórica romano Quintiliano comenta que Simónides foi a primeira pessoa a descobri...</td>\n",
       "    </tr>\n",
       "    <tr>\n",
       "      <th>9501</th>\n",
       "      <td>2193</td>\n",
       "      <td>Panthera_pardus_pardus_166260.txt</td>\n",
       "      <td>Leopardo-africano é uma subespécie de leopardo nativa do continente africano. É distribuída por várias partes da África subsaariana, porém sua distribuição original vem sendo fragmentada devido a ...</td>\n",
       "    </tr>\n",
       "    <tr>\n",
       "      <th>173334</th>\n",
       "      <td>15665</td>\n",
       "      <td>John_Michell_47042.txt</td>\n",
       "      <td>John Michell  foi um inglês filósofo naturalista, clérigo e geólogo que trabalhou muitos temas e forneceu intuições pioneiras em uma ampla gama de campos científicos, da astronomia à geologia, ópt...</td>\n",
       "    </tr>\n",
       "    <tr>\n",
       "      <th>61632</th>\n",
       "      <td>5917</td>\n",
       "      <td>Beleza_27492.txt</td>\n",
       "      <td>Beleza é uma característica de uma pessoa, animal, lugar, objeto ou ideia que oferece uma experiência perceptual de prazer ou satisfação. É a qualidade do que é belo.\\n\\nA experiência de beleza, m...</td>\n",
       "    </tr>\n",
       "    <tr>\n",
       "      <th>1110</th>\n",
       "      <td>3549</td>\n",
       "      <td>Tulio_Hostilio_21847.txt</td>\n",
       "      <td>Túlio Hostílio, em latim Tullus Hostilius, foi o terceiro dos reis lendários de Roma, pertencente à gente Hostília, compreendida entre as cem gentes descritas por Tito Lívio. Foi o sucessor de Num...</td>\n",
       "    </tr>\n",
       "    <tr>\n",
       "      <th>25829</th>\n",
       "      <td>3830</td>\n",
       "      <td>Interpretacao_de_contrato_173825.txt</td>\n",
       "      <td>Interpretação de contratos é a atividade que consiste em construir e analisar os elementos objetivos e subjetivos que constituem todas as espécies de contrato. É dividida em interpretação objetiva...</td>\n",
       "    </tr>\n",
       "    <tr>\n",
       "      <th>58574</th>\n",
       "      <td>8041</td>\n",
       "      <td>Gato_preto_95760.txt</td>\n",
       "      <td>Um gato preto ou gato negro, é um gato doméstico com melanismo, o que lhe confere a coloração escura de sua pelagem. Devido a mitos propagados na era medieval, propagou-se a crendice de que gatos ...</td>\n",
       "    </tr>\n",
       "    <tr>\n",
       "      <th>50390</th>\n",
       "      <td>37040</td>\n",
       "      <td>Escravidao_na_Europa_Medieval_165639.txt</td>\n",
       "      <td>A escravidão tinha praticamente acabado na Europa ocidental por volta do ano 1000, substituída pela servidão. Ela permaneceu por mais tempo na Inglaterra e em áreas ligadas ao mundo Muçulmano, ond...</td>\n",
       "    </tr>\n",
       "    <tr>\n",
       "      <th>60981</th>\n",
       "      <td>3317</td>\n",
       "      <td>Orquestra_Sinfonica_de_Pittsburgh_100541.txt</td>\n",
       "      <td>A Orquestra Sinfônica de Pittsburgh  é uma orquestra sinfônica americana baseada no Heinz Hall, no Distrito Cultural de Pittsburgh, Pensilvânia.\\nA orquestra foi fundada em 1895, pela Sociedade de...</td>\n",
       "    </tr>\n",
       "    <tr>\n",
       "      <th>144470</th>\n",
       "      <td>4919</td>\n",
       "      <td>Cartao_de_cidadao_58661.txt</td>\n",
       "      <td>O Cartão de Cidadão  é o documento de identificação dos cidadãos portugueses, sem limite mínimo de idade. Este foi desenvolvido durante o governo de José Sócrates e começou a ser emitido em 2008. ...</td>\n",
       "    </tr>\n",
       "    <tr>\n",
       "      <th>166813</th>\n",
       "      <td>5636</td>\n",
       "      <td>Cidadania_multipla_38832.txt</td>\n",
       "      <td>Cidadania múltipla é um statu no qual um indivíduo é titular da nacionalidade de dois ou mais Estados nacionais, concomitantemente. A situação mais comum é a da dupla cidadania, i.e., um cidadão q...</td>\n",
       "    </tr>\n",
       "    <tr>\n",
       "      <th>93187</th>\n",
       "      <td>3081</td>\n",
       "      <td>Teletrofone_141737.txt</td>\n",
       "      <td>Teletrofone  ou telégrafo falante é um aparelho criado em 1856 que pode ser considerado o precursor do telefone atual.\\n\\nEnquanto pesquisava os efeitos das descargas elétricas no corpo humano, o ...</td>\n",
       "    </tr>\n",
       "    <tr>\n",
       "      <th>78026</th>\n",
       "      <td>3566</td>\n",
       "      <td>Liberdade_positiva_136106.txt</td>\n",
       "      <td>Liberdade positiva é definida como ter o poder e os recursos para cumprir suas próprias potencialidades e para controlar e determinar suas próprias ações e destino. É a noção de liberdade como aut...</td>\n",
       "    </tr>\n",
       "    <tr>\n",
       "      <th>143431</th>\n",
       "      <td>4427</td>\n",
       "      <td>Arvore_de_Porfirio_195893.txt</td>\n",
       "      <td>A Árvore do Porfírio é um dispositivo clássico para ilustrar o que também é chamado de escala de ser. Foi sugerida - se não primeiro, então mais famosamente na tradição filosófica europeia - pelo ...</td>\n",
       "    </tr>\n",
       "    <tr>\n",
       "      <th>102156</th>\n",
       "      <td>17824</td>\n",
       "      <td>Disputa_comercial_pelo_gas_natural_entre_Russia_e_Ucrania_30908.txt</td>\n",
       "      <td>A disputa pelo gás entre a Rússia e a Ucrânia teve início em março de 2005, quando a Rússia começou a mudar radicalmente os preços para o gás natural vendido na Ucrânia. Os dois países não foram c...</td>\n",
       "    </tr>\n",
       "  </tbody>\n",
       "</table>\n",
       "</div>"
      ],
      "text/plain": [
       "         size  \\\n",
       "71570    2621   \n",
       "9501     2193   \n",
       "173334  15665   \n",
       "61632    5917   \n",
       "1110     3549   \n",
       "25829    3830   \n",
       "58574    8041   \n",
       "50390   37040   \n",
       "60981    3317   \n",
       "144470   4919   \n",
       "166813   5636   \n",
       "93187    3081   \n",
       "78026    3566   \n",
       "143431   4427   \n",
       "102156  17824   \n",
       "\n",
       "                                                                   filename  \\\n",
       "71570                                           Simonides_de_Ceos_53895.txt   \n",
       "9501                                      Panthera_pardus_pardus_166260.txt   \n",
       "173334                                               John_Michell_47042.txt   \n",
       "61632                                                      Beleza_27492.txt   \n",
       "1110                                               Tulio_Hostilio_21847.txt   \n",
       "25829                                  Interpretacao_de_contrato_173825.txt   \n",
       "58574                                                  Gato_preto_95760.txt   \n",
       "50390                              Escravidao_na_Europa_Medieval_165639.txt   \n",
       "60981                          Orquestra_Sinfonica_de_Pittsburgh_100541.txt   \n",
       "144470                                          Cartao_de_cidadao_58661.txt   \n",
       "166813                                         Cidadania_multipla_38832.txt   \n",
       "93187                                                Teletrofone_141737.txt   \n",
       "78026                                         Liberdade_positiva_136106.txt   \n",
       "143431                                        Arvore_de_Porfirio_195893.txt   \n",
       "102156  Disputa_comercial_pelo_gas_natural_entre_Russia_e_Ucrania_30908.txt   \n",
       "\n",
       "                                                                                                                                                                                                      firstLine  \n",
       "71570   Segundo o geógrafo Pausânias, Simônides passou um tempo na corte de Hierão, tirano de Siracusa.\\n\\nO professor de retórica romano Quintiliano comenta que Simónides foi a primeira pessoa a descobri...  \n",
       "9501    Leopardo-africano é uma subespécie de leopardo nativa do continente africano. É distribuída por várias partes da África subsaariana, porém sua distribuição original vem sendo fragmentada devido a ...  \n",
       "173334  John Michell  foi um inglês filósofo naturalista, clérigo e geólogo que trabalhou muitos temas e forneceu intuições pioneiras em uma ampla gama de campos científicos, da astronomia à geologia, ópt...  \n",
       "61632   Beleza é uma característica de uma pessoa, animal, lugar, objeto ou ideia que oferece uma experiência perceptual de prazer ou satisfação. É a qualidade do que é belo.\\n\\nA experiência de beleza, m...  \n",
       "1110    Túlio Hostílio, em latim Tullus Hostilius, foi o terceiro dos reis lendários de Roma, pertencente à gente Hostília, compreendida entre as cem gentes descritas por Tito Lívio. Foi o sucessor de Num...  \n",
       "25829   Interpretação de contratos é a atividade que consiste em construir e analisar os elementos objetivos e subjetivos que constituem todas as espécies de contrato. É dividida em interpretação objetiva...  \n",
       "58574   Um gato preto ou gato negro, é um gato doméstico com melanismo, o que lhe confere a coloração escura de sua pelagem. Devido a mitos propagados na era medieval, propagou-se a crendice de que gatos ...  \n",
       "50390   A escravidão tinha praticamente acabado na Europa ocidental por volta do ano 1000, substituída pela servidão. Ela permaneceu por mais tempo na Inglaterra e em áreas ligadas ao mundo Muçulmano, ond...  \n",
       "60981   A Orquestra Sinfônica de Pittsburgh  é uma orquestra sinfônica americana baseada no Heinz Hall, no Distrito Cultural de Pittsburgh, Pensilvânia.\\nA orquestra foi fundada em 1895, pela Sociedade de...  \n",
       "144470  O Cartão de Cidadão  é o documento de identificação dos cidadãos portugueses, sem limite mínimo de idade. Este foi desenvolvido durante o governo de José Sócrates e começou a ser emitido em 2008. ...  \n",
       "166813  Cidadania múltipla é um statu no qual um indivíduo é titular da nacionalidade de dois ou mais Estados nacionais, concomitantemente. A situação mais comum é a da dupla cidadania, i.e., um cidadão q...  \n",
       "93187   Teletrofone  ou telégrafo falante é um aparelho criado em 1856 que pode ser considerado o precursor do telefone atual.\\n\\nEnquanto pesquisava os efeitos das descargas elétricas no corpo humano, o ...  \n",
       "78026   Liberdade positiva é definida como ter o poder e os recursos para cumprir suas próprias potencialidades e para controlar e determinar suas próprias ações e destino. É a noção de liberdade como aut...  \n",
       "143431  A Árvore do Porfírio é um dispositivo clássico para ilustrar o que também é chamado de escala de ser. Foi sugerida - se não primeiro, então mais famosamente na tradição filosófica europeia - pelo ...  \n",
       "102156  A disputa pelo gás entre a Rússia e a Ucrânia teve início em março de 2005, quando a Rússia começou a mudar radicalmente os preços para o gás natural vendido na Ucrânia. Os dois países não foram c...  "
      ]
     },
     "execution_count": 1537,
     "metadata": {},
     "output_type": "execute_result"
    }
   ],
   "source": [
    "c = 79\n",
    "df[df.label==c][['size','filename', 'firstLine']].sample(15)"
   ]
  },
  {
   "cell_type": "code",
   "execution_count": 1548,
   "metadata": {
    "scrolled": false
   },
   "outputs": [
    {
     "data": {
      "text/plain": [
       "2208.0"
      ]
     },
     "execution_count": 1548,
     "metadata": {},
     "output_type": "execute_result"
    }
   ],
   "source": [
    "df[df.label==c][['size']].describe()\n",
    "df[df.label==c]['size'].quantile(0.1)\n",
    "# df[(df.label==c) & (df['size'] > 50000)][['size','filename', 'firstLine']].sample(10)\n",
    "# df[(df.label==c) & (df['flClean'].str.contains('filme'))][['size', 'filename', 'firstLine']].sample(10)\n",
    "# df[(df.label==c) & ((df['filename'].str.contains('Feminin')) | (df['size'] > 3000))]\\\n",
    "# [['size','filename', 'firstLine']]"
   ]
  },
  {
   "cell_type": "code",
   "execution_count": 1406,
   "metadata": {},
   "outputs": [
    {
     "data": {
      "text/plain": [
       "(689, 3)"
      ]
     },
     "execution_count": 1406,
     "metadata": {},
     "output_type": "execute_result"
    }
   ],
   "source": [
    "df[(df.label==c) & ( (df['flClean'].str.contains('piloto') == False) &\\\n",
    "((df['flClean'].str.contains('futebol') == False) ))]\\\n",
    "[['size', 'filename', 'firstLine']].shape"
   ]
  },
  {
   "cell_type": "code",
   "execution_count": 1124,
   "metadata": {},
   "outputs": [
    {
     "data": {
      "text/plain": [
       "(409, 3)"
      ]
     },
     "execution_count": 1124,
     "metadata": {},
     "output_type": "execute_result"
    }
   ],
   "source": [
    "df[(df.label==c) & (((df['size'] > 5000) & df['flClean'].str.contains('teatro')) | (df['size'] > 20000) |\\\n",
    "((df['filename'].str.contains('Teatro') & df['size'] > 2000)))]\\\n",
    "[['size', 'filename', 'firstLine']].shape"
   ]
  },
  {
   "cell_type": "code",
   "execution_count": null,
   "metadata": {},
   "outputs": [],
   "source": [
    "df[(df.label==c) & ((df['flClean'].str.contains('nasa') == False) |\\\n",
    "((df['flClean'].str.contains('nasa')) & (df['size'] > 6000)))]\\\n",
    "[['size', 'filename', 'firstLine']].shape"
   ]
  },
  {
   "cell_type": "code",
   "execution_count": 1552,
   "metadata": {},
   "outputs": [
    {
     "data": {
      "text/plain": [
       "(9809, 3)"
      ]
     },
     "execution_count": 1552,
     "metadata": {},
     "output_type": "execute_result"
    }
   ],
   "source": [
    "df[(df.label==c) & ((df['flClean'].str.contains('ator') == False) &\\\n",
    "(df['flClean'].str.contains('filme') == False) &\\\n",
    "(df['flClean'].str.contains('serie') == False) &\\\n",
    "(df['flClean'].str.contains('personagem') == False) &\\\n",
    "(df['flClean'].str.contains('atriz') == False) &\\\n",
    "(df['flClean'].str.contains('jogo') == False))]\\\n",
    "[['size', 'filename', 'firstLine']].shape"
   ]
  },
  {
   "cell_type": "markdown",
   "metadata": {},
   "source": [
    "Como cluster 66 era muito grande, ainda fiz um novo cluster"
   ]
  },
  {
   "cell_type": "code",
   "execution_count": 1158,
   "metadata": {},
   "outputs": [
    {
     "data": {
      "text/plain": [
       "32575"
      ]
     },
     "execution_count": 1158,
     "metadata": {},
     "output_type": "execute_result"
    }
   ],
   "source": [
    "len(df[df['label'] == 66].flClean.tolist())"
   ]
  },
  {
   "cell_type": "code",
   "execution_count": 1159,
   "metadata": {},
   "outputs": [
    {
     "name": "stdout",
     "output_type": "stream",
     "text": [
      "CPU times: user 1.05 s, sys: 44 µs, total: 1.05 s\n",
      "Wall time: 1.06 s\n"
     ]
    }
   ],
   "source": [
    "%%time\n",
    "tfidf_c66 = tfidf_vectorizer.fit_transform(df[df['label'] == 66].flClean.tolist())"
   ]
  },
  {
   "cell_type": "code",
   "execution_count": 1160,
   "metadata": {},
   "outputs": [
    {
     "name": "stdout",
     "output_type": "stream",
     "text": [
      "CPU times: user 13min 12s, sys: 6.34 s, total: 13min 18s\n",
      "Wall time: 7min 36s\n"
     ]
    }
   ],
   "source": [
    "%%time\n",
    "kmeans_c66 = KMeans(n_clusters=20).fit(tfidf_c66)"
   ]
  },
  {
   "cell_type": "code",
   "execution_count": 1164,
   "metadata": {},
   "outputs": [
    {
     "data": {
      "image/png": "[encoded data removed]",
      "text/plain": [
       "<Figure size 432x288 with 1 Axes>"
      ]
     },
     "metadata": {
      "needs_background": "light"
     },
     "output_type": "display_data"
    },
    {
     "name": "stdout",
     "output_type": "stream",
     "text": [
      "CPU times: user 2h 21min 59s, sys: 1min 10s, total: 2h 23min 9s\n",
      "Wall time: 1h 18min 59s\n"
     ]
    }
   ],
   "source": [
    "%%time\n",
    "ks = range(10, 30, 2)\n",
    "inertias = []\n",
    "\n",
    "for k in ks:\n",
    "\n",
    "    # Create a KMeans instance with k clusters: model\n",
    "    km = KMeans(n_clusters=k).fit(tfidf_c66)\n",
    "\n",
    "    # Append the inertia to the list of inertias\n",
    "    inertias.append(km.inertia_)\n",
    "    \n",
    "# Plot ks vs inertias\n",
    "plt.plot(ks, inertias, '-o')\n",
    "plt.xlabel('number of clusters, k')\n",
    "plt.ylabel('inertia')\n",
    "plt.xticks(ks)\n",
    "plt.show()"
   ]
  },
  {
   "cell_type": "code",
   "execution_count": 1165,
   "metadata": {},
   "outputs": [],
   "source": [
    "l_c66 = km.predict(tfidf_c66)"
   ]
  },
  {
   "cell_type": "code",
   "execution_count": 1167,
   "metadata": {},
   "outputs": [
    {
     "data": {
      "text/plain": [
       "32575"
      ]
     },
     "execution_count": 1167,
     "metadata": {},
     "output_type": "execute_result"
    }
   ],
   "source": [
    "len(l_c66)"
   ]
  },
  {
   "cell_type": "code",
   "execution_count": 1214,
   "metadata": {},
   "outputs": [
    {
     "data": {
      "text/html": [
       "<div>\n",
       "<style scoped>\n",
       "    .dataframe tbody tr th:only-of-type {\n",
       "        vertical-align: middle;\n",
       "    }\n",
       "\n",
       "    .dataframe tbody tr th {\n",
       "        vertical-align: top;\n",
       "    }\n",
       "\n",
       "    .dataframe thead th {\n",
       "        text-align: right;\n",
       "    }\n",
       "</style>\n",
       "<table border=\"1\" class=\"dataframe\">\n",
       "  <thead>\n",
       "    <tr style=\"text-align: right;\">\n",
       "      <th></th>\n",
       "      <th>qtdade</th>\n",
       "      <th>percent</th>\n",
       "    </tr>\n",
       "    <tr>\n",
       "      <th>cluster</th>\n",
       "      <th></th>\n",
       "      <th></th>\n",
       "    </tr>\n",
       "  </thead>\n",
       "  <tbody>\n",
       "    <tr>\n",
       "      <th>0</th>\n",
       "      <td>1651</td>\n",
       "      <td>0.050683</td>\n",
       "    </tr>\n",
       "    <tr>\n",
       "      <th>1</th>\n",
       "      <td>949</td>\n",
       "      <td>0.029133</td>\n",
       "    </tr>\n",
       "    <tr>\n",
       "      <th>2</th>\n",
       "      <td>137</td>\n",
       "      <td>0.004206</td>\n",
       "    </tr>\n",
       "    <tr>\n",
       "      <th>3</th>\n",
       "      <td>344</td>\n",
       "      <td>0.010560</td>\n",
       "    </tr>\n",
       "    <tr>\n",
       "      <th>4</th>\n",
       "      <td>265</td>\n",
       "      <td>0.008135</td>\n",
       "    </tr>\n",
       "    <tr>\n",
       "      <th>5</th>\n",
       "      <td>124</td>\n",
       "      <td>0.003807</td>\n",
       "    </tr>\n",
       "    <tr>\n",
       "      <th>6</th>\n",
       "      <td>1177</td>\n",
       "      <td>0.036132</td>\n",
       "    </tr>\n",
       "    <tr>\n",
       "      <th>7</th>\n",
       "      <td>1464</td>\n",
       "      <td>0.044942</td>\n",
       "    </tr>\n",
       "    <tr>\n",
       "      <th>8</th>\n",
       "      <td>897</td>\n",
       "      <td>0.027536</td>\n",
       "    </tr>\n",
       "    <tr>\n",
       "      <th>9</th>\n",
       "      <td>11102</td>\n",
       "      <td>0.340814</td>\n",
       "    </tr>\n",
       "    <tr>\n",
       "      <th>10</th>\n",
       "      <td>390</td>\n",
       "      <td>0.011972</td>\n",
       "    </tr>\n",
       "    <tr>\n",
       "      <th>11</th>\n",
       "      <td>622</td>\n",
       "      <td>0.019094</td>\n",
       "    </tr>\n",
       "    <tr>\n",
       "      <th>12</th>\n",
       "      <td>2839</td>\n",
       "      <td>0.087153</td>\n",
       "    </tr>\n",
       "    <tr>\n",
       "      <th>13</th>\n",
       "      <td>1739</td>\n",
       "      <td>0.053384</td>\n",
       "    </tr>\n",
       "    <tr>\n",
       "      <th>14</th>\n",
       "      <td>432</td>\n",
       "      <td>0.013262</td>\n",
       "    </tr>\n",
       "    <tr>\n",
       "      <th>15</th>\n",
       "      <td>901</td>\n",
       "      <td>0.027659</td>\n",
       "    </tr>\n",
       "    <tr>\n",
       "      <th>16</th>\n",
       "      <td>374</td>\n",
       "      <td>0.011481</td>\n",
       "    </tr>\n",
       "    <tr>\n",
       "      <th>17</th>\n",
       "      <td>975</td>\n",
       "      <td>0.029931</td>\n",
       "    </tr>\n",
       "    <tr>\n",
       "      <th>18</th>\n",
       "      <td>239</td>\n",
       "      <td>0.007337</td>\n",
       "    </tr>\n",
       "    <tr>\n",
       "      <th>19</th>\n",
       "      <td>960</td>\n",
       "      <td>0.029470</td>\n",
       "    </tr>\n",
       "    <tr>\n",
       "      <th>20</th>\n",
       "      <td>670</td>\n",
       "      <td>0.020568</td>\n",
       "    </tr>\n",
       "    <tr>\n",
       "      <th>21</th>\n",
       "      <td>423</td>\n",
       "      <td>0.012985</td>\n",
       "    </tr>\n",
       "    <tr>\n",
       "      <th>22</th>\n",
       "      <td>600</td>\n",
       "      <td>0.018419</td>\n",
       "    </tr>\n",
       "    <tr>\n",
       "      <th>23</th>\n",
       "      <td>1348</td>\n",
       "      <td>0.041381</td>\n",
       "    </tr>\n",
       "    <tr>\n",
       "      <th>24</th>\n",
       "      <td>247</td>\n",
       "      <td>0.007583</td>\n",
       "    </tr>\n",
       "    <tr>\n",
       "      <th>25</th>\n",
       "      <td>878</td>\n",
       "      <td>0.026953</td>\n",
       "    </tr>\n",
       "    <tr>\n",
       "      <th>26</th>\n",
       "      <td>615</td>\n",
       "      <td>0.018880</td>\n",
       "    </tr>\n",
       "    <tr>\n",
       "      <th>27</th>\n",
       "      <td>213</td>\n",
       "      <td>0.006539</td>\n",
       "    </tr>\n",
       "  </tbody>\n",
       "</table>\n",
       "</div>"
      ],
      "text/plain": [
       "         qtdade   percent\n",
       "cluster                  \n",
       "0          1651  0.050683\n",
       "1           949  0.029133\n",
       "2           137  0.004206\n",
       "3           344  0.010560\n",
       "4           265  0.008135\n",
       "5           124  0.003807\n",
       "6          1177  0.036132\n",
       "7          1464  0.044942\n",
       "8           897  0.027536\n",
       "9         11102  0.340814\n",
       "10          390  0.011972\n",
       "11          622  0.019094\n",
       "12         2839  0.087153\n",
       "13         1739  0.053384\n",
       "14          432  0.013262\n",
       "15          901  0.027659\n",
       "16          374  0.011481\n",
       "17          975  0.029931\n",
       "18          239  0.007337\n",
       "19          960  0.029470\n",
       "20          670  0.020568\n",
       "21          423  0.012985\n",
       "22          600  0.018419\n",
       "23         1348  0.041381\n",
       "24          247  0.007583\n",
       "25          878  0.026953\n",
       "26          615  0.018880\n",
       "27          213  0.006539"
      ]
     },
     "execution_count": 1214,
     "metadata": {},
     "output_type": "execute_result"
    }
   ],
   "source": [
    "ll_c66 = pd.DataFrame(l_c66)\n",
    "cc_c66 = pd.concat([ll_c66.groupby(0).size(), ll_c66.groupby(0).size().agg(lambda x: x / len(ll_c66))], axis=1)\n",
    "cc_c66.columns = ['qtdade', 'percent']\n",
    "cc_c66.index.name = 'cluster'\n",
    "cc_c66"
   ]
  },
  {
   "cell_type": "code",
   "execution_count": 1174,
   "metadata": {},
   "outputs": [],
   "source": [
    "new_label = l_c66 + 70"
   ]
  },
  {
   "cell_type": "code",
   "execution_count": 1177,
   "metadata": {},
   "outputs": [
    {
     "data": {
      "text/plain": [
       "array([73, 79, 90, 82, ..., 90, 70, 81, 79], dtype=int32)"
      ]
     },
     "execution_count": 1177,
     "metadata": {},
     "output_type": "execute_result"
    }
   ],
   "source": [
    "new_label"
   ]
  },
  {
   "cell_type": "code",
   "execution_count": 1184,
   "metadata": {},
   "outputs": [],
   "source": [
    "df.loc[df['label'] == 66, 'label'] = new_label"
   ]
  },
  {
   "cell_type": "code",
   "execution_count": 1225,
   "metadata": {},
   "outputs": [
    {
     "data": {
      "text/html": [
       "<div>\n",
       "<style scoped>\n",
       "    .dataframe tbody tr th:only-of-type {\n",
       "        vertical-align: middle;\n",
       "    }\n",
       "\n",
       "    .dataframe tbody tr th {\n",
       "        vertical-align: top;\n",
       "    }\n",
       "\n",
       "    .dataframe thead th {\n",
       "        text-align: right;\n",
       "    }\n",
       "</style>\n",
       "<table border=\"1\" class=\"dataframe\">\n",
       "  <thead>\n",
       "    <tr style=\"text-align: right;\">\n",
       "      <th></th>\n",
       "      <th>filename</th>\n",
       "      <th>size</th>\n",
       "      <th>firstLine</th>\n",
       "      <th>flClean</th>\n",
       "      <th>label</th>\n",
       "    </tr>\n",
       "  </thead>\n",
       "  <tbody>\n",
       "  </tbody>\n",
       "</table>\n",
       "</div>"
      ],
      "text/plain": [
       "Empty DataFrame\n",
       "Columns: [filename, size, firstLine, flClean, label]\n",
       "Index: []"
      ]
     },
     "execution_count": 1225,
     "metadata": {},
     "output_type": "execute_result"
    }
   ],
   "source": [
    "df[df['label'] == 66].head()"
   ]
  },
  {
   "cell_type": "code",
   "execution_count": 1218,
   "metadata": {},
   "outputs": [],
   "source": [
    "cc_c66.reset_index(inplace=True)"
   ]
  },
  {
   "cell_type": "code",
   "execution_count": 1216,
   "metadata": {},
   "outputs": [
    {
     "data": {
      "text/html": [
       "<div>\n",
       "<style scoped>\n",
       "    .dataframe tbody tr th:only-of-type {\n",
       "        vertical-align: middle;\n",
       "    }\n",
       "\n",
       "    .dataframe tbody tr th {\n",
       "        vertical-align: top;\n",
       "    }\n",
       "\n",
       "    .dataframe thead th {\n",
       "        text-align: right;\n",
       "    }\n",
       "</style>\n",
       "<table border=\"1\" class=\"dataframe\">\n",
       "  <thead>\n",
       "    <tr style=\"text-align: right;\">\n",
       "      <th></th>\n",
       "      <th>cluster</th>\n",
       "      <th>qtdade</th>\n",
       "      <th>percent</th>\n",
       "    </tr>\n",
       "  </thead>\n",
       "  <tbody>\n",
       "    <tr>\n",
       "      <th>0</th>\n",
       "      <td>70</td>\n",
       "      <td>1651</td>\n",
       "      <td>0.050683</td>\n",
       "    </tr>\n",
       "    <tr>\n",
       "      <th>1</th>\n",
       "      <td>71</td>\n",
       "      <td>949</td>\n",
       "      <td>0.029133</td>\n",
       "    </tr>\n",
       "    <tr>\n",
       "      <th>2</th>\n",
       "      <td>72</td>\n",
       "      <td>137</td>\n",
       "      <td>0.004206</td>\n",
       "    </tr>\n",
       "    <tr>\n",
       "      <th>3</th>\n",
       "      <td>73</td>\n",
       "      <td>344</td>\n",
       "      <td>0.010560</td>\n",
       "    </tr>\n",
       "    <tr>\n",
       "      <th>4</th>\n",
       "      <td>74</td>\n",
       "      <td>265</td>\n",
       "      <td>0.008135</td>\n",
       "    </tr>\n",
       "    <tr>\n",
       "      <th>5</th>\n",
       "      <td>75</td>\n",
       "      <td>124</td>\n",
       "      <td>0.003807</td>\n",
       "    </tr>\n",
       "    <tr>\n",
       "      <th>6</th>\n",
       "      <td>76</td>\n",
       "      <td>1177</td>\n",
       "      <td>0.036132</td>\n",
       "    </tr>\n",
       "    <tr>\n",
       "      <th>7</th>\n",
       "      <td>77</td>\n",
       "      <td>1464</td>\n",
       "      <td>0.044942</td>\n",
       "    </tr>\n",
       "    <tr>\n",
       "      <th>8</th>\n",
       "      <td>78</td>\n",
       "      <td>897</td>\n",
       "      <td>0.027536</td>\n",
       "    </tr>\n",
       "    <tr>\n",
       "      <th>9</th>\n",
       "      <td>79</td>\n",
       "      <td>11102</td>\n",
       "      <td>0.340814</td>\n",
       "    </tr>\n",
       "    <tr>\n",
       "      <th>10</th>\n",
       "      <td>80</td>\n",
       "      <td>390</td>\n",
       "      <td>0.011972</td>\n",
       "    </tr>\n",
       "    <tr>\n",
       "      <th>11</th>\n",
       "      <td>81</td>\n",
       "      <td>622</td>\n",
       "      <td>0.019094</td>\n",
       "    </tr>\n",
       "    <tr>\n",
       "      <th>12</th>\n",
       "      <td>82</td>\n",
       "      <td>2839</td>\n",
       "      <td>0.087153</td>\n",
       "    </tr>\n",
       "    <tr>\n",
       "      <th>13</th>\n",
       "      <td>83</td>\n",
       "      <td>1739</td>\n",
       "      <td>0.053384</td>\n",
       "    </tr>\n",
       "    <tr>\n",
       "      <th>14</th>\n",
       "      <td>84</td>\n",
       "      <td>432</td>\n",
       "      <td>0.013262</td>\n",
       "    </tr>\n",
       "    <tr>\n",
       "      <th>15</th>\n",
       "      <td>85</td>\n",
       "      <td>901</td>\n",
       "      <td>0.027659</td>\n",
       "    </tr>\n",
       "    <tr>\n",
       "      <th>16</th>\n",
       "      <td>86</td>\n",
       "      <td>374</td>\n",
       "      <td>0.011481</td>\n",
       "    </tr>\n",
       "    <tr>\n",
       "      <th>17</th>\n",
       "      <td>87</td>\n",
       "      <td>975</td>\n",
       "      <td>0.029931</td>\n",
       "    </tr>\n",
       "    <tr>\n",
       "      <th>18</th>\n",
       "      <td>88</td>\n",
       "      <td>239</td>\n",
       "      <td>0.007337</td>\n",
       "    </tr>\n",
       "    <tr>\n",
       "      <th>19</th>\n",
       "      <td>89</td>\n",
       "      <td>960</td>\n",
       "      <td>0.029470</td>\n",
       "    </tr>\n",
       "    <tr>\n",
       "      <th>20</th>\n",
       "      <td>90</td>\n",
       "      <td>670</td>\n",
       "      <td>0.020568</td>\n",
       "    </tr>\n",
       "    <tr>\n",
       "      <th>21</th>\n",
       "      <td>91</td>\n",
       "      <td>423</td>\n",
       "      <td>0.012985</td>\n",
       "    </tr>\n",
       "    <tr>\n",
       "      <th>22</th>\n",
       "      <td>92</td>\n",
       "      <td>600</td>\n",
       "      <td>0.018419</td>\n",
       "    </tr>\n",
       "    <tr>\n",
       "      <th>23</th>\n",
       "      <td>93</td>\n",
       "      <td>1348</td>\n",
       "      <td>0.041381</td>\n",
       "    </tr>\n",
       "    <tr>\n",
       "      <th>24</th>\n",
       "      <td>94</td>\n",
       "      <td>247</td>\n",
       "      <td>0.007583</td>\n",
       "    </tr>\n",
       "    <tr>\n",
       "      <th>25</th>\n",
       "      <td>95</td>\n",
       "      <td>878</td>\n",
       "      <td>0.026953</td>\n",
       "    </tr>\n",
       "    <tr>\n",
       "      <th>26</th>\n",
       "      <td>96</td>\n",
       "      <td>615</td>\n",
       "      <td>0.018880</td>\n",
       "    </tr>\n",
       "    <tr>\n",
       "      <th>27</th>\n",
       "      <td>97</td>\n",
       "      <td>213</td>\n",
       "      <td>0.006539</td>\n",
       "    </tr>\n",
       "  </tbody>\n",
       "</table>\n",
       "</div>"
      ],
      "text/plain": [
       "    cluster  qtdade   percent\n",
       "0        70    1651  0.050683\n",
       "1        71     949  0.029133\n",
       "2        72     137  0.004206\n",
       "3        73     344  0.010560\n",
       "4        74     265  0.008135\n",
       "5        75     124  0.003807\n",
       "6        76    1177  0.036132\n",
       "7        77    1464  0.044942\n",
       "8        78     897  0.027536\n",
       "9        79   11102  0.340814\n",
       "10       80     390  0.011972\n",
       "11       81     622  0.019094\n",
       "12       82    2839  0.087153\n",
       "13       83    1739  0.053384\n",
       "14       84     432  0.013262\n",
       "15       85     901  0.027659\n",
       "16       86     374  0.011481\n",
       "17       87     975  0.029931\n",
       "18       88     239  0.007337\n",
       "19       89     960  0.029470\n",
       "20       90     670  0.020568\n",
       "21       91     423  0.012985\n",
       "22       92     600  0.018419\n",
       "23       93    1348  0.041381\n",
       "24       94     247  0.007583\n",
       "25       95     878  0.026953\n",
       "26       96     615  0.018880\n",
       "27       97     213  0.006539"
      ]
     },
     "execution_count": 1216,
     "metadata": {},
     "output_type": "execute_result"
    }
   ],
   "source": [
    "cc_c66['cluster'] = cc_c66['cluster'] + 70\n",
    "cc_c66"
   ]
  },
  {
   "cell_type": "code",
   "execution_count": 1201,
   "metadata": {},
   "outputs": [
    {
     "data": {
      "text/plain": [
       "['obra revista escrita autor opera literatura obras livros escritor texto filosofia publicada vida poeta ficcao anos filosofo nome peca trabalho escrito sido editora durante cientifica ano frances poema edicao mundo premio sendo grego epoca titulo escreveu publicacao teatro atos publicado considerado historia tendo alemao seculo trabalhos contos escritos poemas brasileira',\n",
       " 'organizacao internacional nacoes paises unidas fundada desenvolvimento associacao membros mundo direitos mundial fins organizacoes lucrativos objetivo nacional politica sociedade movimento trabalho saude criada conferencia governamental humanos pais seguranca internacionais governo promover acordo principal anos convencao sede cooperacao pessoas nome durante mulheres social educacao ano instituto federacao grupos criancas fundacao uniao',\n",
       " 'templo construido dedicado localizado c templos antigo deus durante roma seculo budista cidade romano monte construcao antiga situado forum complexo provincia santuario nome dinastia salao edificio japao chamado jerusalem principal ano mundo periodo regiao estilo estrutura sido china augusto apolo deusa centro reino importante rei jupiter fundado marte ficava pura',\n",
       " 'espacial missao nasa nave soyuz voo lancamento onibus lancada sonda espaco orbita expedicao estacao sts marte programa norte apollo terra astronautas internacional foguete agencia missoes projeto astronauta dia bordo iss realizada tripulada lunar lua objetivo modulo lancado espaciais dias m planeta abril marco americano tripulacao durante exploracao veiculo espaconave centro',\n",
       " 'equipa ciclista uci tour ciclismo profissional volta etapas categoria edicao estrada competicao carreira corrida calendario world ano etapa prova team carreiras anos france espanhol equipas durante percurso continental montanha circuito ciclistica classificacao ciclistas sendo internacional comecou giro espanha italia temporada campeonato mundial portugal vitorias quilometros provas franca voltas contrarrelogio conseguiu',\n",
       " 'bandeira brasao azul simbolos cores nacional oficiais adotada branco vermelho lei cruz bandeiras armas verde desenho hino durante usada atual vermelha consiste simbolo republica municipal municipio centro superior branca largura oficialmente sendo retangulo nacionais tricolor pais escudo fundo amarelo oficial simboliza governo campo faixas criada alemanha independencia proporcao estrela oficializada',\n",
       " 'historia anos durante mundo nome conta vida sendo longo serie pais escrita antiga obra ano sido estudo cidade origem terra pre antigo seculo chamado homem epoca muitas pessoas comeca idade historiador filosofia povos belga jovem varias movimento sul humana regiao comecou trabalho norte eventos importante roma primeiros tornou estudos escola',\n",
       " 'pessoas social sociedade sexual mulheres direitos sociais trabalho economia politica pessoa movimento vida pais sexo psicologia saude mundo genero anos lei desenvolvimento sendo comportamento grupos conceito homens relacoes refere individuos economica objetivo humanos diferentes atividade politico muitas individuo estudo governo paises economico violencia conjunto mercado durante servicos politicas sexuais atividades',\n",
       " 'dia ano festival evento anos durante festa dias calendario edicao maio cidade junho dezembro abril feira fevereiro realizada pais outubro janeiro pessoas mundo sendo anualmente marco realizado setembro nome noite data julho agosto internacional ocorre sol portugal nacional semana ocorreu novembro lua terra sido horas casa paises cerca feriado seguinte',\n",
       " 'nome anos durante sendo mundo pais norte cidade sido origem chamado ano acordo paises vida governo regiao varias s muitas movimento trabalho familia cerca decada base diferentes tornou principal americano uso devido sul conjunto pessoas considerado comecou possui chamada europa principais palavra principalmente antiga significa tendo membros c atualmente terra',\n",
       " 'uniao sovietica europeia paises russia sovietico membros tratado europeu republica pais politica anos governo russo durante socialista nome estados urss acordo ue europa republicas pacto economica stalin comunista economia regiao russa desenvolvimento relacoes historia dezembro sovieticos portugal sido nacional sendo junho sovieticas euro comunidade periodo moscou antiga membro varias principal',\n",
       " 'republica china relacoes popular paises governo macau durante hong kong pais russia democratica chines politica revolucao chinesa diplomaticas anos dinastia embaixada regiao independencia constituicao nome nacional nacoes sido servia norte estabelecidas cidade uniao congo guerra lei india mundo sendo azerbaijao reino japao coreia franca referem historia abril territorio sul especial',\n",
       " 'portugal paulo brasileiro cidade nacional porto anos brasileira municipio federal nome santa distrito jornal sendo vila lei ano centro concelho municipal publico escola portuguesa governo rio freguesia tendo lisboa publica fundada regiao sede durante senhora casa localizada criada instituto rede atualmente administracao janeiro pais ministerio rua localizado fundacao minas samba',\n",
       " 'seculo xix xx durante nome xviii xvi origem sido c xvii portugal movimento sendo metade meados anos historia europa cidade epoca xv antiga mundo regiao pais primeiros antigo tornou vida estilo considerado periodo tendo seculos d hoje uso xiii franca casa volta portuguesa arquitetura norte varias paises obras xiv frances',\n",
       " 'religiao israel judeus religioes baha i cristianismo judaismo fe religiosa nome durante pais mundo historia religioso deus acordo populacao movimento jerusalem crista religiosas crencas sendo muculmanos vida antiga terra anos culto biblia cristaos sido judaica seculo principais islamismo pessoas origem judeu praticas cerca varias tradicao tradicoes povos liberdade antigo ciencia',\n",
       " 'navio edificio metros construido ponte construcao torre localizado cidade construida altura hotel mesquita mundo classe catedral nome sendo villa centro mar m monumento marinha rms line antiga localizada estrutura norte titanic lancado complexo casa durante sms embarcacao situado passageiros navios comecou arquiteto anos ano operado viagem estilo rio sido situada',\n",
       " 'papa bispo cardeais conclave morte roma constantinopla concilio cardeal eleicao gregorio ii joao durante paulo papal arcebispo nome pio patriarca bento vaticano i santo seculo colegio sido v anos clemente tornou eleito vi diocese iv santa ano xvi cidade pontificado vida inocencio iii xiii xi franca x italiano sendo morreu',\n",
       " 'mundial campeao equipe anos campeonato profissional futebol temporada torneio rugby ano jogador venceu titulo jogadores tenis piloto ranking esporte carreira mundo comecou brasileiro sendo titulos americano fase torneios categoria liga ex tenista equipes cidade edicao rali series nome time circuito simples voleibol historia duplas nacional melhor tendo jogo competicao atp',\n",
       " 'ibne al maome abu califa califado abassida egito arabe dinastia ibn governador nome abdala siria filho omiada durante iraque fundador morte melhor islamico sultao lider emir omar mesquita amade i governo irmao alandalus anos bagda cairo fatimida almancor hacane considerado militar tribo bin general membro iucufe islamica norte cidade cordova',\n",
       " 'aeronave motor modelo voo aerea carro aviao produzido aeronaves passageiros transporte sendo motores projeto desenvolvido versao c automovel decada producao anos veiculo forca aereo durante nome projetado fabricado companhia construido desenvolvimento modelos asa avioes v fabricante ford ar volkswagen m mundo base boeing carros automoveis comercial acidente veiculos porsche geracao',\n",
       " 'reino unido banco durante pais anos bank governo portugal fundado norte inglaterra paises nome irlanda real mundo central tratado britanico coroa londres sede seculo espanha instituicao politica tornou reinos rainha capital cidade servicos britanica regiao bancos antigo sido i sul nacional independente sendo franca parlamento imperio republica historia dinastia casa',\n",
       " 'ordem religiosa santa nome mosteiro seculo fundada vida convento cruz portugal frades membros nacional catolica cavaleiros mestre sendo d cidade publica sido santo francisco anos cristo ano tendo sociedade criada ordens joao maria durante origem abadia bento morte congregacao portuguesa ramo fundado tornou fundador templarios ciclo i membro jesus italia',\n",
       " 'cultura cultural historia culturais durante nome mundo anos seculo sociedade periodo pais politica arte c regiao origem pre patrimonio popular norte principalmente lingua sendo centro desenvolvimento movimento influencia ocidental europa cidade nacional tradicoes desenvolveu paises brasileiro idade culturas povos populacao hoje artes sul educacao social governo conjunto muitas instituto tradicao',\n",
       " 'serie personagem personagens jogos manga disney criado nome anime animacao filme anos mundo filmes lancado franquia historia sendo principal jogo ficticio pokemon game the nintendo protagonista criada chamado s universo lista durante vida walt produzido desenho versao japao star televisao estadunidense original ficticia pictures aparece series ficcao estudio seriado jogador',\n",
       " 'jesus capitulo evangelho testamento mateus lucas biblia cristo evangelhos parabola marcos joao atos aparece apostolos deus vida cristianismo crista jerusalem relato canonicos nome morte parabolas relata acordo durante episodio ressurreicao discipulos decimo paulo eventos discurso paixao milagres crucificacao evento ministerio cristaos ultima sido judas comeca pilatos dividido versiculos chamado filho',\n",
       " 'periodo durante anos historia cla nome japao epoca idade c seculo antiga cerca dinastia antigo tokugawa sendo cidade governo milhoes egito ano regiao primeiros vida decada terra aproximadamente sido pre origem europa norte mundo chamado pais longo china comecou hoje estilo tornou media provincia d seculos viveu eon revolucao pessoas',\n",
       " 'deus mitologia nome grega deuses deusa mundo filho antiga terra vida sendo divindade significa homem grego antigo natureza romana zeus palavra existencia crista ceu origem sol seres muitas religiao criacao filha durante romano nordica acordo chamado culto biblia teologia universo dia gregos religioes geralmente antigos morte divindades egito fe senhor',\n",
       " 'canal televisao canais programas programacao tv network publico rede assinatura youtube propriedade horas cabo television lancado dia cartoon anos nome noticias series outubro transmissao bbc france setembro rtp pais transmite criado comecou servico portugal satelite channel transmissoes principal mtv disponivel media norte sendo atualmente fox digital brasileiro milhoes janeiro marco']"
      ]
     },
     "execution_count": 1201,
     "metadata": {},
     "output_type": "execute_result"
    }
   ],
   "source": [
    "lista_topWords = list()\n",
    "for c in range(70, 98):\n",
    "    df.loc[df['label'] == c,]\n",
    "    lista_topWords.append(topWords(df[df.label==c]['flClean'].tolist()))\n",
    "lista_topWords"
   ]
  },
  {
   "cell_type": "code",
   "execution_count": 1219,
   "metadata": {},
   "outputs": [
    {
     "data": {
      "text/html": [
       "<div>\n",
       "<style scoped>\n",
       "    .dataframe tbody tr th:only-of-type {\n",
       "        vertical-align: middle;\n",
       "    }\n",
       "\n",
       "    .dataframe tbody tr th {\n",
       "        vertical-align: top;\n",
       "    }\n",
       "\n",
       "    .dataframe thead th {\n",
       "        text-align: right;\n",
       "    }\n",
       "</style>\n",
       "<table border=\"1\" class=\"dataframe\">\n",
       "  <thead>\n",
       "    <tr style=\"text-align: right;\">\n",
       "      <th></th>\n",
       "      <th>cluster</th>\n",
       "      <th>qtdade</th>\n",
       "      <th>percent</th>\n",
       "      <th>topWords</th>\n",
       "    </tr>\n",
       "  </thead>\n",
       "  <tbody>\n",
       "    <tr>\n",
       "      <th>0</th>\n",
       "      <td>70</td>\n",
       "      <td>1651</td>\n",
       "      <td>0.050683</td>\n",
       "      <td>obra revista escrita autor opera literatura obras livros escritor texto filosofia publicada vida poeta ficcao anos filosofo nome peca trabalho escrito sido editora durante cientifica ano frances p...</td>\n",
       "    </tr>\n",
       "    <tr>\n",
       "      <th>1</th>\n",
       "      <td>71</td>\n",
       "      <td>949</td>\n",
       "      <td>0.029133</td>\n",
       "      <td>organizacao internacional nacoes paises unidas fundada desenvolvimento associacao membros mundo direitos mundial fins organizacoes lucrativos objetivo nacional politica sociedade movimento trabalh...</td>\n",
       "    </tr>\n",
       "    <tr>\n",
       "      <th>2</th>\n",
       "      <td>72</td>\n",
       "      <td>137</td>\n",
       "      <td>0.004206</td>\n",
       "      <td>templo construido dedicado localizado c templos antigo deus durante roma seculo budista cidade romano monte construcao antiga situado forum complexo provincia santuario nome dinastia salao edifici...</td>\n",
       "    </tr>\n",
       "    <tr>\n",
       "      <th>3</th>\n",
       "      <td>73</td>\n",
       "      <td>344</td>\n",
       "      <td>0.010560</td>\n",
       "      <td>espacial missao nasa nave soyuz voo lancamento onibus lancada sonda espaco orbita expedicao estacao sts marte programa norte apollo terra astronautas internacional foguete agencia missoes projeto ...</td>\n",
       "    </tr>\n",
       "    <tr>\n",
       "      <th>4</th>\n",
       "      <td>74</td>\n",
       "      <td>265</td>\n",
       "      <td>0.008135</td>\n",
       "      <td>equipa ciclista uci tour ciclismo profissional volta etapas categoria edicao estrada competicao carreira corrida calendario world ano etapa prova team carreiras anos france espanhol equipas durant...</td>\n",
       "    </tr>\n",
       "  </tbody>\n",
       "</table>\n",
       "</div>"
      ],
      "text/plain": [
       "   cluster  qtdade   percent  \\\n",
       "0       70    1651  0.050683   \n",
       "1       71     949  0.029133   \n",
       "2       72     137  0.004206   \n",
       "3       73     344  0.010560   \n",
       "4       74     265  0.008135   \n",
       "\n",
       "                                                                                                                                                                                                  topWords  \n",
       "0  obra revista escrita autor opera literatura obras livros escritor texto filosofia publicada vida poeta ficcao anos filosofo nome peca trabalho escrito sido editora durante cientifica ano frances p...  \n",
       "1  organizacao internacional nacoes paises unidas fundada desenvolvimento associacao membros mundo direitos mundial fins organizacoes lucrativos objetivo nacional politica sociedade movimento trabalh...  \n",
       "2  templo construido dedicado localizado c templos antigo deus durante roma seculo budista cidade romano monte construcao antiga situado forum complexo provincia santuario nome dinastia salao edifici...  \n",
       "3  espacial missao nasa nave soyuz voo lancamento onibus lancada sonda espaco orbita expedicao estacao sts marte programa norte apollo terra astronautas internacional foguete agencia missoes projeto ...  \n",
       "4  equipa ciclista uci tour ciclismo profissional volta etapas categoria edicao estrada competicao carreira corrida calendario world ano etapa prova team carreiras anos france espanhol equipas durant...  "
      ]
     },
     "execution_count": 1219,
     "metadata": {},
     "output_type": "execute_result"
    }
   ],
   "source": [
    "cc_c66 = pd.concat([cc_c66, pd.Series(lista_topWords)], axis=1, )\n",
    "cc_c66.columns = ['cluster', 'qtdade', 'percent', 'topWords']\n",
    "cc_c66.head()"
   ]
  },
  {
   "cell_type": "code",
   "execution_count": 1220,
   "metadata": {
    "scrolled": false
   },
   "outputs": [
    {
     "data": {
      "text/html": [
       "<div>\n",
       "<style scoped>\n",
       "    .dataframe tbody tr th:only-of-type {\n",
       "        vertical-align: middle;\n",
       "    }\n",
       "\n",
       "    .dataframe tbody tr th {\n",
       "        vertical-align: top;\n",
       "    }\n",
       "\n",
       "    .dataframe thead th {\n",
       "        text-align: right;\n",
       "    }\n",
       "</style>\n",
       "<table border=\"1\" class=\"dataframe\">\n",
       "  <thead>\n",
       "    <tr style=\"text-align: right;\">\n",
       "      <th></th>\n",
       "      <th>qtdade</th>\n",
       "      <th>percent</th>\n",
       "      <th>topWords</th>\n",
       "    </tr>\n",
       "    <tr>\n",
       "      <th>cluster</th>\n",
       "      <th></th>\n",
       "      <th></th>\n",
       "      <th></th>\n",
       "    </tr>\n",
       "  </thead>\n",
       "  <tbody>\n",
       "    <tr>\n",
       "      <th>70</th>\n",
       "      <td>1651</td>\n",
       "      <td>0.050683</td>\n",
       "      <td>obra revista escrita autor opera literatura obras livros escritor texto filosofia publicada vida poeta ficcao anos filosofo nome peca trabalho escrito sido editora durante cientifica ano frances p...</td>\n",
       "    </tr>\n",
       "    <tr>\n",
       "      <th>71</th>\n",
       "      <td>949</td>\n",
       "      <td>0.029133</td>\n",
       "      <td>organizacao internacional nacoes paises unidas fundada desenvolvimento associacao membros mundo direitos mundial fins organizacoes lucrativos objetivo nacional politica sociedade movimento trabalh...</td>\n",
       "    </tr>\n",
       "    <tr>\n",
       "      <th>72</th>\n",
       "      <td>137</td>\n",
       "      <td>0.004206</td>\n",
       "      <td>templo construido dedicado localizado c templos antigo deus durante roma seculo budista cidade romano monte construcao antiga situado forum complexo provincia santuario nome dinastia salao edifici...</td>\n",
       "    </tr>\n",
       "    <tr>\n",
       "      <th>73</th>\n",
       "      <td>344</td>\n",
       "      <td>0.010560</td>\n",
       "      <td>espacial missao nasa nave soyuz voo lancamento onibus lancada sonda espaco orbita expedicao estacao sts marte programa norte apollo terra astronautas internacional foguete agencia missoes projeto ...</td>\n",
       "    </tr>\n",
       "    <tr>\n",
       "      <th>74</th>\n",
       "      <td>265</td>\n",
       "      <td>0.008135</td>\n",
       "      <td>equipa ciclista uci tour ciclismo profissional volta etapas categoria edicao estrada competicao carreira corrida calendario world ano etapa prova team carreiras anos france espanhol equipas durant...</td>\n",
       "    </tr>\n",
       "    <tr>\n",
       "      <th>75</th>\n",
       "      <td>124</td>\n",
       "      <td>0.003807</td>\n",
       "      <td>bandeira brasao azul simbolos cores nacional oficiais adotada branco vermelho lei cruz bandeiras armas verde desenho hino durante usada atual vermelha consiste simbolo republica municipal municipi...</td>\n",
       "    </tr>\n",
       "    <tr>\n",
       "      <th>76</th>\n",
       "      <td>1177</td>\n",
       "      <td>0.036132</td>\n",
       "      <td>historia anos durante mundo nome conta vida sendo longo serie pais escrita antiga obra ano sido estudo cidade origem terra pre antigo seculo chamado homem epoca muitas pessoas comeca idade histori...</td>\n",
       "    </tr>\n",
       "    <tr>\n",
       "      <th>77</th>\n",
       "      <td>1464</td>\n",
       "      <td>0.044942</td>\n",
       "      <td>pessoas social sociedade sexual mulheres direitos sociais trabalho economia politica pessoa movimento vida pais sexo psicologia saude mundo genero anos lei desenvolvimento sendo comportamento grup...</td>\n",
       "    </tr>\n",
       "    <tr>\n",
       "      <th>78</th>\n",
       "      <td>897</td>\n",
       "      <td>0.027536</td>\n",
       "      <td>dia ano festival evento anos durante festa dias calendario edicao maio cidade junho dezembro abril feira fevereiro realizada pais outubro janeiro pessoas mundo sendo anualmente marco realizado set...</td>\n",
       "    </tr>\n",
       "    <tr>\n",
       "      <th>79</th>\n",
       "      <td>11102</td>\n",
       "      <td>0.340814</td>\n",
       "      <td>nome anos durante sendo mundo pais norte cidade sido origem chamado ano acordo paises vida governo regiao varias s muitas movimento trabalho familia cerca decada base diferentes tornou principal a...</td>\n",
       "    </tr>\n",
       "    <tr>\n",
       "      <th>80</th>\n",
       "      <td>390</td>\n",
       "      <td>0.011972</td>\n",
       "      <td>uniao sovietica europeia paises russia sovietico membros tratado europeu republica pais politica anos governo russo durante socialista nome estados urss acordo ue europa republicas pacto economica...</td>\n",
       "    </tr>\n",
       "    <tr>\n",
       "      <th>81</th>\n",
       "      <td>622</td>\n",
       "      <td>0.019094</td>\n",
       "      <td>republica china relacoes popular paises governo macau durante hong kong pais russia democratica chines politica revolucao chinesa diplomaticas anos dinastia embaixada regiao independencia constitu...</td>\n",
       "    </tr>\n",
       "    <tr>\n",
       "      <th>82</th>\n",
       "      <td>2839</td>\n",
       "      <td>0.087153</td>\n",
       "      <td>portugal paulo brasileiro cidade nacional porto anos brasileira municipio federal nome santa distrito jornal sendo vila lei ano centro concelho municipal publico escola portuguesa governo rio freg...</td>\n",
       "    </tr>\n",
       "    <tr>\n",
       "      <th>83</th>\n",
       "      <td>1739</td>\n",
       "      <td>0.053384</td>\n",
       "      <td>seculo xix xx durante nome xviii xvi origem sido c xvii portugal movimento sendo metade meados anos historia europa cidade epoca xv antiga mundo regiao pais primeiros antigo tornou vida estilo con...</td>\n",
       "    </tr>\n",
       "    <tr>\n",
       "      <th>84</th>\n",
       "      <td>432</td>\n",
       "      <td>0.013262</td>\n",
       "      <td>religiao israel judeus religioes baha i cristianismo judaismo fe religiosa nome durante pais mundo historia religioso deus acordo populacao movimento jerusalem crista religiosas crencas sendo mucu...</td>\n",
       "    </tr>\n",
       "    <tr>\n",
       "      <th>85</th>\n",
       "      <td>901</td>\n",
       "      <td>0.027659</td>\n",
       "      <td>navio edificio metros construido ponte construcao torre localizado cidade construida altura hotel mesquita mundo classe catedral nome sendo villa centro mar m monumento marinha rms line antiga loc...</td>\n",
       "    </tr>\n",
       "    <tr>\n",
       "      <th>86</th>\n",
       "      <td>374</td>\n",
       "      <td>0.011481</td>\n",
       "      <td>papa bispo cardeais conclave morte roma constantinopla concilio cardeal eleicao gregorio ii joao durante paulo papal arcebispo nome pio patriarca bento vaticano i santo seculo colegio sido v anos ...</td>\n",
       "    </tr>\n",
       "    <tr>\n",
       "      <th>87</th>\n",
       "      <td>975</td>\n",
       "      <td>0.029931</td>\n",
       "      <td>mundial campeao equipe anos campeonato profissional futebol temporada torneio rugby ano jogador venceu titulo jogadores tenis piloto ranking esporte carreira mundo comecou brasileiro sendo titulos...</td>\n",
       "    </tr>\n",
       "    <tr>\n",
       "      <th>88</th>\n",
       "      <td>239</td>\n",
       "      <td>0.007337</td>\n",
       "      <td>ibne al maome abu califa califado abassida egito arabe dinastia ibn governador nome abdala siria filho omiada durante iraque fundador morte melhor islamico sultao lider emir omar mesquita amade i ...</td>\n",
       "    </tr>\n",
       "    <tr>\n",
       "      <th>89</th>\n",
       "      <td>960</td>\n",
       "      <td>0.029470</td>\n",
       "      <td>aeronave motor modelo voo aerea carro aviao produzido aeronaves passageiros transporte sendo motores projeto desenvolvido versao c automovel decada producao anos veiculo forca aereo durante nome p...</td>\n",
       "    </tr>\n",
       "    <tr>\n",
       "      <th>90</th>\n",
       "      <td>670</td>\n",
       "      <td>0.020568</td>\n",
       "      <td>reino unido banco durante pais anos bank governo portugal fundado norte inglaterra paises nome irlanda real mundo central tratado britanico coroa londres sede seculo espanha instituicao politica t...</td>\n",
       "    </tr>\n",
       "    <tr>\n",
       "      <th>91</th>\n",
       "      <td>423</td>\n",
       "      <td>0.012985</td>\n",
       "      <td>ordem religiosa santa nome mosteiro seculo fundada vida convento cruz portugal frades membros nacional catolica cavaleiros mestre sendo d cidade publica sido santo francisco anos cristo ano tendo ...</td>\n",
       "    </tr>\n",
       "    <tr>\n",
       "      <th>92</th>\n",
       "      <td>600</td>\n",
       "      <td>0.018419</td>\n",
       "      <td>cultura cultural historia culturais durante nome mundo anos seculo sociedade periodo pais politica arte c regiao origem pre patrimonio popular norte principalmente lingua sendo centro desenvolvime...</td>\n",
       "    </tr>\n",
       "    <tr>\n",
       "      <th>93</th>\n",
       "      <td>1348</td>\n",
       "      <td>0.041381</td>\n",
       "      <td>serie personagem personagens jogos manga disney criado nome anime animacao filme anos mundo filmes lancado franquia historia sendo principal jogo ficticio pokemon game the nintendo protagonista cr...</td>\n",
       "    </tr>\n",
       "    <tr>\n",
       "      <th>94</th>\n",
       "      <td>247</td>\n",
       "      <td>0.007583</td>\n",
       "      <td>jesus capitulo evangelho testamento mateus lucas biblia cristo evangelhos parabola marcos joao atos aparece apostolos deus vida cristianismo crista jerusalem relato canonicos nome morte parabolas ...</td>\n",
       "    </tr>\n",
       "    <tr>\n",
       "      <th>95</th>\n",
       "      <td>878</td>\n",
       "      <td>0.026953</td>\n",
       "      <td>periodo durante anos historia cla nome japao epoca idade c seculo antiga cerca dinastia antigo tokugawa sendo cidade governo milhoes egito ano regiao primeiros vida decada terra aproximadamente si...</td>\n",
       "    </tr>\n",
       "    <tr>\n",
       "      <th>96</th>\n",
       "      <td>615</td>\n",
       "      <td>0.018880</td>\n",
       "      <td>deus mitologia nome grega deuses deusa mundo filho antiga terra vida sendo divindade significa homem grego antigo natureza romana zeus palavra existencia crista ceu origem sol seres muitas religia...</td>\n",
       "    </tr>\n",
       "    <tr>\n",
       "      <th>97</th>\n",
       "      <td>213</td>\n",
       "      <td>0.006539</td>\n",
       "      <td>canal televisao canais programas programacao tv network publico rede assinatura youtube propriedade horas cabo television lancado dia cartoon anos nome noticias series outubro transmissao bbc fran...</td>\n",
       "    </tr>\n",
       "  </tbody>\n",
       "</table>\n",
       "</div>"
      ],
      "text/plain": [
       "         qtdade   percent  \\\n",
       "cluster                     \n",
       "70         1651  0.050683   \n",
       "71          949  0.029133   \n",
       "72          137  0.004206   \n",
       "73          344  0.010560   \n",
       "74          265  0.008135   \n",
       "75          124  0.003807   \n",
       "76         1177  0.036132   \n",
       "77         1464  0.044942   \n",
       "78          897  0.027536   \n",
       "79        11102  0.340814   \n",
       "80          390  0.011972   \n",
       "81          622  0.019094   \n",
       "82         2839  0.087153   \n",
       "83         1739  0.053384   \n",
       "84          432  0.013262   \n",
       "85          901  0.027659   \n",
       "86          374  0.011481   \n",
       "87          975  0.029931   \n",
       "88          239  0.007337   \n",
       "89          960  0.029470   \n",
       "90          670  0.020568   \n",
       "91          423  0.012985   \n",
       "92          600  0.018419   \n",
       "93         1348  0.041381   \n",
       "94          247  0.007583   \n",
       "95          878  0.026953   \n",
       "96          615  0.018880   \n",
       "97          213  0.006539   \n",
       "\n",
       "                                                                                                                                                                                                        topWords  \n",
       "cluster                                                                                                                                                                                                           \n",
       "70       obra revista escrita autor opera literatura obras livros escritor texto filosofia publicada vida poeta ficcao anos filosofo nome peca trabalho escrito sido editora durante cientifica ano frances p...  \n",
       "71       organizacao internacional nacoes paises unidas fundada desenvolvimento associacao membros mundo direitos mundial fins organizacoes lucrativos objetivo nacional politica sociedade movimento trabalh...  \n",
       "72       templo construido dedicado localizado c templos antigo deus durante roma seculo budista cidade romano monte construcao antiga situado forum complexo provincia santuario nome dinastia salao edifici...  \n",
       "73       espacial missao nasa nave soyuz voo lancamento onibus lancada sonda espaco orbita expedicao estacao sts marte programa norte apollo terra astronautas internacional foguete agencia missoes projeto ...  \n",
       "74       equipa ciclista uci tour ciclismo profissional volta etapas categoria edicao estrada competicao carreira corrida calendario world ano etapa prova team carreiras anos france espanhol equipas durant...  \n",
       "75       bandeira brasao azul simbolos cores nacional oficiais adotada branco vermelho lei cruz bandeiras armas verde desenho hino durante usada atual vermelha consiste simbolo republica municipal municipi...  \n",
       "76       historia anos durante mundo nome conta vida sendo longo serie pais escrita antiga obra ano sido estudo cidade origem terra pre antigo seculo chamado homem epoca muitas pessoas comeca idade histori...  \n",
       "77       pessoas social sociedade sexual mulheres direitos sociais trabalho economia politica pessoa movimento vida pais sexo psicologia saude mundo genero anos lei desenvolvimento sendo comportamento grup...  \n",
       "78       dia ano festival evento anos durante festa dias calendario edicao maio cidade junho dezembro abril feira fevereiro realizada pais outubro janeiro pessoas mundo sendo anualmente marco realizado set...  \n",
       "79       nome anos durante sendo mundo pais norte cidade sido origem chamado ano acordo paises vida governo regiao varias s muitas movimento trabalho familia cerca decada base diferentes tornou principal a...  \n",
       "80       uniao sovietica europeia paises russia sovietico membros tratado europeu republica pais politica anos governo russo durante socialista nome estados urss acordo ue europa republicas pacto economica...  \n",
       "81       republica china relacoes popular paises governo macau durante hong kong pais russia democratica chines politica revolucao chinesa diplomaticas anos dinastia embaixada regiao independencia constitu...  \n",
       "82       portugal paulo brasileiro cidade nacional porto anos brasileira municipio federal nome santa distrito jornal sendo vila lei ano centro concelho municipal publico escola portuguesa governo rio freg...  \n",
       "83       seculo xix xx durante nome xviii xvi origem sido c xvii portugal movimento sendo metade meados anos historia europa cidade epoca xv antiga mundo regiao pais primeiros antigo tornou vida estilo con...  \n",
       "84       religiao israel judeus religioes baha i cristianismo judaismo fe religiosa nome durante pais mundo historia religioso deus acordo populacao movimento jerusalem crista religiosas crencas sendo mucu...  \n",
       "85       navio edificio metros construido ponte construcao torre localizado cidade construida altura hotel mesquita mundo classe catedral nome sendo villa centro mar m monumento marinha rms line antiga loc...  \n",
       "86       papa bispo cardeais conclave morte roma constantinopla concilio cardeal eleicao gregorio ii joao durante paulo papal arcebispo nome pio patriarca bento vaticano i santo seculo colegio sido v anos ...  \n",
       "87       mundial campeao equipe anos campeonato profissional futebol temporada torneio rugby ano jogador venceu titulo jogadores tenis piloto ranking esporte carreira mundo comecou brasileiro sendo titulos...  \n",
       "88       ibne al maome abu califa califado abassida egito arabe dinastia ibn governador nome abdala siria filho omiada durante iraque fundador morte melhor islamico sultao lider emir omar mesquita amade i ...  \n",
       "89       aeronave motor modelo voo aerea carro aviao produzido aeronaves passageiros transporte sendo motores projeto desenvolvido versao c automovel decada producao anos veiculo forca aereo durante nome p...  \n",
       "90       reino unido banco durante pais anos bank governo portugal fundado norte inglaterra paises nome irlanda real mundo central tratado britanico coroa londres sede seculo espanha instituicao politica t...  \n",
       "91       ordem religiosa santa nome mosteiro seculo fundada vida convento cruz portugal frades membros nacional catolica cavaleiros mestre sendo d cidade publica sido santo francisco anos cristo ano tendo ...  \n",
       "92       cultura cultural historia culturais durante nome mundo anos seculo sociedade periodo pais politica arte c regiao origem pre patrimonio popular norte principalmente lingua sendo centro desenvolvime...  \n",
       "93       serie personagem personagens jogos manga disney criado nome anime animacao filme anos mundo filmes lancado franquia historia sendo principal jogo ficticio pokemon game the nintendo protagonista cr...  \n",
       "94       jesus capitulo evangelho testamento mateus lucas biblia cristo evangelhos parabola marcos joao atos aparece apostolos deus vida cristianismo crista jerusalem relato canonicos nome morte parabolas ...  \n",
       "95       periodo durante anos historia cla nome japao epoca idade c seculo antiga cerca dinastia antigo tokugawa sendo cidade governo milhoes egito ano regiao primeiros vida decada terra aproximadamente si...  \n",
       "96       deus mitologia nome grega deuses deusa mundo filho antiga terra vida sendo divindade significa homem grego antigo natureza romana zeus palavra existencia crista ceu origem sol seres muitas religia...  \n",
       "97       canal televisao canais programas programacao tv network publico rede assinatura youtube propriedade horas cabo television lancado dia cartoon anos nome noticias series outubro transmissao bbc fran...  "
      ]
     },
     "execution_count": 1220,
     "metadata": {},
     "output_type": "execute_result"
    }
   ],
   "source": [
    "cc_c66.set_index('cluster', inplace=True)\n",
    "cc_c66"
   ]
  },
  {
   "cell_type": "code",
   "execution_count": 1222,
   "metadata": {},
   "outputs": [
    {
     "data": {
      "text/html": [
       "<div>\n",
       "<style scoped>\n",
       "    .dataframe tbody tr th:only-of-type {\n",
       "        vertical-align: middle;\n",
       "    }\n",
       "\n",
       "    .dataframe tbody tr th {\n",
       "        vertical-align: top;\n",
       "    }\n",
       "\n",
       "    .dataframe thead th {\n",
       "        text-align: right;\n",
       "    }\n",
       "</style>\n",
       "<table border=\"1\" class=\"dataframe\">\n",
       "  <thead>\n",
       "    <tr style=\"text-align: right;\">\n",
       "      <th></th>\n",
       "      <th>qtdade</th>\n",
       "      <th>percent</th>\n",
       "      <th>topWords</th>\n",
       "    </tr>\n",
       "  </thead>\n",
       "  <tbody>\n",
       "    <tr>\n",
       "      <th>0</th>\n",
       "      <td>634</td>\n",
       "      <td>0.357314</td>\n",
       "      <td>wrestling wwe profissional luta evento championship world lutador livre nome pay per view the raw lutadores smackdown atualmente programa produzido ringue nxt trabalha campeao total ocorreu estadu...</td>\n",
       "    </tr>\n",
       "    <tr>\n",
       "      <th>1</th>\n",
       "      <td>2071</td>\n",
       "      <td>1.167188</td>\n",
       "      <td>the of serie filme and americano norte anos filmes estadunidense ator televisao in s lancado banda livro dirigido nasceu americana personagem historia nome seriado atriz papel estados john album u...</td>\n",
       "    </tr>\n",
       "    <tr>\n",
       "      <th>2</th>\n",
       "      <td>979</td>\n",
       "      <td>0.551751</td>\n",
       "      <td>palacio palazzo via seculo construido localizado roma edificio di familia villa rione residencia cidade situado piazza del casa della nome dei sede real florenca construcao antigo centro san duran...</td>\n",
       "    </tr>\n",
       "    <tr>\n",
       "      <th>3</th>\n",
       "      <td>132</td>\n",
       "      <td>0.074393</td>\n",
       "      <td>aldeia quilometros nagar distrito shaheed bhagat singh punjab india capital chandigarh sarpanch representante eleito total casas populacao administrada acordo distancia sede localizada censos elem...</td>\n",
       "    </tr>\n",
       "    <tr>\n",
       "      <th>4</th>\n",
       "      <td>1446</td>\n",
       "      <td>0.814946</td>\n",
       "      <td>programa exibido televisao brasileiro show rede apresentado tv temporada estreou brasil anos dia globo produzido canal h reality apresentador ar transmitido sbt programas sendo brasileira emissora...</td>\n",
       "    </tr>\n",
       "    <tr>\n",
       "      <th>...</th>\n",
       "      <td>...</td>\n",
       "      <td>...</td>\n",
       "      <td>...</td>\n",
       "    </tr>\n",
       "    <tr>\n",
       "      <th>93</th>\n",
       "      <td>1348</td>\n",
       "      <td>0.041381</td>\n",
       "      <td>serie personagem personagens jogos manga disney criado nome anime animacao filme anos mundo filmes lancado franquia historia sendo principal jogo ficticio pokemon game the nintendo protagonista cr...</td>\n",
       "    </tr>\n",
       "    <tr>\n",
       "      <th>94</th>\n",
       "      <td>247</td>\n",
       "      <td>0.007583</td>\n",
       "      <td>jesus capitulo evangelho testamento mateus lucas biblia cristo evangelhos parabola marcos joao atos aparece apostolos deus vida cristianismo crista jerusalem relato canonicos nome morte parabolas ...</td>\n",
       "    </tr>\n",
       "    <tr>\n",
       "      <th>95</th>\n",
       "      <td>878</td>\n",
       "      <td>0.026953</td>\n",
       "      <td>periodo durante anos historia cla nome japao epoca idade c seculo antiga cerca dinastia antigo tokugawa sendo cidade governo milhoes egito ano regiao primeiros vida decada terra aproximadamente si...</td>\n",
       "    </tr>\n",
       "    <tr>\n",
       "      <th>96</th>\n",
       "      <td>615</td>\n",
       "      <td>0.018880</td>\n",
       "      <td>deus mitologia nome grega deuses deusa mundo filho antiga terra vida sendo divindade significa homem grego antigo natureza romana zeus palavra existencia crista ceu origem sol seres muitas religia...</td>\n",
       "    </tr>\n",
       "    <tr>\n",
       "      <th>97</th>\n",
       "      <td>213</td>\n",
       "      <td>0.006539</td>\n",
       "      <td>canal televisao canais programas programacao tv network publico rede assinatura youtube propriedade horas cabo television lancado dia cartoon anos nome noticias series outubro transmissao bbc fran...</td>\n",
       "    </tr>\n",
       "  </tbody>\n",
       "</table>\n",
       "<p>97 rows × 3 columns</p>\n",
       "</div>"
      ],
      "text/plain": [
       "    qtdade   percent  \\\n",
       "0      634  0.357314   \n",
       "1     2071  1.167188   \n",
       "2      979  0.551751   \n",
       "3      132  0.074393   \n",
       "4     1446  0.814946   \n",
       "..     ...       ...   \n",
       "93    1348  0.041381   \n",
       "94     247  0.007583   \n",
       "95     878  0.026953   \n",
       "96     615  0.018880   \n",
       "97     213  0.006539   \n",
       "\n",
       "                                                                                                                                                                                                   topWords  \n",
       "0   wrestling wwe profissional luta evento championship world lutador livre nome pay per view the raw lutadores smackdown atualmente programa produzido ringue nxt trabalha campeao total ocorreu estadu...  \n",
       "1   the of serie filme and americano norte anos filmes estadunidense ator televisao in s lancado banda livro dirigido nasceu americana personagem historia nome seriado atriz papel estados john album u...  \n",
       "2   palacio palazzo via seculo construido localizado roma edificio di familia villa rione residencia cidade situado piazza del casa della nome dei sede real florenca construcao antigo centro san duran...  \n",
       "3   aldeia quilometros nagar distrito shaheed bhagat singh punjab india capital chandigarh sarpanch representante eleito total casas populacao administrada acordo distancia sede localizada censos elem...  \n",
       "4   programa exibido televisao brasileiro show rede apresentado tv temporada estreou brasil anos dia globo produzido canal h reality apresentador ar transmitido sbt programas sendo brasileira emissora...  \n",
       "..                                                                                                                                                                                                      ...  \n",
       "93  serie personagem personagens jogos manga disney criado nome anime animacao filme anos mundo filmes lancado franquia historia sendo principal jogo ficticio pokemon game the nintendo protagonista cr...  \n",
       "94  jesus capitulo evangelho testamento mateus lucas biblia cristo evangelhos parabola marcos joao atos aparece apostolos deus vida cristianismo crista jerusalem relato canonicos nome morte parabolas ...  \n",
       "95  periodo durante anos historia cla nome japao epoca idade c seculo antiga cerca dinastia antigo tokugawa sendo cidade governo milhoes egito ano regiao primeiros vida decada terra aproximadamente si...  \n",
       "96  deus mitologia nome grega deuses deusa mundo filho antiga terra vida sendo divindade significa homem grego antigo natureza romana zeus palavra existencia crista ceu origem sol seres muitas religia...  \n",
       "97  canal televisao canais programas programacao tv network publico rede assinatura youtube propriedade horas cabo television lancado dia cartoon anos nome noticias series outubro transmissao bbc fran...  \n",
       "\n",
       "[97 rows x 3 columns]"
      ]
     },
     "execution_count": 1222,
     "metadata": {},
     "output_type": "execute_result"
    }
   ],
   "source": [
    "new_cluster = pd.concat([clusters, cc_c66])\n",
    "new_cluster"
   ]
  },
  {
   "cell_type": "code",
   "execution_count": 1226,
   "metadata": {},
   "outputs": [],
   "source": [
    "#new_cluster.to_csv('new_cluster_20200408.csv')\n",
    "#df.to_csv('files_new_labels_20200408.csv')"
   ]
  },
  {
   "cell_type": "code",
   "execution_count": 1172,
   "metadata": {},
   "outputs": [],
   "source": [
    "#clusters.to_csv('analise_cluster-20200408.csv')\n",
    "#df.to_csv('files-20200408,csv')"
   ]
  },
  {
   "cell_type": "code",
   "execution_count": 1554,
   "metadata": {},
   "outputs": [
    {
     "data": {
      "text/plain": [
       "(177435, 5)"
      ]
     },
     "execution_count": 1554,
     "metadata": {},
     "output_type": "execute_result"
    }
   ],
   "source": [
    "df.shape"
   ]
  },
  {
   "cell_type": "code",
   "execution_count": 1555,
   "metadata": {},
   "outputs": [],
   "source": [
    "df['apagar'] = True"
   ]
  },
  {
   "cell_type": "code",
   "execution_count": 1556,
   "metadata": {},
   "outputs": [
    {
     "data": {
      "text/html": [
       "<div>\n",
       "<style scoped>\n",
       "    .dataframe tbody tr th:only-of-type {\n",
       "        vertical-align: middle;\n",
       "    }\n",
       "\n",
       "    .dataframe tbody tr th {\n",
       "        vertical-align: top;\n",
       "    }\n",
       "\n",
       "    .dataframe thead th {\n",
       "        text-align: right;\n",
       "    }\n",
       "</style>\n",
       "<table border=\"1\" class=\"dataframe\">\n",
       "  <thead>\n",
       "    <tr style=\"text-align: right;\">\n",
       "      <th></th>\n",
       "      <th>filename</th>\n",
       "      <th>size</th>\n",
       "      <th>firstLine</th>\n",
       "      <th>flClean</th>\n",
       "      <th>label</th>\n",
       "      <th>apagar</th>\n",
       "    </tr>\n",
       "  </thead>\n",
       "  <tbody>\n",
       "    <tr>\n",
       "      <th>0</th>\n",
       "      <td>Jacques_Benigne_Bossuet_16677.txt</td>\n",
       "      <td>2336</td>\n",
       "      <td>O caso mais exemplar de governante que adotou as ideias de Bossuet foi Luís XIV de França, chamado Rei Sol.\\nBossuet nasceu em uma família de magistrados em 1627, em Dijon, onde recebeu educação n...</td>\n",
       "      <td>caso exemplar governante adotou ideias bossuet luis xiv franca chamado rei sol bossuet nasceu familia magistrados dijon recebeu educacao colegio jesuita destinado vida religiosa recebeu tonsura an...</td>\n",
       "      <td>33</td>\n",
       "      <td>True</td>\n",
       "    </tr>\n",
       "    <tr>\n",
       "      <th>1</th>\n",
       "      <td>Marcos_Raggio_de_Salles_153555.txt</td>\n",
       "      <td>3013</td>\n",
       "      <td>Marcos Salles cresceu num ambiente em que a música estava muito presente, pois ambos os pais tocavam piano.\\nSeu pai, o médico Mecenas Salles, acompanhava com entusiasmo o movimento artístico de B...</td>\n",
       "      <td>marcos salles cresceu ambiente musica presente pais tocavam piano pai medico mecenas salles acompanhava entusiasmo movimento artistico belem anos salles interessa violino toma aulas professor ital...</td>\n",
       "      <td>33</td>\n",
       "      <td>True</td>\n",
       "    </tr>\n",
       "    <tr>\n",
       "      <th>2</th>\n",
       "      <td>Mariner_10_59459.txt</td>\n",
       "      <td>2191</td>\n",
       "      <td>MESSENGER a Mercúrio em 18 de março de 2011, a Mariner 10 era a única sonda a ter visitado o planeta Mercúrio.\\nFoi a última missão do Programa Mariner sendo que as duas missões seguintes tiveram ...</td>\n",
       "      <td>messenger mercurio marco mariner unica sonda visitado planeta mercurio ultima missao programa mariner sendo missoes seguintes designacao alterada voyager mariner missao primaria estudo planetas me...</td>\n",
       "      <td>73</td>\n",
       "      <td>True</td>\n",
       "    </tr>\n",
       "    <tr>\n",
       "      <th>3</th>\n",
       "      <td>Antonio_Torres_Galvao_54382.txt</td>\n",
       "      <td>2095</td>\n",
       "      <td>As suas qualidades pessoais, na oratória e nas relações interpessoais, e capacidade intelectual, levaram-no às funções de pastor da Assembleia de Deus e juiz vogal do Tribunal Regional do Trabalho...</td>\n",
       "      <td>qualidades pessoais oratoria relacoes interpessoais capacidade intelectual levaram funcoes pastor assembleia deus juiz vogal tribunal regional trabalho pernambuco direito deveres trabalhadores res...</td>\n",
       "      <td>23</td>\n",
       "      <td>True</td>\n",
       "    </tr>\n",
       "    <tr>\n",
       "      <th>4</th>\n",
       "      <td>Thunderbolts_52556.txt</td>\n",
       "      <td>5805</td>\n",
       "      <td>Sua atual formação tem o intuito de ajudar porém ainda com métodos não muito heroicos.\\nO grupo que foi reunido pelo Hulk Vermelho é formado por: Deadpool, Justiceiro, Elektra, Motoqueiro Fantasma...</td>\n",
       "      <td>atual formacao intuito ajudar metodos heroicos reunido hulk vermelho formado deadpool justiceiro elektra motoqueiro fantasma venomos thunderbolts herois heroico marvel sendo muitas viloes formacoe...</td>\n",
       "      <td>79</td>\n",
       "      <td>True</td>\n",
       "    </tr>\n",
       "  </tbody>\n",
       "</table>\n",
       "</div>"
      ],
      "text/plain": [
       "                             filename  size  \\\n",
       "0   Jacques_Benigne_Bossuet_16677.txt  2336   \n",
       "1  Marcos_Raggio_de_Salles_153555.txt  3013   \n",
       "2                Mariner_10_59459.txt  2191   \n",
       "3     Antonio_Torres_Galvao_54382.txt  2095   \n",
       "4              Thunderbolts_52556.txt  5805   \n",
       "\n",
       "                                                                                                                                                                                                 firstLine  \\\n",
       "0  O caso mais exemplar de governante que adotou as ideias de Bossuet foi Luís XIV de França, chamado Rei Sol.\\nBossuet nasceu em uma família de magistrados em 1627, em Dijon, onde recebeu educação n...   \n",
       "1  Marcos Salles cresceu num ambiente em que a música estava muito presente, pois ambos os pais tocavam piano.\\nSeu pai, o médico Mecenas Salles, acompanhava com entusiasmo o movimento artístico de B...   \n",
       "2  MESSENGER a Mercúrio em 18 de março de 2011, a Mariner 10 era a única sonda a ter visitado o planeta Mercúrio.\\nFoi a última missão do Programa Mariner sendo que as duas missões seguintes tiveram ...   \n",
       "3  As suas qualidades pessoais, na oratória e nas relações interpessoais, e capacidade intelectual, levaram-no às funções de pastor da Assembleia de Deus e juiz vogal do Tribunal Regional do Trabalho...   \n",
       "4  Sua atual formação tem o intuito de ajudar porém ainda com métodos não muito heroicos.\\nO grupo que foi reunido pelo Hulk Vermelho é formado por: Deadpool, Justiceiro, Elektra, Motoqueiro Fantasma...   \n",
       "\n",
       "                                                                                                                                                                                                   flClean  \\\n",
       "0  caso exemplar governante adotou ideias bossuet luis xiv franca chamado rei sol bossuet nasceu familia magistrados dijon recebeu educacao colegio jesuita destinado vida religiosa recebeu tonsura an...   \n",
       "1  marcos salles cresceu ambiente musica presente pais tocavam piano pai medico mecenas salles acompanhava entusiasmo movimento artistico belem anos salles interessa violino toma aulas professor ital...   \n",
       "2  messenger mercurio marco mariner unica sonda visitado planeta mercurio ultima missao programa mariner sendo missoes seguintes designacao alterada voyager mariner missao primaria estudo planetas me...   \n",
       "3  qualidades pessoais oratoria relacoes interpessoais capacidade intelectual levaram funcoes pastor assembleia deus juiz vogal tribunal regional trabalho pernambuco direito deveres trabalhadores res...   \n",
       "4  atual formacao intuito ajudar metodos heroicos reunido hulk vermelho formado deadpool justiceiro elektra motoqueiro fantasma venomos thunderbolts herois heroico marvel sendo muitas viloes formacoe...   \n",
       "\n",
       "   label  apagar  \n",
       "0     33    True  \n",
       "1     33    True  \n",
       "2     73    True  \n",
       "3     23    True  \n",
       "4     79    True  "
      ]
     },
     "execution_count": 1556,
     "metadata": {},
     "output_type": "execute_result"
    }
   ],
   "source": [
    "df.head()"
   ]
  },
  {
   "cell_type": "code",
   "execution_count": 1846,
   "metadata": {},
   "outputs": [
    {
     "data": {
      "text/plain": [
       "(74, 6)"
      ]
     },
     "execution_count": 1846,
     "metadata": {},
     "output_type": "execute_result"
    }
   ],
   "source": [
    "df[(df.label==97) & (df['size'] > 5000)].shape"
   ]
  },
  {
   "cell_type": "code",
   "execution_count": 1847,
   "metadata": {},
   "outputs": [],
   "source": [
    "df.loc[(df.label==97) & (df['size'] > 5000), 'apagar'] = False"
   ]
  },
  {
   "cell_type": "code",
   "execution_count": 13,
   "metadata": {},
   "outputs": [
    {
     "data": {
      "text/plain": [
       "111094"
      ]
     },
     "execution_count": 13,
     "metadata": {},
     "output_type": "execute_result"
    }
   ],
   "source": [
    "df.apagar.sum()"
   ]
  },
  {
   "cell_type": "code",
   "execution_count": 1851,
   "metadata": {},
   "outputs": [],
   "source": [
    "# df.to_csv('analise-cluster-final.csv', index=False)"
   ]
  },
  {
   "cell_type": "code",
   "execution_count": 12,
   "metadata": {},
   "outputs": [
    {
     "data": {
      "text/html": [
       "<div>\n",
       "<style scoped>\n",
       "    .dataframe tbody tr th:only-of-type {\n",
       "        vertical-align: middle;\n",
       "    }\n",
       "\n",
       "    .dataframe tbody tr th {\n",
       "        vertical-align: top;\n",
       "    }\n",
       "\n",
       "    .dataframe thead th {\n",
       "        text-align: right;\n",
       "    }\n",
       "</style>\n",
       "<table border=\"1\" class=\"dataframe\">\n",
       "  <thead>\n",
       "    <tr style=\"text-align: right;\">\n",
       "      <th></th>\n",
       "      <th>filename</th>\n",
       "      <th>size</th>\n",
       "      <th>firstLine</th>\n",
       "      <th>flClean</th>\n",
       "      <th>label</th>\n",
       "      <th>apagar</th>\n",
       "    </tr>\n",
       "  </thead>\n",
       "  <tbody>\n",
       "    <tr>\n",
       "      <th>0</th>\n",
       "      <td>Jacques_Benigne_Bossuet_16677.txt</td>\n",
       "      <td>2336</td>\n",
       "      <td>O caso mais exemplar de governante que adotou ...</td>\n",
       "      <td>caso exemplar governante adotou ideias bossuet...</td>\n",
       "      <td>33</td>\n",
       "      <td>True</td>\n",
       "    </tr>\n",
       "    <tr>\n",
       "      <th>1</th>\n",
       "      <td>Marcos_Raggio_de_Salles_153555.txt</td>\n",
       "      <td>3013</td>\n",
       "      <td>Marcos Salles cresceu num ambiente em que a mú...</td>\n",
       "      <td>marcos salles cresceu ambiente musica presente...</td>\n",
       "      <td>33</td>\n",
       "      <td>True</td>\n",
       "    </tr>\n",
       "    <tr>\n",
       "      <th>2</th>\n",
       "      <td>Mariner_10_59459.txt</td>\n",
       "      <td>2191</td>\n",
       "      <td>MESSENGER a Mercúrio em 18 de março de 2011, a...</td>\n",
       "      <td>messenger mercurio marco mariner unica sonda v...</td>\n",
       "      <td>73</td>\n",
       "      <td>False</td>\n",
       "    </tr>\n",
       "    <tr>\n",
       "      <th>3</th>\n",
       "      <td>Antonio_Torres_Galvao_54382.txt</td>\n",
       "      <td>2095</td>\n",
       "      <td>As suas qualidades pessoais, na oratória e nas...</td>\n",
       "      <td>qualidades pessoais oratoria relacoes interpes...</td>\n",
       "      <td>23</td>\n",
       "      <td>True</td>\n",
       "    </tr>\n",
       "    <tr>\n",
       "      <th>4</th>\n",
       "      <td>Thunderbolts_52556.txt</td>\n",
       "      <td>5805</td>\n",
       "      <td>Sua atual formação tem o intuito de ajudar por...</td>\n",
       "      <td>atual formacao intuito ajudar metodos heroicos...</td>\n",
       "      <td>79</td>\n",
       "      <td>False</td>\n",
       "    </tr>\n",
       "  </tbody>\n",
       "</table>\n",
       "</div>"
      ],
      "text/plain": [
       "                             filename  size  \\\n",
       "0   Jacques_Benigne_Bossuet_16677.txt  2336   \n",
       "1  Marcos_Raggio_de_Salles_153555.txt  3013   \n",
       "2                Mariner_10_59459.txt  2191   \n",
       "3     Antonio_Torres_Galvao_54382.txt  2095   \n",
       "4              Thunderbolts_52556.txt  5805   \n",
       "\n",
       "                                           firstLine  \\\n",
       "0  O caso mais exemplar de governante que adotou ...   \n",
       "1  Marcos Salles cresceu num ambiente em que a mú...   \n",
       "2  MESSENGER a Mercúrio em 18 de março de 2011, a...   \n",
       "3  As suas qualidades pessoais, na oratória e nas...   \n",
       "4  Sua atual formação tem o intuito de ajudar por...   \n",
       "\n",
       "                                             flClean  label  apagar  \n",
       "0  caso exemplar governante adotou ideias bossuet...     33    True  \n",
       "1  marcos salles cresceu ambiente musica presente...     33    True  \n",
       "2  messenger mercurio marco mariner unica sonda v...     73   False  \n",
       "3  qualidades pessoais oratoria relacoes interpes...     23    True  \n",
       "4  atual formacao intuito ajudar metodos heroicos...     79   False  "
      ]
     },
     "execution_count": 12,
     "metadata": {},
     "output_type": "execute_result"
    }
   ],
   "source": [
    "# df = pd.read_csv('analise-cluster-final.csv')\n",
    "df.head()"
   ]
  },
  {
   "cell_type": "code",
   "execution_count": 15,
   "metadata": {},
   "outputs": [],
   "source": [
    "for _, f in df[['filename', 'apagar']][df.apagar].iterrows():\n",
    "    file = dest/f['filename']\n",
    "    if file.exists(): file.unlink()"
   ]
  },
  {
   "cell_type": "code",
   "execution_count": 16,
   "metadata": {},
   "outputs": [
    {
     "name": "stdout",
     "output_type": "stream",
     "text": [
      "66341\r\n"
     ]
    }
   ],
   "source": [
    "! ls -l {dest} | egrep -c '^-'"
   ]
  },
  {
   "cell_type": "markdown",
   "metadata": {
    "heading_collapsed": true,
    "hidden": true,
    "nbpresent": {
     "id": "575fa672-7b3a-4238-923f-ec929d3a00ee"
    }
   },
   "source": [
    "### Size of downloaded data in the docs folder"
   ]
  },
  {
   "cell_type": "code",
   "execution_count": 17,
   "metadata": {
    "hidden": true,
    "nbpresent": {
     "id": "270470c2-e0eb-446a-9654-de6c45bc4f0d"
    }
   },
   "outputs": [
    {
     "name": "stdout",
     "output_type": "stream",
     "text": [
      "66.341 files - 96.838.303 tokens - 1.919.394 unique tokens\n",
      "CPU times: user 29.1 s, sys: 1.67 s, total: 30.8 s\n",
      "Wall time: 35.4 s\n"
     ]
    }
   ],
   "source": [
    "%%time\n",
    "# analisando o numero de arquivos e tokens na pasta onde estão os artigos do wiki\n",
    "\n",
    "num_files, num_tokens,num_unique_tokens = get_num_tokens(dest)\n",
    "print(f'{num_files:n} files - {num_tokens:n} tokens - {num_unique_tokens:n} unique tokens')"
   ]
  },
  {
   "cell_type": "markdown",
   "metadata": {},
   "source": [
    "O objetivo era de 100 milhões de tokens. Essa limpeza chegou a 96 milhões"
   ]
  },
  {
   "cell_type": "code",
   "execution_count": null,
   "metadata": {},
   "outputs": [],
   "source": []
  }
 ],
 "metadata": {
  "kernelspec": {
   "display_name": "Python 3",
   "language": "python",
   "name": "python3"
  },
  "language_info": {
   "codemirror_mode": {
    "name": "ipython",
    "version": 3
   },
   "file_extension": ".py",
   "mimetype": "text/x-python",
   "name": "python",
   "nbconvert_exporter": "python",
   "pygments_lexer": "ipython3",
   "version": "3.7.7"
  }
 },
 "nbformat": 4,
 "nbformat_minor": 2
}
